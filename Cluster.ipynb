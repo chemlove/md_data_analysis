{
 "cells": [
  {
   "cell_type": "markdown",
   "metadata": {},
   "source": [
    "# Cluster"
   ]
  },
  {
   "cell_type": "code",
   "execution_count": null,
   "metadata": {},
   "outputs": [],
   "source": []
  },
  {
   "cell_type": "code",
   "execution_count": 98,
   "metadata": {},
   "outputs": [],
   "source": [
    "\n",
    "from __future__ import print_function\n",
    "import random\n",
    "from collections import defaultdict\n",
    "import mdtraj as md\n",
    "import numpy as np\n",
    "import scipy.cluster.hierarchy\n",
    "import pickle\n",
    "import msmbuilder.cluster as msmcluster"
   ]
  },
  {
   "cell_type": "code",
   "execution_count": 72,
   "metadata": {},
   "outputs": [],
   "source": [
    "traj_notes = ['5NJY_pH70_md1','5NJY_pH70_md2','5NJY_pH70_md3','5NJY_F238L_pH70_md1',\n",
    "                 '5NJY_F238L_pH70_md2','5NJY_F238L_pH70_md3','5NJY_I233T_pH70_md4',\n",
    "                  '5NJY_I233T_pH70_md2','5NJY_I233T_pH70_md3','5NJY_F238LI233T_pH70_md1',\n",
    "                  '5NJY_F238LI233T_pH70_md2','5NJY_F238LI233T_pH70_md3','5NJY_pH46_md1','5NJY_pH46_md2','5NJY_pH46_md3','5NJY_F238L_pH46_md1',\n",
    "                 '5NJY_F238L_pH46_md2','5NJY_F238L_pH46_md3','5NJY_I233T_pH46_md1',\n",
    "                  '5NJY_I233T_pH46_md2','5NJY_I233T_pH46_md3','5NJY_F238LI233T_pH46_md1',\n",
    "                  '5NJY_F238LI233T_pH46_md2','5NJY_F238LI233T_pH46_md3','4HFI_pH46_md1','4HFI_pH46_md2','4HFI_pH46_md3','4HFI_F238L_pH46_md1',\n",
    "                 '4HFI_F238L_pH46_md2','4HFI_F238L_pH46_md3','4HFI_I233T_pH46_md1',\n",
    "                  '4HFI_I233T_pH46_md2','4HFI_I233T_pH46_md3','4HFI_F238LI233T_pH46_md1',\n",
    "                  '4HFI_F238LI233T_pH46_md2','4HFI_F238LI233T_pH46_md3','4NPQ_pH70_md5','4NPQ_pH70_md6','4NPQ_pH70_md7','4NPQ_F238L_pH70_md3',\n",
    "                 '4NPQ_F238L_pH70_md4','4NPQ_F238L_pH70_md5','4NPQ_I233T_pH70_md3',\n",
    "                  '4NPQ_I233T_pH70_md4','4NPQ_I233T_pH70_md5','4NPQ_F238LI233T_pH70_md3',\n",
    "                  '4NPQ_F238LI233T_pH70_md4','4NPQ_F238LI233T_pH70_md5']"
   ]
  },
  {
   "cell_type": "code",
   "execution_count": 93,
   "metadata": {},
   "outputs": [],
   "source": [
    "def rmsd_ward_cluster(traj_note,location = '/media/scottzhuang/data/MD/', skip=10):\n",
    "    top_location = traj_note + '/' + traj_note + \".ca.pdb\"\n",
    "    traj_location = traj_note + '/' + traj_note + \".skip\" + str(skip) + \".ca.xtc\"\n",
    "    traj = md.load(location + traj_location,top = location + top_location)\n",
    "    traj = traj.atom_slice(traj.topology.select('resSeq 198 to 315'))\n",
    "    traj.superpose(traj,0)\n",
    "    traj.unitcell_lengths = None\n",
    "    traj.unitcell_angles = None\n",
    "\n",
    "    distances = np.empty((traj.n_frames, traj.n_frames))\n",
    "    for i in range(traj.n_frames):\n",
    "        distances[i] = md.rmsd(traj, traj, i)\n",
    "    print('In ' + traj_note)\n",
    "    print('Max pairwise rmsd: %f nm' % np.max(distances))\n",
    "    reduced_distances = squareform(distances, checks=False)\n",
    "    n_clusters = 3\n",
    "    linkage = scipy.cluster.hierarchy.ward(reduced_distances)\n",
    "    labels = scipy.cluster.hierarchy.fcluster(linkage, t=n_clusters, criterion='maxclust')    \n",
    "    print(labels)\n",
    "    mapping = defaultdict(lambda : [])\n",
    "    for i, label in enumerate(labels):\n",
    "        mapping[label].append(i)\n",
    "\n",
    "    print(mapping)\n",
    "    n_leaders_per_cluster = 2\n",
    "    leaders = md.Trajectory(xyz=np.empty((0, traj.n_atoms, 3)),\n",
    "                            topology=traj.topology)\n",
    "    leader_labels = []\n",
    "    for label, indices in mapping.items():\n",
    "        leaders = leaders.join(traj[np.random.choice(indices, n_leaders_per_cluster)])\n",
    "        leader_labels.extend([label] * n_leaders_per_cluster)\n",
    "    print(leaders)\n",
    "    print(leader_labels)\n",
    "    labels = []\n",
    "    for frame in traj:\n",
    "        labels.append(leader_labels[np.argmin(md.rmsd(leaders, frame, 0))])\n",
    "    labels = np.array(labels)\n",
    "#    leaders.save_pdb('ward_cluster.pdb')\n",
    "    if labels[0] == 2:\n",
    "        labels = labels % 2 + 1\n",
    "    elif labels[0] == 3:\n",
    "        labels = labels % 3 + 1\n",
    "\n",
    "    print(labels)\n",
    "\n",
    "    with open(location + traj_note + '/ward_cluster_labels.pickle', 'wb') as f:\n",
    "        pickle.dump(labels, f, pickle.HIGHEST_PROTOCOL)"
   ]
  },
  {
   "cell_type": "code",
   "execution_count": 117,
   "metadata": {},
   "outputs": [],
   "source": [
    "def msm_builder_cluster(traj_note,location = '/media/scottzhuang/data/MD/', skip=10):\n",
    "    top_location = traj_note + '/' + traj_note + \".protein.pdb\"\n",
    "    traj_location = traj_note + '/' + traj_note + \".skip\" + str(skip) + \".protein.xtc\"\n",
    "    traj = md.load(location + traj_location,top = location + top_location)\n",
    "    traj.superpose(traj,0)\n",
    "    dataset = []\n",
    "    indices, phi = md.compute_phi(traj)\n",
    "    dataset.append(phi)\n",
    "    cluster = msmcluster.KMeans(n_clusters=2)\n",
    "    cluster.fit(dataset)\n",
    "\n",
    "    print(cluster.labels_)"
   ]
  },
  {
   "cell_type": "code",
   "execution_count": 118,
   "metadata": {},
   "outputs": [
    {
     "name": "stdout",
     "output_type": "stream",
     "text": [
      "[array([1, 1, 1, 1, 1, 1, 0, 1, 1, 1, 1, 1, 1, 1, 1, 1, 1, 1, 1, 1, 1, 1, 0,\n",
      "       1, 1, 0, 1, 1, 0, 1, 1, 0, 1, 1, 1, 0, 0, 0, 1, 1, 1, 0, 0, 0, 0, 0,\n",
      "       0, 0, 1, 0, 1, 0, 0, 0, 0, 0, 1, 0, 0, 1, 0, 0, 0, 1, 0, 1, 1, 1, 1,\n",
      "       0, 0, 0, 0, 1, 1, 1, 0, 1, 0, 0, 1, 1, 0, 0, 1, 0, 0, 0, 0, 0, 0, 1,\n",
      "       1, 0, 1, 0, 1, 1, 1, 1, 0], dtype=int32)]\n"
     ]
    }
   ],
   "source": [
    "msm_builder_cluster('4HFI_F238LI233T_pH46_md2')"
   ]
  },
  {
   "cell_type": "code",
   "execution_count": null,
   "metadata": {},
   "outputs": [],
   "source": [
    "from joblib import Parallel, delayed\n",
    "import multiprocessing\n",
    "num_cores = multiprocessing.cpu_count()\n",
    "Parallel(n_jobs=num_cores)(delayed(rmsd_ward_cluster)(traj_note) for traj_note in traj_notes)"
   ]
  },
  {
   "cell_type": "code",
   "execution_count": null,
   "metadata": {},
   "outputs": [],
   "source": []
  }
 ],
 "metadata": {
  "kernelspec": {
   "display_name": "deepchem",
   "language": "python",
   "name": "deepchem"
  },
  "language_info": {
   "codemirror_mode": {
    "name": "ipython",
    "version": 3
   },
   "file_extension": ".py",
   "mimetype": "text/x-python",
   "name": "python",
   "nbconvert_exporter": "python",
   "pygments_lexer": "ipython3",
   "version": "3.5.4"
  }
 },
 "nbformat": 4,
 "nbformat_minor": 2
}
