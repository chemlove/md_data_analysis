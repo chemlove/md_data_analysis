{
 "cells": [
  {
   "cell_type": "markdown",
   "metadata": {},
   "source": [
    "# Feature Extract"
   ]
  },
  {
   "cell_type": "markdown",
   "metadata": {},
   "source": [
    "Usage: function plotting will plot rmsd, rmsd histogram, rmsf and PCA projection"
   ]
  },
  {
   "cell_type": "markdown",
   "metadata": {},
   "source": [
    "## Import packages"
   ]
  },
  {
   "cell_type": "code",
   "execution_count": 2,
   "metadata": {},
   "outputs": [],
   "source": [
    "from __future__ import print_function\n",
    "%matplotlib inline\n",
    "import mdtraj as md\n",
    "import numpy as np\n",
    "import matplotlib\n",
    "import matplotlib.pyplot as plt\n",
    "import scipy.cluster.hierarchy\n",
    "from scipy.spatial.distance import squareform\n",
    "import pandas as pd\n",
    "import matplotlib.gridspec as gridspec\n",
    "from mpl_toolkits.mplot3d import Axes3D\n",
    "from sklearn.decomposition import PCA\n",
    "import warnings\n",
    "warnings.filterwarnings('ignore')\n",
    "import MDAnalysis as mda\n",
    "#XRD Ensemble\n",
    "#28 4NPQ\n",
    "#18 4HFI\n",
    "residue_selection = 'resSeq 8 to 316'"
   ]
  },
  {
   "cell_type": "markdown",
   "metadata": {},
   "source": [
    "## Define global variables"
   ]
  },
  {
   "cell_type": "code",
   "execution_count": 3,
   "metadata": {},
   "outputs": [],
   "source": [
    "traj_notes = ['5NJY_pH70_md1','5NJY_pH70_md2','5NJY_pH70_md3','5NJY_F238L_pH70_md1',\n",
    "                 '5NJY_F238L_pH70_md2','5NJY_F238L_pH70_md3','5NJY_I233T_pH70_md4',\n",
    "                  '5NJY_I233T_pH70_md2','5NJY_I233T_pH70_md3','5NJY_F238LI233T_pH70_md1',\n",
    "                  '5NJY_F238LI233T_pH70_md2','5NJY_F238LI233T_pH70_md3','5NJY_pH46_md1','5NJY_pH46_md2','5NJY_pH46_md3','5NJY_F238L_pH46_md1',\n",
    "                 '5NJY_F238L_pH46_md2','5NJY_F238L_pH46_md3','5NJY_I233T_pH46_md1',\n",
    "                  '5NJY_I233T_pH46_md2','5NJY_I233T_pH46_md3','5NJY_F238LI233T_pH46_md1',\n",
    "                  '5NJY_F238LI233T_pH46_md2','5NJY_F238LI233T_pH46_md3','4HFI_pH46_md1','4HFI_pH46_md2','4HFI_pH46_md3','4HFI_F238L_pH46_md1',\n",
    "                 '4HFI_F238L_pH46_md2','4HFI_F238L_pH46_md3','4HFI_I233T_pH46_md1',\n",
    "                  '4HFI_I233T_pH46_md2','4HFI_I233T_pH46_md3','4HFI_F238LI233T_pH46_md1',\n",
    "                  '4HFI_F238LI233T_pH46_md2','4HFI_F238LI233T_pH46_md3','4NPQ_pH70_md5','4NPQ_pH70_md6','4NPQ_pH70_md7','4NPQ_F238L_pH70_md3',\n",
    "                 '4NPQ_F238L_pH70_md4','4NPQ_F238L_pH70_md5','4NPQ_I233T_pH70_md3',\n",
    "                  '4NPQ_I233T_pH70_md4','4NPQ_I233T_pH70_md5','4NPQ_F238LI233T_pH70_md3',\n",
    "                  '4NPQ_F238LI233T_pH70_md4','4NPQ_F238LI233T_pH70_md5']"
   ]
  },
  {
   "cell_type": "markdown",
   "metadata": {},
   "source": [
    "## Functions"
   ]
  },
  {
   "cell_type": "markdown",
   "metadata": {},
   "source": [
    "### Basic Notations"
   ]
  },
  {
   "cell_type": "code",
   "execution_count": 3,
   "metadata": {},
   "outputs": [],
   "source": [
    "def create_md_dataframe():    \n",
    "    md_data = pd.DataFrame(columns=list(['MD_name','pH','replicate','traj_time']))\n",
    "    return md_data"
   ]
  },
  {
   "cell_type": "code",
   "execution_count": 4,
   "metadata": {},
   "outputs": [],
   "source": [
    "def create_metadata(md_data= None):   \n",
    "    def append_metadata(traj_note,location = '/media/scottzhuang/data/MD/',skip=10,md_data= md_data):\n",
    "        top_location = traj_note + '/' + traj_note + \".ca.gro\"\n",
    "        traj_location = traj_note + '/' + traj_note + \".skip\" + str(skip) + \".ca.xtc\"\n",
    "        if skip == 1:\n",
    "            traj = md.load(location + traj_location,top= location + top_location,stride=10)\n",
    "        else:\n",
    "            traj = md.load(location + traj_location,top= location + top_location)\n",
    "        print(\"In \" + traj_note + \", simulation runs \" + str(10 * traj.n_frames) + \" ns.\")\n",
    "        md_name = traj_note[:traj_note.find('pH')-1]\n",
    "        pH = traj_note[traj_note.find('pH')+2:traj_note.find('pH')+4]\n",
    "        md_replicate = traj_note[-1]\n",
    "        for i in range(0,traj.n_frames):\n",
    "            md_data.loc[md_data.shape[0]+1] = [md_name,pH,md_replicate,i]\n",
    "\n",
    "    for traj_note in traj_notes:\n",
    "        append_metadata(traj_note)"
   ]
  },
  {
   "cell_type": "code",
   "execution_count": 24,
   "metadata": {},
   "outputs": [],
   "source": [
    "def create_system_notation(md_data = None):\n",
    "    system_notation = 0\n",
    "    notation = -1\n",
    "    location = '/media/scottzhuang/data/MD/'\n",
    "    skip=10\n",
    "    notations = []\n",
    "    increment = 0\n",
    "    for traj_note in traj_notes:\n",
    "        top_location = traj_note + '/' + traj_note + \".ca.gro\"\n",
    "        traj_location = traj_note + '/' + traj_note + \".skip\" + str(skip) + \".ca.xtc\"\n",
    "        traj = md.load(location + traj_location,top= location + top_location)\n",
    "        if traj_note.find('md1') >= 0:\n",
    "            notation = notation + 1\n",
    "        if traj_note == '5NJY_I233T_pH70_md4' or traj_note == '4NPQ_pH70_md5' or  traj_note == '4NPQ_F238L_pH70_md3' or traj_note == '4NPQ_I233T_pH70_md3' or traj_note == '4NPQ_F238LI233T_pH70_md3' or traj_note == '4HFI_F238L_pH46_md4':\n",
    "            notation = notation + 1\n",
    "\n",
    "        for frame in range(0,traj.n_frames):\n",
    "            notations.append(notation)\n",
    "        #if increment % 3 == 2:\n",
    "        #    notation = notation + 1\n",
    "        #increment = increment + 1 \n",
    "        \n",
    "    md_data['system'] = notations"
   ]
  },
  {
   "cell_type": "code",
   "execution_count": 6,
   "metadata": {},
   "outputs": [],
   "source": [
    "def create_cluster_data(md_data = None):\n",
    "    cluster_index = []\n",
    "    def add_cluster_data(traj_note,location = '/media/scottzhuang/data/MD/',skip=10):\n",
    "        cluster_data = pd.read_pickle(location + traj_note + '/ward_cluster_labels.pickle')\n",
    "        cluster_index.extend(cluster_data)\n",
    "    for traj_note in traj_notes:\n",
    "        add_cluster_data(traj_note)\n",
    "    md_data['cluster_index'] = cluster_index"
   ]
  },
  {
   "cell_type": "markdown",
   "metadata": {},
   "source": [
    "### Basic Features"
   ]
  },
  {
   "cell_type": "code",
   "execution_count": 117,
   "metadata": {},
   "outputs": [],
   "source": [
    "def create_rmsd_data(md_data= None,ref_name = None,select_domain = None):\n",
    "    def append_rmsd_data(traj_note,location = '/media/scottzhuang/data/MD/',ref_name = None, skip=10):\n",
    "        residue_selection_1 = \"resSeq 13 to 198\"\n",
    "        residue_selection_2 = \"resSeq 198 to 316\"\n",
    "        top_location = traj_note + '/' + traj_note + \".ca.gro\"\n",
    "        traj_location = traj_note + '/' + traj_note + \".skip\" + str(skip) + \".ca.xtc\"\n",
    "        traj = md.load(location + traj_location,top= location + top_location)\n",
    "        if select_domain == 'TMD':\n",
    "            traj = traj.atom_slice(traj.topology.select(residue_selection_2))\n",
    "        elif select_domain == 'ECD':\n",
    "            traj = traj.atom_slice(traj.topology.select(residue_selection_1))\n",
    "\n",
    "        if ref_name != None:\n",
    "            ref_location = (\"/home/scottzhuang/masterthesis/miscellanies/pdb_ensemble/\" + ref_name + \"_1.mer.pdb\")\n",
    "        else:\n",
    "            ref_location = location + top_location\n",
    "        ref_traj = md.load(ref_location)\n",
    "        if select_domain == 'TMD':\n",
    "            ref_traj = ref_traj.atom_slice(ref_traj.topology.select(residue_selection_2))\n",
    "        elif select_domain == 'ECD':\n",
    "            ref_traj = ref_traj.atom_slice(ref_traj.topology.select(residue_selection_1))\n",
    "        if traj.n_atoms != ref_traj.n_atoms:\n",
    "            traj = traj.atom_slice(traj.topology.select(residue_selection))\n",
    "        traj.superpose(ref_traj,0)\n",
    "        rmsd_data.extend(list(md.rmsd(traj, ref_traj)*10))\n",
    "    rmsd_data = []\n",
    "    for traj_note in traj_notes:\n",
    "        append_rmsd_data(traj_note,ref_name = ref_name)\n",
    "    if select_domain == 'TMD':\n",
    "        md_data['tmd_rmsd']= rmsd_data\n",
    "    elif select_domain == 'ECD':\n",
    "        md_data['ecd_rmsd']= rmsd_data\n",
    "    elif ref_name != None:\n",
    "        md_data['rmsd' + str(ref_name)]= rmsd_data\n",
    "    else:\n",
    "        md_data['rmsd']= rmsd_data"
   ]
  },
  {
   "cell_type": "raw",
   "metadata": {},
   "source": [
    "def create_selection_rmsd_data(md_data= None,ref_name = None):\n",
    "    def append_rmsd_data(traj_note,location = '/media/scottzhuang/data/MD/',ref_name = None, skip=10):\n",
    "        residue_selection_1 = \"resSeq 13 to 198\"\n",
    "        residue_selection_2 = \"resSeq 198 to 316\"\n",
    "        top_location = traj_note + '/' + traj_note + \".ca.gro\"\n",
    "        traj_location = traj_note + '/' + traj_note + \".skip\" + str(skip) + \".ca.xtc\"\n",
    "        traj = md.load(location + traj_location,top= location + top_location)\n",
    "        traj = traj.atom_slice(traj.topology.select('(resSeq 198 to 218) or (resSeq 253 to 316)'))\n",
    "\n",
    "        if ref_name != None:\n",
    "            ref_location = (\"/home/scottzhuang/masterthesis/miscellanies/pdb_ensemble/\" + ref_name + \"_1.mer.pdb\")\n",
    "        else:\n",
    "            ref_location = location + top_location\n",
    "        ref_traj = md.load(ref_location)\n",
    "        ref_traj = ref_traj.atom_slice(ref_traj.topology.select('(resSeq 198 to 218) or (resSeq 253 to 316)'))\n",
    "        if traj.n_atoms != ref_traj.n_atoms:\n",
    "            traj = traj.atom_slice(traj.topology.select('(resSeq 198 to 218) or (resSeq 253 to 316)'))\n",
    "        traj.superpose(ref_traj,0)\n",
    "        rmsd_data.extend(list(md.rmsd(traj, ref_traj)*10))\n",
    "    rmsd_data = []\n",
    "    for traj_note in traj_notes:\n",
    "        append_rmsd_data(traj_note,ref_name = ref_name)\n",
    "    md_data['rmsd_TMD_noM2'] = rmsd_data"
   ]
  },
  {
   "cell_type": "code",
   "execution_count": 30,
   "metadata": {},
   "outputs": [],
   "source": [
    "create_selection_rmsd_data(md_data,'4HFI')"
   ]
  },
  {
   "cell_type": "code",
   "execution_count": 191,
   "metadata": {},
   "outputs": [],
   "source": [
    "def create_cppca_data_m2(md_data = None,residue_selection_2 = \"(resSeq 230 to 250)\"):\n",
    "    def combined_ppca_reduced_cartesian(residue_selection_2 = \"(resSeq 230 to 250)\"):\n",
    "        wholetraj = md.load(\"/home/scottzhuang/masterthesis/miscellanies/pdb_ensemble/new_ensemble.pdb\")\n",
    "        wholetraj.superpose(wholetraj,18)\n",
    "        topology = wholetraj.topology\n",
    "        wholetraj_sliced_tmd = wholetraj.atom_slice(topology.select(residue_selection_2))\n",
    "        wholetraj_sliced_tmd.superpose(wholetraj_sliced_tmd,18)\n",
    "        ppca_tmd = PCA(n_components=5)\n",
    "        ppca_tmd.fit(wholetraj_sliced_tmd.xyz.reshape(wholetraj_sliced_tmd.n_frames, wholetraj_sliced_tmd.n_atoms * 3))\n",
    "        print(ppca_tmd.explained_variance_ratio_)\n",
    "        return wholetraj_sliced_tmd, ppca_tmd\n",
    "    \n",
    "    def append_projection_on_combined_ppca_data(traj_note, location = '/media/scottzhuang/data/MD/',skip = 10, residue_selection_2 = \"(resSeq 230 to 250)\"):\n",
    "        top_location = traj_note + '/' + traj_note + \".ca.gro\"\n",
    "        traj_location = traj_note + '/' + traj_note + \".skip\" + str(skip) + \".ca.xtc\"\n",
    "        traj = md.load(location + traj_location,top= location + top_location)\n",
    "        topology = traj.topology\n",
    "        traj_sliced_tmd = traj.atom_slice(topology.select(residue_selection_2))\n",
    "        traj_sliced_tmd.superpose(wholetraj_sliced_tmd,18)\n",
    "        reduced_cartesian_tmd_pc1.extend(ppca_tmd.transform(traj_sliced_tmd.xyz.reshape(traj_sliced_tmd.n_frames, traj_sliced_tmd.n_atoms * 3)).T[0])\n",
    "        reduced_cartesian_tmd_pc2.extend(ppca_tmd.transform(traj_sliced_tmd.xyz.reshape(traj_sliced_tmd.n_frames, traj_sliced_tmd.n_atoms * 3)).T[1])\n",
    "        reduced_cartesian_tmd_pc3.extend(ppca_tmd.transform(traj_sliced_tmd.xyz.reshape(traj_sliced_tmd.n_frames, traj_sliced_tmd.n_atoms * 3)).T[2])\n",
    "        reduced_cartesian_tmd_pc4.extend(ppca_tmd.transform(traj_sliced_tmd.xyz.reshape(traj_sliced_tmd.n_frames, traj_sliced_tmd.n_atoms * 3)).T[3])\n",
    "        reduced_cartesian_tmd_pc5.extend(ppca_tmd.transform(traj_sliced_tmd.xyz.reshape(traj_sliced_tmd.n_frames, traj_sliced_tmd.n_atoms * 3)).T[4])\n",
    "\n",
    "    wholetraj_sliced_tmd,ppca_tmd = combined_ppca_reduced_cartesian(residue_selection_2)\n",
    "    \n",
    "    reduced_cartesian_tmd_pc1 = []\n",
    "    reduced_cartesian_tmd_pc2 = []\n",
    "    reduced_cartesian_tmd_pc3 = []\n",
    "    reduced_cartesian_tmd_pc4 = []\n",
    "    reduced_cartesian_tmd_pc5 = []\n",
    "\n",
    "\n",
    "    for traj_note in traj_notes:\n",
    "        append_projection_on_combined_ppca_data(traj_note)\n",
    "    md_data['m2_pc1']= reduced_cartesian_tmd_pc1\n",
    "    md_data['m2_pc2']= reduced_cartesian_tmd_pc2\n",
    "    md_data['m2_pc3']= reduced_cartesian_tmd_pc3\n",
    "    md_data['m2_pc4']= reduced_cartesian_tmd_pc4\n",
    "    md_data['m2_pc5']= reduced_cartesian_tmd_pc5\n",
    "    "
   ]
  },
  {
   "cell_type": "code",
   "execution_count": 192,
   "metadata": {},
   "outputs": [
    {
     "name": "stdout",
     "output_type": "stream",
     "text": [
      "[ 0.73159707  0.18387465  0.0516021   0.00936811  0.00758874]\n"
     ]
    }
   ],
   "source": [
    "create_cppca_data_m2(md_data)"
   ]
  },
  {
   "cell_type": "code",
   "execution_count": 193,
   "metadata": {},
   "outputs": [
    {
     "data": {
      "text/plain": [
       "Index(['MD_name', 'pH', 'replicate', 'traj_time', 'system', 'ecd_pc1',\n",
       "       'ecd_pc2', 'tmd_pc1', 'tmd_pc2', 'wholepca_pc1', 'wholepca_pc2',\n",
       "       'wholepca_pc3', 'wholepca_pc4', 'wholepca_pc5', 'domain twist',\n",
       "       'helix tilt angle', 'helix twist angle', 'beta_expansion', 'M2_radius',\n",
       "       'ECD_radius', 'M2_M1_distance', 'M1_kink', 'hydration_data',\n",
       "       'hydration_data235_3a', 'hydration_data233_3a', 'hydration_data238_3a',\n",
       "       'hydration_data226_3a', 'hydration_data240_3a', 'hydration_data_m123',\n",
       "       'pore_profile_222', 'pore_profile_226', 'pore_profile_230',\n",
       "       'pore_profile_233', 'pore_profile_237', 'pore_profile_240', 'rmsd4NPQ',\n",
       "       'rmsd4HFI', 'rmsd5NJY', 'tmd_rmsd', 'ecd_rmsd', 'rmsd', 'cluster_index',\n",
       "       'ECD twist', 'hydration_data_236_center', 'tmd_noM2_pc1',\n",
       "       'tmd_noM2_pc2', 'rmsd_TMD_noM2', 'contact_238_246',\n",
       "       'ecd_pc1_no_expansion', 'ecd_pc2_no_expansion', 'dbscan', 'm2_pc1',\n",
       "       'm2_pc2', 'm2_pc3', 'm2_pc4', 'm2_pc5'],\n",
       "      dtype='object')"
      ]
     },
     "execution_count": 193,
     "metadata": {},
     "output_type": "execute_result"
    }
   ],
   "source": [
    "md_data.columns"
   ]
  },
  {
   "cell_type": "code",
   "execution_count": 21,
   "metadata": {},
   "outputs": [],
   "source": [
    "def create_cppca_data(md_data = None,residue_selection_1 = \"resSeq 13 to 198\", residue_selection_2 = \"resSeq 198 to 316\"):\n",
    "    def combined_ppca_reduced_cartesian(residue_selection_1 = \"resSeq 13 to 198\", residue_selection_2 = \"resSeq 198 to 316\"):\n",
    "        wholetraj = md.load(\"/home/scottzhuang/masterthesis/miscellanies/pdb_ensemble/new_ensemble.pdb\")\n",
    "        wholetraj.superpose(wholetraj,18)\n",
    "        topology = wholetraj.topology\n",
    "        wholetraj_sliced_ecd = wholetraj.atom_slice(topology.select(residue_selection_1))\n",
    "        wholetraj_sliced_ecd.superpose(wholetraj_sliced_ecd,18)\n",
    "        wholetraj_sliced_tmd = wholetraj.atom_slice(topology.select(residue_selection_2))\n",
    "        wholetraj_sliced_tmd.superpose(wholetraj_sliced_tmd,18)\n",
    "        ppca_ecd = PCA(n_components=2)\n",
    "        ppca_tmd = PCA(n_components=2)\n",
    "        partial_reduced_cartesian = [ppca_ecd.fit_transform(wholetraj_sliced_ecd.xyz.reshape(wholetraj_sliced_ecd.n_frames, wholetraj_sliced_ecd.n_atoms * 3)), ppca_tmd.fit_transform(wholetraj_sliced_tmd.xyz.reshape(wholetraj_sliced_tmd.n_frames, wholetraj_sliced_tmd.n_atoms * 3))]    \n",
    "        return partial_reduced_cartesian, wholetraj_sliced_ecd, wholetraj_sliced_tmd,ppca_ecd,ppca_tmd\n",
    "    \n",
    "    def append_projection_on_combined_ppca_data(traj_note, location = '/media/scottzhuang/data/MD/',skip = 10, residue_selection_1 = \"resSeq 13 to 198\", residue_selection_2 = \"resSeq 198 to 316\"):\n",
    "        top_location = traj_note + '/' + traj_note + \".ca.gro\"\n",
    "        traj_location = traj_note + '/' + traj_note + \".skip\" + str(skip) + \".ca.xtc\"\n",
    "        traj = md.load(location + traj_location,top= location + top_location)\n",
    "        topology = traj.topology\n",
    "        traj_sliced_ecd = traj.atom_slice(topology.select(residue_selection_1))\n",
    "        traj_sliced_tmd = traj.atom_slice(topology.select(residue_selection_2))\n",
    "\n",
    "        traj_sliced_ecd.superpose(wholetraj_sliced_ecd,18)\n",
    "        traj_sliced_tmd.superpose(wholetraj_sliced_tmd,18)\n",
    "\n",
    "        reduced_cartesian_ecd_pc1.extend(ppca_ecd.transform(traj_sliced_ecd.xyz.reshape(traj_sliced_ecd.n_frames, traj_sliced_ecd.n_atoms * 3)).T[0])\n",
    "        reduced_cartesian_ecd_pc2.extend(ppca_ecd.transform(traj_sliced_ecd.xyz.reshape(traj_sliced_ecd.n_frames, traj_sliced_ecd.n_atoms * 3)).T[1])\n",
    "        reduced_cartesian_tmd_pc1.extend(ppca_tmd.transform(traj_sliced_tmd.xyz.reshape(traj_sliced_tmd.n_frames, traj_sliced_tmd.n_atoms * 3)).T[0])\n",
    "        reduced_cartesian_tmd_pc2.extend(ppca_tmd.transform(traj_sliced_tmd.xyz.reshape(traj_sliced_tmd.n_frames, traj_sliced_tmd.n_atoms * 3)).T[1])\n",
    "\n",
    "    partial_reduced_cartesian, wholetraj_sliced_ecd,wholetraj_sliced_tmd, ppca_ecd,ppca_tmd = combined_ppca_reduced_cartesian(residue_selection_1,residue_selection_2)\n",
    "    \n",
    "    reduced_cartesian_ecd_pc1 = []\n",
    "    reduced_cartesian_ecd_pc2 = []\n",
    "    reduced_cartesian_tmd_pc1 = []\n",
    "    reduced_cartesian_tmd_pc2 = []\n",
    "\n",
    "    for traj_note in traj_notes:\n",
    "        append_projection_on_combined_ppca_data(traj_note)\n",
    "    md_data['ecd_pc1']= reduced_cartesian_ecd_pc1\n",
    "    md_data['ecd_pc2']= reduced_cartesian_ecd_pc2\n",
    "    md_data['tmd_pc1']= reduced_cartesian_tmd_pc1\n",
    "    md_data['tmd_pc2']= reduced_cartesian_tmd_pc2"
   ]
  },
  {
   "cell_type": "code",
   "execution_count": 149,
   "metadata": {},
   "outputs": [
    {
     "data": {
      "text/plain": [
       "Index(['MD_name', 'pH', 'replicate', 'traj_time', 'system', 'ecd_pc1',\n",
       "       'ecd_pc2', 'tmd_pc1', 'tmd_pc2', 'wholepca_pc1', 'wholepca_pc2',\n",
       "       'wholepca_pc3', 'wholepca_pc4', 'wholepca_pc5', 'domain twist',\n",
       "       'helix tilt angle', 'helix twist angle', 'beta_expansion', 'M2_radius',\n",
       "       'ECD_radius', 'M2_M1_distance', 'M1_kink', 'hydration_data',\n",
       "       'hydration_data235_3a', 'hydration_data233_3a', 'hydration_data238_3a',\n",
       "       'hydration_data226_3a', 'hydration_data240_3a', 'hydration_data_m123',\n",
       "       'pore_profile_222', 'pore_profile_226', 'pore_profile_230',\n",
       "       'pore_profile_233', 'pore_profile_237', 'pore_profile_240', 'rmsd4NPQ',\n",
       "       'rmsd4HFI', 'rmsd5NJY', 'tmd_rmsd', 'ecd_rmsd', 'rmsd', 'cluster_index',\n",
       "       'ECD twist', 'hydration_data_236_center', 'tmd_noM2_pc1',\n",
       "       'tmd_noM2_pc2', 'rmsd_TMD_noM2', 'contact_238_246',\n",
       "       'ecd_pc1_no_expansion', 'ecd_pc2_no_expansion'],\n",
       "      dtype='object')"
      ]
     },
     "execution_count": 149,
     "metadata": {},
     "output_type": "execute_result"
    }
   ],
   "source": [
    "md_data.columns"
   ]
  },
  {
   "cell_type": "code",
   "execution_count": 69,
   "metadata": {},
   "outputs": [],
   "source": [
    "def create_pca_data(md_data = None):\n",
    "    def ensemble_pca_cartesian():\n",
    "        wholetraj = md.load(\"/home/scottzhuang/masterthesis/miscellanies/pdb_ensemble/new_ensemble.pdb\")\n",
    "        wholetraj = wholetraj.atom_slice(wholetraj.topology.select(\"resSeq 13 to 316\"))\n",
    "        wholetraj.superpose(wholetraj,18)\n",
    "        pca = PCA(n_components=5)\n",
    "        reduced_cartesian = pca.fit_transform(wholetraj.xyz.reshape(wholetraj.n_frames,wholetraj.n_atoms *3))\n",
    "        return wholetraj, pca\n",
    "    def append_pca_data(traj_note,location = '/media/scottzhuang/data/MD/',skip = 10):\n",
    "        top_location = traj_note + '/' + traj_note + \".ca.gro\"\n",
    "        traj_location = traj_note + '/' + traj_note + \".skip\" + str(skip) + \".ca.xtc\"\n",
    "        traj = md.load(location + traj_location,top =location + top_location)\n",
    "        topology = traj.topology\n",
    "        traj = traj.atom_slice(topology.select(\"resSeq 13 to 316\"))\n",
    "        traj.superpose(wholetraj,18)\n",
    "        traj_reduced_cartesian = pca.transform(traj.xyz.reshape(traj.n_frames,traj.n_atoms * 3))\n",
    "        pca1.extend(traj_reduced_cartesian.T[0])\n",
    "        pca2.extend(traj_reduced_cartesian.T[1])\n",
    "        pca3.extend(traj_reduced_cartesian.T[2])\n",
    "        pca4.extend(traj_reduced_cartesian.T[3])\n",
    "        pca5.extend(traj_reduced_cartesian.T[4])\n",
    "\n",
    "\n",
    "    pca1 = []\n",
    "    pca2 = []\n",
    "    pca3 = []\n",
    "    pca4 = []\n",
    "    pca5 = []\n",
    "    wholetraj, pca = ensemble_pca_cartesian()\n",
    "    for traj_note in traj_notes:\n",
    "        append_pca_data(traj_note)\n",
    "    md_data['wholepca_pc1'] = pca1\n",
    "    md_data['wholepca_pc2'] = pca2\n",
    "    md_data['wholepca_pc3'] = pca3\n",
    "    md_data['wholepca_pc4'] = pca4\n",
    "    md_data['wholepca_pc5'] = pca5\n"
   ]
  },
  {
   "cell_type": "markdown",
   "metadata": {},
   "source": [
    "### Gating-related geometries"
   ]
  },
  {
   "cell_type": "code",
   "execution_count": 14,
   "metadata": {},
   "outputs": [],
   "source": [
    "def create_domain_twist_data(md_data = None):\n",
    "    def append_domain_twist(traj_note,location = '/media/scottzhuang/data/MD/',skip = 10):\n",
    "        top_location = traj_note + '/' + traj_note + \".ca.gro\"\n",
    "        traj_location = traj_note + '/' + traj_note + \".skip\" + str(skip) + \".ca.xtc\"\n",
    "        traj = md.load(location + traj_location,top= location + top_location)        \n",
    "        traj.superpose(traj,0)\n",
    "        topology = traj.topology\n",
    "        domain_twist = []\n",
    "        for chain in range (0,5):\n",
    "            residue_selection_1 = \"resid \" + str(8+chain*311) + \" to \" + str(192+chain*311)\n",
    "            residue_selection_2 = \"resid \" + str(192+chain*311) + \" to \" + str(310+chain*311)\n",
    "            traj_sliced_ecd = traj.atom_slice(topology.select(residue_selection_1))\n",
    "            traj_sliced_tmd = traj.atom_slice(topology.select(residue_selection_2))\n",
    "            angle = []\n",
    "            for i in range(0,traj.n_frames):\n",
    "                cen_mass_ecd = md.compute_center_of_mass(traj_sliced_ecd[i])[0]\n",
    "                cen_mass_tmd = md.compute_center_of_mass(traj_sliced_tmd[i])[0]\n",
    "                cen_mass = md.compute_center_of_mass(traj[i])[0]\n",
    "                cen_mass_ecd[2] = cen_mass[2]\n",
    "                cen_mass_tmd[2] = cen_mass[2]\n",
    "                vec_ecd = cen_mass_ecd - cen_mass\n",
    "                vec_tmd = cen_mass_tmd - cen_mass\n",
    "                veclength_ecd = np.sqrt(np.sum(np.power(vec_ecd,2)))\n",
    "                veclength_tmd = np.sqrt(np.sum(np.power(vec_tmd,2)))\n",
    "                angle.append(57.2958 * np.arccos(np.dot(vec_ecd,vec_tmd) /(veclength_ecd * veclength_tmd)))\n",
    "            print(angle)\n",
    "            domain_twist.append(angle)\n",
    "        domain_twist_data.extend(np.mean(np.asarray(domain_twist),axis=0))\n",
    "    domain_twist_data = []\n",
    "    for traj_note in traj_notes:\n",
    "        append_domain_twist(traj_note)\n",
    "    md_data['domain twist']= domain_twist_data"
   ]
  },
  {
   "cell_type": "code",
   "execution_count": 25,
   "metadata": {},
   "outputs": [],
   "source": [
    "def create_ecd_twist_data(md_data = None):\n",
    "    def wiki_dihedral(p):\n",
    "        p0 = p[0]\n",
    "        p1 = p[1]\n",
    "        p2 = p[2]\n",
    "        p3 = p[3]\n",
    "        b0 = -1.0*(p1 - p0)\n",
    "        b1 = p2 - p1\n",
    "        b2 = p3 - p2\n",
    "        b0xb1 = np.cross(b0, b1)\n",
    "        b1xb2 = np.cross(b2, b1)\n",
    "        b0xb1_x_b1xb2 = np.cross(b0xb1, b1xb2)\n",
    "\n",
    "        y = np.dot(b0xb1_x_b1xb2, b1)*(1.0/np.linalg.norm(b1))\n",
    "        x = np.dot(b0xb1, b1xb2)\n",
    "        return np.degrees(np.arctan2(y, x))\n",
    "\n",
    "    def append_ecd_twist(traj_note,location = '/media/scottzhuang/data/MD/',skip = 10):\n",
    "        top_location = traj_note + '/' + traj_note + \".ca.gro\"\n",
    "        traj_location = traj_note + '/' + traj_note + \".skip\" + str(skip) + \".ca.xtc\"\n",
    "        traj = md.load(location + traj_location,top= location + top_location)        \n",
    "        traj.superpose(traj,0)\n",
    "        topology = traj.topology\n",
    "        residue_selection_1 = \"resSeq 13 to 198\"\n",
    "        residue_selection_2 = \"resSeq 198 to 316\"\n",
    "        traj_sliced_ecd = traj.atom_slice(topology.select(residue_selection_1))\n",
    "        traj_sliced_tmd = traj.atom_slice(topology.select(residue_selection_2))\n",
    "        \n",
    "        ecd_twist = []\n",
    "        for chain in range (0,5):\n",
    "            di_angle = []\n",
    "\n",
    "            for i in range(0,traj.n_frames):\n",
    "                cen_mass_ecd = md.compute_center_of_mass(traj_sliced_ecd[i])[0]\n",
    "                cen_mass_tmd = md.compute_center_of_mass(traj_sliced_tmd[i])[0]\n",
    "                residue_selection_3 = \"resid \" + str(8+chain*311) + \" to \" + str(192+chain*311)\n",
    "                residue_selection_4 = \"resid \" + str(192+chain*311) + \" to \" + str(310+chain*311)\n",
    "                traj_sliced_ecd_chain = traj.atom_slice(topology.select(residue_selection_3))\n",
    "                traj_sliced_tmd_chain = traj.atom_slice(topology.select(residue_selection_4))\n",
    "                cen_mass_ecd_chain = md.compute_center_of_mass(traj_sliced_ecd_chain[i])[0]\n",
    "                cen_mass_tmd_chain = md.compute_center_of_mass(traj_sliced_tmd_chain[i])[0]\n",
    "                di_angle.append(wiki_dihedral(np.asarray([(cen_mass_ecd_chain).tolist(),(cen_mass_ecd).tolist(),(cen_mass_tmd).tolist(),(cen_mass_tmd_chain).tolist()])))\n",
    "            ecd_twist.append(di_angle)\n",
    "        ecd_twist_data.extend(np.mean(np.asarray(ecd_twist),axis=0))\n",
    "    ecd_twist_data = []\n",
    "    for traj_note in traj_notes:\n",
    "        append_ecd_twist(traj_note)\n",
    "    md_data['ECD twist']= ecd_twist_data"
   ]
  },
  {
   "cell_type": "code",
   "execution_count": 26,
   "metadata": {},
   "outputs": [],
   "source": [
    "create_ecd_twist_data(md_data)"
   ]
  },
  {
   "cell_type": "code",
   "execution_count": 3,
   "metadata": {},
   "outputs": [],
   "source": [
    "def create_helix_tilt_data(md_data = None):\n",
    "    def append_helix_tilt_data(traj_note,location = '/media/scottzhuang/data/MD/', skip=10):\n",
    "        tilt_data = pd.read_csv(location + traj_note + '/' + traj_note + '.tilt.csv',sep=\" \")\n",
    "        tilt_data.columns = ['traj_time','avg','ang1','ang2','ang3','ang4','ang5']\n",
    "        helix_tilt_data.extend(tilt_data['avg'])\n",
    "    helix_tilt_data = []\n",
    "    for traj_note in traj_notes:\n",
    "        append_helix_tilt_data(traj_note)\n",
    "    md_data['helix tilt angle'] = helix_tilt_data"
   ]
  },
  {
   "cell_type": "code",
   "execution_count": 12,
   "metadata": {},
   "outputs": [],
   "source": [
    "def create_helix_twist_data(md_data = None):\n",
    "    def append_helix_twist_data(traj_note,location = '/media/scottzhuang/data/MD/', skip=10):\n",
    "        twist = pd.read_csv(location + traj_note + '/' + traj_note + '.twist.csv',sep=\" \")\n",
    "        twist.columns = ['traj_time','avg','ang1','ang2','ang3','ang4','ang5']\n",
    "        helix_twist_data.extend(twist['avg'])\n",
    "    helix_twist_data = []\n",
    "    for traj_note in traj_notes:\n",
    "        append_helix_twist_data(traj_note)\n",
    "    md_data['helix twist angle'] = helix_twist_data"
   ]
  },
  {
   "cell_type": "code",
   "execution_count": 13,
   "metadata": {},
   "outputs": [],
   "source": [
    "def create_beta_expansion(md_data = None):\n",
    "    def append_beta_expansion_data(traj_note,location = '/media/scottzhuang/data/MD/', skip=10):\n",
    "        top_location = traj_note + '/' + traj_note + \".ca.gro\"\n",
    "        traj_location = traj_note + '/' + traj_note + \".skip\" + str(skip) + \".ca.xtc\"\n",
    "        traj = md.load(location + traj_location,top = location + top_location)\n",
    "        distance = []\n",
    "        for chain in range(0,5):\n",
    "            distance.append(md.compute_distances(traj,[[27 + chain * 311,187 + chain * 311]]))\n",
    "        beta_expansion_data.extend(np.mean(distance,axis=0).T[0])\n",
    "    beta_expansion_data = []\n",
    "    for traj_note in traj_notes:\n",
    "        append_beta_expansion_data(traj_note)\n",
    "    md_data['beta_expansion'] = beta_expansion_data"
   ]
  },
  {
   "cell_type": "code",
   "execution_count": 14,
   "metadata": {},
   "outputs": [],
   "source": [
    "def create_M2_radius(md_data = None):\n",
    "    def append_M2_radius_data(traj_note,location = '/media/scottzhuang/data/MD/', skip=10):\n",
    "        top_location = traj_note + '/' + traj_note + \".ca.gro\"\n",
    "        traj_location = traj_note + '/' + traj_note + \".skip\" + str(skip) + \".ca.xtc\"\n",
    "        traj = md.load(location + traj_location,top = location + top_location)\n",
    "        topology = traj.topology\n",
    "        M2_selection = 'resSeq 231 to 245'\n",
    "        traj_M2 = traj.atom_slice(topology.select(M2_selection))\n",
    "        M2_radius_data.extend(md.compute_rg(traj_M2).T) \n",
    "    M2_radius_data = []\n",
    "    for traj_note in traj_notes:\n",
    "        append_M2_radius_data(traj_note)\n",
    "    md_data['M2_radius'] = M2_radius_data"
   ]
  },
  {
   "cell_type": "code",
   "execution_count": 15,
   "metadata": {},
   "outputs": [],
   "source": [
    "def create_ECD_radius(md_data = None):\n",
    "    def append_ECD_radius_data(traj_note,location = '/media/scottzhuang/data/MD/', skip=10):\n",
    "        top_location = traj_note + '/' + traj_note + \".ca.gro\"\n",
    "        traj_location = traj_note + '/' + traj_note + \".skip\" + str(skip) + \".ca.xtc\"\n",
    "        traj = md.load(location + traj_location,top = location + top_location)\n",
    "        topology = traj.topology\n",
    "        ECD_selection = 'resSeq 5 to 194'\n",
    "        traj_ECD = traj.atom_slice(topology.select(ECD_selection))\n",
    "        ECD_radius_data.extend(md.compute_rg(traj_ECD).T) \n",
    "    ECD_radius_data = []\n",
    "    for traj_note in traj_notes:\n",
    "        append_ECD_radius_data(traj_note)\n",
    "    md_data['ECD_radius'] = ECD_radius_data"
   ]
  },
  {
   "cell_type": "code",
   "execution_count": 16,
   "metadata": {},
   "outputs": [],
   "source": [
    "def create_M2_M1_distance(md_data = None):\n",
    "    def distance_calculate(x,y):\n",
    "        dist = np.sqrt(np.power(x[0]-y[0],2) + np.power(x[1]-y[1],2) + np.power(x[2]-y[2],2))\n",
    "        return dist\n",
    "    def append_M2_M1_distance_data(traj_note,location = '/media/scottzhuang/data/MD/', skip=10):\n",
    "        top_location = traj_note + '/' + traj_note + \".ca.gro\"\n",
    "        traj_location = traj_note + '/' + traj_note + \".skip\" + str(skip) + \".ca.xtc\"\n",
    "        traj = md.load(location + traj_location,top = location + top_location)\n",
    "        topology = traj.topology\n",
    "        distance = []\n",
    "        for chain in range(0,4):\n",
    "            M1_selection = 'resid ' + str(192 + chain * 311) + ' to ' + str(196 + chain * 311)\n",
    "            M2_selection = 'resid ' + str(233 + (chain + 1) * 311) + ' to ' + str(238 + (chain + 1) * 311)\n",
    "            traj_M1 = traj.atom_slice(topology.select(M1_selection))\n",
    "            traj_M2 = traj.atom_slice(topology.select(M2_selection))\n",
    "            distance.append(distance_calculate(md.compute_center_of_mass(traj_M1).T,md.compute_center_of_mass(traj_M2).T))\n",
    "        M1_selection = 'resid ' + str(192 + 4 * 311) + ' to ' + str(196 + 4 * 311)\n",
    "        M2_selection = 'resid ' + str(233) + ' to ' + str(238)\n",
    "        traj_M1 = traj.atom_slice(topology.select(M1_selection))\n",
    "        traj_M2 = traj.atom_slice(topology.select(M2_selection))\n",
    "        distance.append(distance_calculate(md.compute_center_of_mass(traj_M1).T,md.compute_center_of_mass(traj_M2).T))\n",
    "        #print((np.mean(np.asarray(distance),axis=0))\n",
    "        M2_M1_distance.extend(np.mean(distance,axis=0))\n",
    "    M2_M1_distance = []\n",
    "    for traj_note in traj_notes:\n",
    "        append_M2_M1_distance_data(traj_note)\n",
    "    md_data['M2_M1_distance'] = M2_M1_distance\n",
    "    #print(M2_M1_distance)"
   ]
  },
  {
   "cell_type": "code",
   "execution_count": 215,
   "metadata": {},
   "outputs": [],
   "source": [
    "def create_M2_M1_distance_per_chain(md_data = None):\n",
    "    def distance_calculate(x,y):\n",
    "        dist = np.sqrt(np.power(x[0]-y[0],2) + np.power(x[1]-y[1],2) + np.power(x[2]-y[2],2))\n",
    "        return dist\n",
    "    def append_M2_M1_distance_data(traj_note,location = '/media/scottzhuang/data/MD/', skip=10):\n",
    "        top_location = traj_note + '/' + traj_note + \".ca.gro\"\n",
    "        traj_location = traj_note + '/' + traj_note + \".skip\" + str(skip) + \".ca.xtc\"\n",
    "        traj = md.load(location + traj_location,top = location + top_location)\n",
    "        topology = traj.topology\n",
    "        distance = []\n",
    "        for chain in range(0,4):\n",
    "            M1_selection = 'resid ' + str(192 + chain * 311) + ' to ' + str(196 + chain * 311)\n",
    "            M2_selection = 'resid ' + str(233 + (chain + 1) * 311) + ' to ' + str(238 + (chain + 1) * 311)\n",
    "            traj_M1 = traj.atom_slice(topology.select(M1_selection))\n",
    "            traj_M2 = traj.atom_slice(topology.select(M2_selection))\n",
    "            distance.append(distance_calculate(md.compute_center_of_mass(traj_M1).T,md.compute_center_of_mass(traj_M2).T))\n",
    "\n",
    "        M1_selection = 'resid ' + str(192 + 4 * 311) + ' to ' + str(196 + 4 * 311)\n",
    "        M2_selection = 'resid ' + str(233) + ' to ' + str(238)\n",
    "        traj_M1 = traj.atom_slice(topology.select(M1_selection))\n",
    "        traj_M2 = traj.atom_slice(topology.select(M2_selection))\n",
    "        distance.append(distance_calculate(md.compute_center_of_mass(traj_M1).T,md.compute_center_of_mass(traj_M2).T))\n",
    "        #print((np.mean(np.asarray(distance),axis=0))\n",
    "        M2_M1_distance_1.extend(distance[0])\n",
    "        M2_M1_distance_2.extend(distance[1])\n",
    "        M2_M1_distance_3.extend(distance[2])\n",
    "        M2_M1_distance_4.extend(distance[3])\n",
    "        M2_M1_distance_5.extend(distance[4])\n",
    "\n",
    "    M2_M1_distance_1 = []\n",
    "    M2_M1_distance_2 = []\n",
    "    M2_M1_distance_3 = []\n",
    "    M2_M1_distance_4 = []\n",
    "    M2_M1_distance_5 = []\n",
    "\n",
    "    for traj_note in traj_notes:\n",
    "        append_M2_M1_distance_data(traj_note)\n",
    "    md_data['M2_M1_distance_1'] = M2_M1_distance_1\n",
    "    md_data['M2_M1_distance_2'] = M2_M1_distance_2\n",
    "    md_data['M2_M1_distance_3'] = M2_M1_distance_3\n",
    "    md_data['M2_M1_distance_4'] = M2_M1_distance_4\n",
    "    md_data['M2_M1_distance_5'] = M2_M1_distance_5\n",
    "\n",
    "    #print(M2_M1_distance)"
   ]
  },
  {
   "cell_type": "code",
   "execution_count": 212,
   "metadata": {},
   "outputs": [],
   "source": [
    "md_data = pd.read_pickle('clustered.pickle')"
   ]
  },
  {
   "cell_type": "code",
   "execution_count": 216,
   "metadata": {},
   "outputs": [],
   "source": [
    "create_M2_M1_distance_per_chain(md_data)"
   ]
  },
  {
   "cell_type": "code",
   "execution_count": 17,
   "metadata": {},
   "outputs": [],
   "source": [
    "def create_M1_kink(md_data = None):\n",
    "    def angle_calculate(x,y,z):\n",
    "        angle_set = []\n",
    "        for i in range(0,x.shape[0]):\n",
    "            angle_set.append(180 - 57.29 * np.arccos(np.dot((x[i]-y[i]),(z[i]-y[i]))/(np.linalg.norm(x[i]-y[i]) * np.linalg.norm(z[i]-y[i]))))\n",
    "        return angle_set\n",
    "    def append_M1_kink_data(traj_note,location = '/media/scottzhuang/data/MD/', skip=10):\n",
    "        top_location = traj_note + '/' + traj_note + \".ca.gro\"\n",
    "        traj_location = traj_note + '/' + traj_note + \".skip\" + str(skip) + \".ca.xtc\"\n",
    "        traj = md.load(location + traj_location,top = location + top_location)\n",
    "        topology = traj.topology\n",
    "        angle = []\n",
    "        for chain in range(0,5):\n",
    "            M1_selection_up = 'resid ' + str(192 + chain * 311) + ' to ' + str(196 + chain * 311)\n",
    "            M1_selection_mid = 'resid ' + str(194 + chain * 311) + ' to ' + str(198 + chain * 311)\n",
    "            M1_selection_down = 'resid ' + str(197 + chain * 311) + ' to ' + str(208 + chain * 311)\n",
    "\n",
    "            M1_up = traj.atom_slice(topology.select(M1_selection_up))\n",
    "            M1_mid = traj.atom_slice(topology.select(M1_selection_mid))\n",
    "            M1_down = traj.atom_slice(topology.select(M1_selection_down))\n",
    "            angle.append(angle_calculate(md.compute_center_of_mass(M1_up), md.compute_center_of_mass(M1_mid), md.compute_center_of_mass(M1_down)))\n",
    "        M1_kink.extend(np.mean(angle,axis=0))\n",
    "    M1_kink = []\n",
    "    for traj_note in traj_notes:\n",
    "        append_M1_kink_data(traj_note)\n",
    "    md_data['M1_kink'] = M1_kink\n"
   ]
  },
  {
   "cell_type": "code",
   "execution_count": 18,
   "metadata": {},
   "outputs": [],
   "source": [
    "def create_pore_profile(md_data = None):\n",
    "    def pore_rad(traj_note,location = '/media/scottzhuang/data/MD/'):\n",
    "        top_location = traj_note + '/' + traj_note + \".protein.gro\"\n",
    "        traj_name = traj_note + '/' + traj_note +  \".skip10.protein.xtc\"    \n",
    "        traj = md.load(location + traj_name,top = location +top_location)\n",
    "        ca_top_location = traj_note + '/' + traj_note +  \".ca.pdb\"\n",
    "        ca_traj_name = traj_note + '/' + traj_note +  \".skip10.ca.xtc\"    \n",
    "        ca_traj = md.load(location + ca_traj_name,top = location + ca_top_location)\n",
    "        topology = traj.topology\n",
    "        pore_profile = pd.DataFrame(columns=['traj_time','resid','pore_radius'])\n",
    "        m = 0\n",
    "        incre = 0\n",
    "        for i in [217,221,225,228,232,235]:\n",
    "            group_1 = np.arange(i,i + 1245, 311)\n",
    "            xyz_inter = np.mean(ca_traj.xyz[:,group_1],axis=1)\n",
    "            chain = topology.add_chain()\n",
    "            residue = topology.add_residue('ALA',chain)\n",
    "            topology.add_atom('H','H',residue)\n",
    "            traj.topology = topology\n",
    "            traj.xyz = np.append(traj.xyz,xyz_inter.reshape([traj.n_frames,1,3]),axis=1)\n",
    "            pairs = list(itertools.product(group_1,[1555 + incre]))\n",
    "            for j in range(0,traj.n_frames):\n",
    "                pore_profile.loc[m] = [j,i,np.mean(md.compute_contacts(traj[j], pairs)[0])]\n",
    "                m = m + 1\n",
    "            incre = incre +1\n",
    "        pore_data_222.extend(pore_profile[pore_profile['resid'] == 217]['pore_radius'])\n",
    "        pore_data_226.extend(pore_profile[pore_profile['resid'] == 221]['pore_radius'])\n",
    "        pore_data_230.extend(pore_profile[pore_profile['resid'] == 225]['pore_radius'])\n",
    "        pore_data_233.extend(pore_profile[pore_profile['resid'] == 228]['pore_radius'])\n",
    "        pore_data_237.extend(pore_profile[pore_profile['resid'] == 232]['pore_radius'])\n",
    "        pore_data_240.extend(pore_profile[pore_profile['resid'] == 235]['pore_radius'])\n",
    "    import itertools\n",
    "    pore_data_222 = []\n",
    "    pore_data_226 = []\n",
    "    pore_data_230 = []\n",
    "    pore_data_233 = []\n",
    "    pore_data_237 = []\n",
    "    pore_data_240 = []\n",
    "\n",
    "    for traj_note in traj_notes:\n",
    "        pore_rad(traj_note)\n",
    "    md_data['pore_profile_222'] = pore_data_222\n",
    "    md_data['pore_profile_226'] = pore_data_226\n",
    "    md_data['pore_profile_230'] = pore_data_230\n",
    "    md_data['pore_profile_233'] = pore_data_233\n",
    "    md_data['pore_profile_237'] = pore_data_237\n",
    "    md_data['pore_profile_240'] = pore_data_240"
   ]
  },
  {
   "cell_type": "markdown",
   "metadata": {},
   "source": [
    "### Water related"
   ]
  },
  {
   "cell_type": "code",
   "execution_count": 91,
   "metadata": {},
   "outputs": [],
   "source": [
    "def create_hydration_profile(md_data = None):\n",
    "    def append_hydration_data(traj_note,location = '/media/scottzhuang/data/MD/', skip=10):\n",
    "        top_location = traj_note + '/' + traj_note + \".system.gro\"\n",
    "        traj_location = traj_note + '/' + traj_note + \".skip\" + str(skip) + \".system.xtc\"\n",
    "        traj = mda.Universe(location + top_location,location + traj_location)\n",
    "        hydration = traj.select_atoms(\"(cyzone 7 10 -10 resid 235) and name OW\",updating = True)\n",
    "        for i in range(0,traj.trajectory.n_frames):\n",
    "            traj.trajectory[i]\n",
    "            hydration_data.append(hydration.n_atoms)\n",
    "    hydration_data = []\n",
    "    for traj_note in traj_notes:\n",
    "        append_hydration_data(traj_note)\n",
    "    md_data['hydration_data'] = hydration_data"
   ]
  },
  {
   "cell_type": "code",
   "execution_count": 91,
   "metadata": {},
   "outputs": [],
   "source": [
    "def create_hydration_profile(md_data = None):\n",
    "    def append_hydration_data(traj_note,location = '/media/scottzhuang/data/MD/', skip=10):\n",
    "        top_location = traj_note + '/' + traj_note + \".system.gro\"\n",
    "        traj_location = traj_note + '/' + traj_note + \".skip\" + str(skip) + \".system.xtc\"\n",
    "        traj = mda.Universe(location + top_location,location + traj_location)\n",
    "        hydration = traj.select_atoms(\"(cyzone 7 10 -10 resid 235) and name OW\",updating = True)\n",
    "        for i in range(0,traj.trajectory.n_frames):\n",
    "            traj.trajectory[i]\n",
    "            hydration_data.append(hydration.n_atoms)\n",
    "    hydration_data = []\n",
    "    for traj_note in traj_notes:\n",
    "        append_hydration_data(traj_note)\n",
    "    md_data['hydration_data'] = hydration_data"
   ]
  },
  {
   "cell_type": "code",
   "execution_count": 29,
   "metadata": {},
   "outputs": [],
   "source": [
    "def create_hydration_profile_2(md_data = None):\n",
    "    def append_hydration_data(traj_note,location = '/media/scottzhuang/data/MD/', skip=10):\n",
    "        top_location = traj_note + '/' + traj_note + \".system.gro\"\n",
    "        traj_location = traj_note + '/' + traj_note + \".skip\" + str(skip) + \".system.xtc\"\n",
    "        traj = mda.Universe(location + top_location,location + traj_location)\n",
    "        hydration = traj.select_atoms(\"(cyzone 7 8 -8 resid 236) and name OW\",updating = True)\n",
    "        for i in range(0,traj.trajectory.n_frames):\n",
    "            traj.trajectory[i]\n",
    "            hydration_data.append(hydration.n_atoms)\n",
    "    hydration_data = []\n",
    "    for traj_note in traj_notes:\n",
    "        append_hydration_data(traj_note)\n",
    "    md_data['hydration_data_236_center'] = hydration_data"
   ]
  },
  {
   "cell_type": "code",
   "execution_count": 31,
   "metadata": {},
   "outputs": [],
   "source": [
    "create_hydration_profile_2(md_data)"
   ]
  },
  {
   "cell_type": "code",
   "execution_count": 102,
   "metadata": {},
   "outputs": [],
   "source": [
    "def create_hydration_profile_resid(md_data = None):\n",
    "    def append_hydration_data(traj_note,resid,location = '/media/scottzhuang/data/MD/', skip=10):\n",
    "        top_location = traj_note + '/' + traj_note + \".system.gro\"\n",
    "        traj_location = traj_note + '/' + traj_note + \".skip\" + str(skip) + \".system.xtc\"\n",
    "        traj = mda.Universe(location + top_location,location + traj_location)\n",
    "        hydration = traj.select_atoms(\"(cyzone 7 3 -3 resid \" + str(resid) + \") and name OW\",updating = True)\n",
    "        for i in range(0,traj.trajectory.n_frames):\n",
    "            traj.trajectory[i]\n",
    "            hydration_data.append(hydration.n_atoms)\n",
    "    for resid in [235,233,238,226,240]:\n",
    "        hydration_data = []\n",
    "        for traj_note in traj_notes:\n",
    "            append_hydration_data(traj_note,resid)\n",
    "        md_data['hydration_data' + str(resid) + '_3a'] = hydration_data"
   ]
  },
  {
   "cell_type": "code",
   "execution_count": 93,
   "metadata": {},
   "outputs": [],
   "source": [
    "def create_hydration_profile_non_pore(md_data = None):\n",
    "    def append_hydration_data(traj_note,location = '/media/scottzhuang/data/MD/', skip=10):\n",
    "        top_location = traj_note + '/' + traj_note + \".system.gro\"\n",
    "        traj_location = traj_note + '/' + traj_note + \".skip\" + str(skip) + \".system.xtc\"\n",
    "        traj = mda.Universe(location + top_location,location + traj_location)\n",
    "        hydration = traj.select_atoms(\"(cylayer 7 20 8 -8 resid 235) and name OW\",updating = True)\n",
    "        for i in range(0,traj.trajectory.n_frames):\n",
    "            traj.trajectory[i]\n",
    "            hydration_data.append(hydration.n_atoms)\n",
    "    hydration_data = []\n",
    "    for traj_note in traj_notes:\n",
    "        append_hydration_data(traj_note)\n",
    "    md_data['hydration_data_m123'] = hydration_data"
   ]
  },
  {
   "cell_type": "code",
   "execution_count": 68,
   "metadata": {},
   "outputs": [],
   "source": [
    "def create_hydration_profile_non_pore(md_data = None):\n",
    "    def append_hydration_data(traj_note,location = '/media/scottzhuang/data/MD/md_ensemble/', skip=10):\n",
    "        top_location = traj_note + '/' + traj_note + \".system3.pdb\"\n",
    "        traj_location = traj_note + '/' + traj_note + \".skip\" + str(skip) + \".system.xtc\"\n",
    "        traj = mda.Universe(location + top_location,location + traj_location)\n",
    "        hydration = traj.select_atoms(\"(cylayer 7 20 8 -8 resid 235) and resname HOH and ((type O))\",updating = True)\n",
    "        for i in range(0,traj.trajectory.n_frames):\n",
    "            traj.trajectory[i]\n",
    "            hydration_data.append(hydration.n_atoms)\n",
    "    hydration_data = []\n",
    "    for traj_note in traj_notes:\n",
    "        append_hydration_data(traj_note)\n",
    "    md_data['hydration_data_non_pore'] = hydration_data"
   ]
  },
  {
   "cell_type": "code",
   "execution_count": 69,
   "metadata": {},
   "outputs": [],
   "source": [
    "create_hydration_profile_non_pore(md_data)"
   ]
  },
  {
   "cell_type": "code",
   "execution_count": 58,
   "metadata": {},
   "outputs": [],
   "source": [
    "def create_hydration_profile_non_pore_inter(md_data = None):\n",
    "    def append_hydration_data(traj_note,location = '/media/scottzhuang/data/MD/md_ensemble/', skip=10):\n",
    "        top_location = traj_note + '/' + traj_note + \".system3.pdb\"\n",
    "        traj_location = traj_note + '/' + traj_note + \".skip\" + str(skip) + \".system.xtc\"\n",
    "        traj = mda.Universe(location + top_location,location + traj_location)\n",
    "        hydration = traj.select_atoms(\"(((cyzone 10 10 -10 resnum 230) and (cyzone 10 10 -10 resnum 541)) or ((cyzone 10 10 -10 resnum 541) and (cyzone 10 10 -10 resnum 852)) or ((cyzone 10 10 -10 resnum 852) and (cyzone 10 10 -10 resnum 1163)) or((cyzone 10 10 -10 resnum 1163) and (cyzone 10 10 -10 resnum 1474)) or((cyzone 10 10 -10 resnum 1474) and (cyzone 10 10 -10 resnum 230))) and (cylayer 7 20 8 -8 resid 235) and resname HOH and ((type O))\",updating = True)\n",
    "        for i in range(0,traj.trajectory.n_frames):\n",
    "            traj.trajectory[i]\n",
    "            hydration_data.append(hydration.n_atoms)\n",
    "    hydration_data = []\n",
    "    for traj_note in traj_notes:\n",
    "        append_hydration_data(traj_note)\n",
    "    md_data['hydration_data_inter_new'] = hydration_data"
   ]
  },
  {
   "cell_type": "code",
   "execution_count": 59,
   "metadata": {},
   "outputs": [],
   "source": [
    "def create_hydration_profile_non_pore_intra(md_data = None):\n",
    "    def append_hydration_data(traj_note,location = '/media/scottzhuang/data/MD/md_ensemble/', skip=10):\n",
    "        top_location = traj_note + '/' + traj_note + \".system3.pdb\"\n",
    "        traj_location = traj_note + '/' + traj_note + \".skip\" + str(skip) + \".system.xtc\"\n",
    "        traj = mda.Universe(location + top_location,location + traj_location)\n",
    "        hydration = traj.select_atoms(\"(not (((cyzone 10 10 -10 resnum 230) and (cyzone 10 10 -10 resnum 541)) or ((cyzone 10 10 -10 resnum 541) and (cyzone 10 10 -10 resnum 852)) or ((cyzone 10 10 -10 resnum 852) and (cyzone 10 10 -10 resnum 1163)) or ((cyzone 10 10 -10 resnum 1163) and (cyzone 10 10 -10 resnum 1474)) or ((cyzone 10 10 -10 resnum 1474) and (cyzone 10 10 -10 resnum 230)))) and (cylayer 7 20 8 -8 resid 235) and resname HOH and ((type O))\",updating = True)\n",
    "        for i in range(0,traj.trajectory.n_frames):\n",
    "            traj.trajectory[i]\n",
    "            hydration_data.append(hydration.n_atoms)\n",
    "    hydration_data = []\n",
    "    for traj_note in traj_notes:\n",
    "        append_hydration_data(traj_note)\n",
    "    md_data['hydration_data_intra_new'] = hydration_data"
   ]
  },
  {
   "cell_type": "code",
   "execution_count": null,
   "metadata": {},
   "outputs": [],
   "source": [
    "create_hydration_profile_non_pore_intra(md_data)"
   ]
  },
  {
   "cell_type": "code",
   "execution_count": null,
   "metadata": {},
   "outputs": [],
   "source": [
    "create_hydration_profile_non_pore_inter(md_data)"
   ]
  },
  {
   "cell_type": "code",
   "execution_count": 62,
   "metadata": {},
   "outputs": [],
   "source": [
    "md_WT = md_data[~md_data.MD_name.str.contains('F238L') & ~md_data.MD_name.str.contains('I233T')]\n",
    "md_F238L = md_data[md_data.MD_name.str.contains('F238L') & ~md_data.MD_name.str.contains('F238LI233T')]\n",
    "md_I233T = md_data[md_data.MD_name.str.contains('I233T') & ~md_data.MD_name.str.contains('F238LI233T')]\n",
    "md_F238LI233T = md_data[md_data.MD_name.str.contains('F238LI233T')]\n",
    "md_5NJY_70 = md_data[(md_data.system >= 0) & (md_data.system <= 3)]\n",
    "md_5NJY_46 = md_data[(md_data.system >= 4) & (md_data.system <= 7)]\n",
    "md_4HFI_46 = md_data[(md_data.system >= 8) & (md_data.system <= 11)]\n",
    "md_4NPQ_70 = md_data[(md_data.system >= 12) & (md_data.system <= 15)]\n",
    "fontdict = {\n",
    "            'rotation':'horizontal'\n",
    "        }"
   ]
  },
  {
   "cell_type": "code",
   "execution_count": 64,
   "metadata": {},
   "outputs": [
    {
     "data": {
      "text/plain": [
       "<matplotlib.text.Text at 0x7fc7f5216240>"
      ]
     },
     "execution_count": 64,
     "metadata": {},
     "output_type": "execute_result"
    },
    {
     "data": {
      "image/png": "[encoded data removed]",
      "text/plain": [
       "<matplotlib.figure.Figure at 0x7fc7f8c41ba8>"
      ]
     },
     "metadata": {},
     "output_type": "display_data"
    }
   ],
   "source": [
    "fig, ax = plt.subplots(2,2,figsize=(20, 10))\n",
    "\n",
    "group = md_4NPQ_70.groupby(['MD_name','pH'],sort=False)['hydration_data_intra_new']\n",
    "mean = group.mean()\n",
    "errors = group.std()\n",
    "mean.plot.bar(yerr=errors,ax=ax[0,0],color=['black','#1b9e77','#d95f02','#7570b3'])\n",
    "ax[0,0].set_xticklabels(['WT','F238L','I233T','F238LI233T'],fontdict)\n",
    "ax[0,0].set_xlabel('Closed state at pH 7')\n",
    "\n",
    "group = md_4HFI_46.groupby(['MD_name','pH'],sort=False)['hydration_data_intra_new']\n",
    "mean = group.mean()\n",
    "errors = group.std()\n",
    "mean.plot.bar(yerr=errors,ax=ax[0,1],color=['black','#1b9e77','#d95f02','#7570b3'])\n",
    "ax[0,1].set_xticklabels(['WT','F238L','I233T','F238LI233T'],fontdict)\n",
    "ax[0,1].set_xlabel('Open state at pH 4')\n",
    "\n",
    "group = md_5NJY_70.groupby(['MD_name','pH'],sort=False)['hydration_data_intra_new']\n",
    "mean = group.mean()\n",
    "errors = group.std()\n",
    "mean.plot.bar(yerr=errors,ax=ax[1,0],color=['black','#1b9e77','#d95f02','#7570b3'])\n",
    "ax[1,0].set_xticklabels(['WT','F238L','I233T','F238LI233T'],fontdict)\n",
    "ax[1,0].set_xlabel('Locally-closed state at pH 7')\n",
    "\n",
    "group = md_5NJY_46.groupby(['MD_name','pH'],sort=False)['hydration_data_intra_new']\n",
    "mean = group.mean()\n",
    "errors = group.std()\n",
    "mean.plot.bar(yerr=errors,ax=ax[1,1],color=['black','#1b9e77','#d95f02','#7570b3'])\n",
    "ax[1,1].set_xticklabels(['WT','F238L','I233T','F238LI233T'],fontdict)\n",
    "ax[1,1].set_xlabel('Locally-closed state at pH 4')\n",
    "#ax[0,0].set_ylim(0,20)\n",
    "#ax[0,1].set_ylim(0,20)\n",
    "#ax[1,0].set_ylim(0,20)\n",
    "#ax[1,1].set_ylim(0,20)\n",
    "\n",
    "plt.suptitle('Pore hydration')\n",
    "#plt.savefig('plots/pore_hydration_2.pdf')"
   ]
  },
  {
   "cell_type": "code",
   "execution_count": 65,
   "metadata": {},
   "outputs": [
    {
     "data": {
      "text/plain": [
       "<matplotlib.text.Text at 0x7fc7f92ddc18>"
      ]
     },
     "execution_count": 65,
     "metadata": {},
     "output_type": "execute_result"
    },
    {
     "data": {
      "image/png": "[encoded data removed]",
      "text/plain": [
       "<matplotlib.figure.Figure at 0x7fc7f8ccfd68>"
      ]
     },
     "metadata": {},
     "output_type": "display_data"
    }
   ],
   "source": [
    "fig, ax = plt.subplots(2,2,figsize=(20, 10))\n",
    "\n",
    "group = md_4NPQ_70.groupby(['MD_name','pH'],sort=False)['hydration_data_inter_new']\n",
    "mean = group.mean()\n",
    "errors = group.std()\n",
    "mean.plot.bar(yerr=errors,ax=ax[0,0],color=['black','#1b9e77','#d95f02','#7570b3'])\n",
    "ax[0,0].set_xticklabels(['WT','F238L','I233T','F238LI233T'],fontdict)\n",
    "ax[0,0].set_xlabel('Closed state at pH 7')\n",
    "\n",
    "group = md_4HFI_46.groupby(['MD_name','pH'],sort=False)['hydration_data_inter_new']\n",
    "mean = group.mean()\n",
    "errors = group.std()\n",
    "mean.plot.bar(yerr=errors,ax=ax[0,1],color=['black','#1b9e77','#d95f02','#7570b3'])\n",
    "ax[0,1].set_xticklabels(['WT','F238L','I233T','F238LI233T'],fontdict)\n",
    "ax[0,1].set_xlabel('Open state at pH 4')\n",
    "\n",
    "group = md_5NJY_70.groupby(['MD_name','pH'],sort=False)['hydration_data_inter_new']\n",
    "mean = group.mean()\n",
    "errors = group.std()\n",
    "mean.plot.bar(yerr=errors,ax=ax[1,0],color=['black','#1b9e77','#d95f02','#7570b3'])\n",
    "ax[1,0].set_xticklabels(['WT','F238L','I233T','F238LI233T'],fontdict)\n",
    "ax[1,0].set_xlabel('Locally-closed state at pH 7')\n",
    "\n",
    "group = md_5NJY_46.groupby(['MD_name','pH'],sort=False)['hydration_data_inter_new']\n",
    "mean = group.mean()\n",
    "errors = group.std()\n",
    "mean.plot.bar(yerr=errors,ax=ax[1,1],color=['black','#1b9e77','#d95f02','#7570b3'])\n",
    "ax[1,1].set_xticklabels(['WT','F238L','I233T','F238LI233T'],fontdict)\n",
    "ax[1,1].set_xlabel('Locally-closed state at pH 4')\n",
    "#ax[0,0].set_ylim(0,20)\n",
    "#ax[0,1].set_ylim(0,20)\n",
    "#ax[1,0].set_ylim(0,20)\n",
    "#ax[1,1].set_ylim(0,20)\n",
    "\n",
    "plt.suptitle('Pore hydration')\n",
    "#plt.savefig('plots/pore_hydration_2.pdf')"
   ]
  },
  {
   "cell_type": "code",
   "execution_count": 94,
   "metadata": {},
   "outputs": [],
   "source": [
    "def create_hydration_profile_non_pore_intra(md_data = None):\n",
    "    def append_hydration_data(traj_note,location = '/media/scottzhuang/data/MD/', skip=10):\n",
    "        top_location = traj_note + '/' + traj_note + \".system.gro\"\n",
    "        traj_location = traj_note + '/' + traj_note + \".skip\" + str(skip) + \".system.xtc\"\n",
    "        traj = mda.Universe(location + top_location,location + traj_location)\n",
    "        hydration = traj.select_atoms(\"(cylayer 7 20 8 -8 resid 235) and name OW and (around 15 resid 304)\",updating = True)\n",
    "        for i in range(0,traj.trajectory.n_frames):\n",
    "            traj.trajectory[i]\n",
    "            hydration_data.append(hydration.n_atoms)\n",
    "    hydration_data = []\n",
    "    for traj_note in traj_notes:\n",
    "        append_hydration_data(traj_note)\n",
    "    md_data['hydration_data_intra'] = hydration_data"
   ]
  },
  {
   "cell_type": "code",
   "execution_count": 95,
   "metadata": {},
   "outputs": [],
   "source": [
    "def create_hydration_profile_non_pore_inter(md_data = None):\n",
    "    def append_hydration_data(traj_note,location = '/media/scottzhuang/data/MD/', skip=10):\n",
    "        top_location = traj_note + '/' + traj_note + \".system.gro\"\n",
    "        traj_location = traj_note + '/' + traj_note + \".skip\" + str(skip) + \".system.xtc\"\n",
    "        traj = mda.Universe(location + top_location,location + traj_location)\n",
    "        hydration = traj.select_atoms(\"(cylayer 7 20 8 -8 resid 235) and name OW and not(around 15 resid 304)\",updating = True)\n",
    "        for i in range(0,traj.trajectory.n_frames):\n",
    "            traj.trajectory[i]\n",
    "            hydration_data.append(hydration.n_atoms)\n",
    "    hydration_data = []\n",
    "    for traj_note in traj_notes:\n",
    "        append_hydration_data(traj_note)\n",
    "    md_data['hydration_data_inter'] = hydration_data"
   ]
  },
  {
   "cell_type": "code",
   "execution_count": 82,
   "metadata": {},
   "outputs": [],
   "source": [
    "def create_distance_238_246(md_data = None):\n",
    "\n",
    "    def cappend_distance_238_246(traj_note,location = '/media/scottzhuang/data/MD/', skip=10):\n",
    "        top_location = traj_note + '/' + traj_note + \".protein.gro\"\n",
    "        traj_location = traj_note + '/' + traj_note + \".skip\" + str(skip) + \".protein.xtc\"\n",
    "        traj = md.load(location + traj_location,top = location + top_location)\n",
    "        topology = traj.topology\n",
    "        traj = traj.atom_slice(topology.select('(resSeq 238 and name CG) or (resSeq 246 and name CG)'))\n",
    "\n",
    "        distance = []\n",
    "        for chain in [0,2,4,6,8]:\n",
    "            distance.append(md.compute_contacts(traj,[[chain,chain+1]])[0].T)\n",
    "        contact_238_246.extend(np.mean(distance,axis=0).T)\n",
    "    contact_238_246 = []\n",
    "    for traj_note in traj_notes:\n",
    "        cappend_distance_238_246(traj_note)\n",
    "    md_data['contact_238_246'] = np.asarray(contact_238_246).T[0]"
   ]
  },
  {
   "cell_type": "code",
   "execution_count": 83,
   "metadata": {},
   "outputs": [],
   "source": [
    "create_distance_238_246(md_data)"
   ]
  },
  {
   "cell_type": "code",
   "execution_count": 84,
   "metadata": {},
   "outputs": [],
   "source": [
    "fontdict = {\n",
    "            'rotation':'horizontal',\n",
    "            'fontname':'Helvetica',\n",
    "                 'size'   : 13\n",
    "\n",
    "        }\n",
    "labelfont = {'fontname':'Helvetica',\n",
    "             'size'   : 15\n",
    "            }\n",
    "titlefont = {'fontname':'Helvetica',\n",
    "            'weight' : 'bold',\n",
    "             'size'   : 18\n",
    "            }\n",
    "lineplot = {'linewidth':3.0}\n",
    "titleon = True"
   ]
  },
  {
   "cell_type": "code",
   "execution_count": 85,
   "metadata": {},
   "outputs": [],
   "source": [
    "md_5NJY_70 = md_data[(md_data.system >= 0) & (md_data.system <= 3)]\n",
    "md_5NJY_46 = md_data[(md_data.system >= 4) & (md_data.system <= 7)]\n",
    "md_4HFI_46 = md_data[(md_data.system >= 8) & (md_data.system <= 11)]\n",
    "md_4NPQ_70 = md_data[(md_data.system >= 12) & (md_data.system <= 15)]"
   ]
  },
  {
   "cell_type": "code",
   "execution_count": 86,
   "metadata": {},
   "outputs": [],
   "source": [
    "md_WT = md_data[~md_data.MD_name.str.contains('F238L') & ~md_data.MD_name.str.contains('I233T')]\n",
    "md_F238L = md_data[md_data.MD_name.str.contains('F238L') & ~md_data.MD_name.str.contains('F238LI233T')]\n",
    "md_I233T = md_data[md_data.MD_name.str.contains('I233T') & ~md_data.MD_name.str.contains('F238LI233T')]\n",
    "md_F238LI233T = md_data[md_data.MD_name.str.contains('F238LI233T')]"
   ]
  },
  {
   "cell_type": "code",
   "execution_count": 88,
   "metadata": {},
   "outputs": [
    {
     "data": {
      "text/plain": [
       "(0.7, 1.5)"
      ]
     },
     "execution_count": 88,
     "metadata": {},
     "output_type": "execute_result"
    },
    {
     "data": {
      "image/png": "[encoded data removed]",
      "text/plain": [
       "<matplotlib.figure.Figure at 0x7fb3a2f35908>"
      ]
     },
     "metadata": {},
     "output_type": "display_data"
    }
   ],
   "source": [
    "fig, ax = plt.subplots(2,2,figsize=(20, 10))\n",
    "\n",
    "group = md_4NPQ_70.groupby(['MD_name','pH'],sort=False)['contact_238_246']\n",
    "mean = group.mean()\n",
    "errors = group.std()\n",
    "mean.plot.bar(yerr=errors,ax=ax[0,0],color=['black','#1b9e77','#d95f02','#7570b3'])\n",
    "ax[0,0].set_xticklabels(['WT','F238L','I233T','F238LI233T'],fontdict)\n",
    "ax[0,0].set_xlabel('Closed state at pH 7',**labelfont)\n",
    "\n",
    "group = md_4HFI_46.groupby(['MD_name','pH'],sort=False)['contact_238_246']\n",
    "mean = group.mean()\n",
    "errors = group.std()\n",
    "mean.plot.bar(yerr=errors,ax=ax[0,1],color=['black','#1b9e77','#d95f02','#7570b3'])\n",
    "ax[0,1].set_xticklabels(['WT','F238L','I233T','F238LI233T'],fontdict)\n",
    "ax[0,1].set_xlabel('Open state at pH 4',**labelfont)\n",
    "\n",
    "group = md_5NJY_70.groupby(['MD_name','pH'],sort=False)['contact_238_246']\n",
    "mean = group.mean()\n",
    "errors = group.std()\n",
    "mean.plot.bar(yerr=errors,ax=ax[1,0],color=['black','#1b9e77','#d95f02','#7570b3'])\n",
    "ax[1,0].set_xticklabels(['WT','F238L','I233T','F238LI233T'],fontdict)\n",
    "ax[1,0].set_xlabel('Locally-closed state at pH 7',**labelfont)\n",
    "\n",
    "group = md_5NJY_46.groupby(['MD_name','pH'],sort=False)['contact_238_246']\n",
    "mean = group.mean()\n",
    "errors = group.std()\n",
    "mean.plot.bar(yerr=errors,ax=ax[1,1],color=['black','#1b9e77','#d95f02','#7570b3'])\n",
    "ax[1,1].set_xticklabels(['WT','F238L','I233T','F238LI233T'],fontdict)\n",
    "ax[1,1].set_xlabel('Locally-closed state at pH 4',**labelfont)\n",
    "ax[0,0].set_ylim(0.7,1.5)\n",
    "ax[0,1].set_ylim(0.7,1.5)\n",
    "ax[1,0].set_ylim(0.7,1.5)\n",
    "ax[1,1].set_ylim(0.7,1.5)\n",
    "#if titleon:\n",
    "\n",
    "#    plt.suptitle('M2 M1 distance')\n",
    "#plt.savefig('plots/m2_m1_distance_bar.pdf')"
   ]
  },
  {
   "cell_type": "code",
   "execution_count": null,
   "metadata": {},
   "outputs": [],
   "source": []
  },
  {
   "cell_type": "code",
   "execution_count": 32,
   "metadata": {},
   "outputs": [],
   "source": [
    "md_data = pd.read_csv(\"glic_gating.csv\")"
   ]
  },
  {
   "cell_type": "code",
   "execution_count": 36,
   "metadata": {},
   "outputs": [],
   "source": [
    "md_data.to_csv(\"glic_gating.csv\")"
   ]
  },
  {
   "cell_type": "code",
   "execution_count": 61,
   "metadata": {},
   "outputs": [
    {
     "name": "stdout",
     "output_type": "stream",
     "text": [
      "In 5NJY_pH70_md1, simulation runs 1030 ns.\n",
      "In 5NJY_pH70_md2, simulation runs 750 ns.\n",
      "In 5NJY_pH70_md3, simulation runs 810 ns.\n",
      "In 5NJY_F238L_pH70_md1, simulation runs 540 ns.\n",
      "In 5NJY_F238L_pH70_md2, simulation runs 680 ns.\n",
      "In 5NJY_F238L_pH70_md3, simulation runs 720 ns.\n",
      "In 5NJY_I233T_pH70_md4, simulation runs 730 ns.\n",
      "In 5NJY_I233T_pH70_md2, simulation runs 590 ns.\n",
      "In 5NJY_I233T_pH70_md3, simulation runs 820 ns.\n",
      "In 5NJY_F238LI233T_pH70_md1, simulation runs 830 ns.\n",
      "In 5NJY_F238LI233T_pH70_md2, simulation runs 800 ns.\n",
      "In 5NJY_F238LI233T_pH70_md3, simulation runs 880 ns.\n",
      "In 5NJY_pH46_md1, simulation runs 780 ns.\n",
      "In 5NJY_pH46_md2, simulation runs 1060 ns.\n",
      "In 5NJY_pH46_md3, simulation runs 1030 ns.\n",
      "In 5NJY_F238L_pH46_md1, simulation runs 930 ns.\n",
      "In 5NJY_F238L_pH46_md2, simulation runs 950 ns.\n",
      "In 5NJY_F238L_pH46_md3, simulation runs 1090 ns.\n",
      "In 5NJY_I233T_pH46_md1, simulation runs 810 ns.\n",
      "In 5NJY_I233T_pH46_md2, simulation runs 870 ns.\n",
      "In 5NJY_I233T_pH46_md3, simulation runs 980 ns.\n",
      "In 5NJY_F238LI233T_pH46_md1, simulation runs 790 ns.\n",
      "In 5NJY_F238LI233T_pH46_md2, simulation runs 950 ns.\n",
      "In 5NJY_F238LI233T_pH46_md3, simulation runs 960 ns.\n",
      "In 4HFI_pH46_md1, simulation runs 1100 ns.\n",
      "In 4HFI_pH46_md2, simulation runs 1100 ns.\n",
      "In 4HFI_pH46_md3, simulation runs 1070 ns.\n",
      "In 4HFI_F238L_pH46_md1, simulation runs 1040 ns.\n",
      "In 4HFI_F238L_pH46_md2, simulation runs 1010 ns.\n",
      "In 4HFI_F238L_pH46_md3, simulation runs 1040 ns.\n",
      "In 4HFI_I233T_pH46_md1, simulation runs 1030 ns.\n",
      "In 4HFI_I233T_pH46_md2, simulation runs 1030 ns.\n",
      "In 4HFI_I233T_pH46_md3, simulation runs 1030 ns.\n",
      "In 4HFI_F238LI233T_pH46_md1, simulation runs 1060 ns.\n",
      "In 4HFI_F238LI233T_pH46_md2, simulation runs 1010 ns.\n",
      "In 4HFI_F238LI233T_pH46_md3, simulation runs 1120 ns.\n",
      "In 4NPQ_pH70_md5, simulation runs 840 ns.\n",
      "In 4NPQ_pH70_md6, simulation runs 940 ns.\n",
      "In 4NPQ_pH70_md7, simulation runs 1050 ns.\n",
      "In 4NPQ_F238L_pH70_md3, simulation runs 830 ns.\n",
      "In 4NPQ_F238L_pH70_md4, simulation runs 990 ns.\n",
      "In 4NPQ_F238L_pH70_md5, simulation runs 960 ns.\n",
      "In 4NPQ_I233T_pH70_md3, simulation runs 890 ns.\n",
      "In 4NPQ_I233T_pH70_md4, simulation runs 980 ns.\n",
      "In 4NPQ_I233T_pH70_md5, simulation runs 1050 ns.\n",
      "In 4NPQ_F238LI233T_pH70_md3, simulation runs 880 ns.\n",
      "In 4NPQ_F238LI233T_pH70_md4, simulation runs 920 ns.\n",
      "In 4NPQ_F238LI233T_pH70_md5, simulation runs 1010 ns.\n"
     ]
    }
   ],
   "source": [
    "md_data = create_md_dataframe()\n",
    "create_metadata(md_data= md_data)\n",
    "create_system_notation(md_data = md_data)\n",
    "create_rmsd_data(md_data= md_data)"
   ]
  },
  {
   "cell_type": "code",
   "execution_count": 125,
   "metadata": {},
   "outputs": [],
   "source": [
    "create_cluster_data(md_data)"
   ]
  },
  {
   "cell_type": "code",
   "execution_count": 112,
   "metadata": {},
   "outputs": [],
   "source": [
    "create_rmsd_data(md_data,'4NPQ')"
   ]
  },
  {
   "cell_type": "code",
   "execution_count": 113,
   "metadata": {},
   "outputs": [],
   "source": [
    "create_rmsd_data(md_data,'4HFI')"
   ]
  },
  {
   "cell_type": "code",
   "execution_count": 114,
   "metadata": {},
   "outputs": [],
   "source": [
    "create_rmsd_data(md_data,'5NJY')"
   ]
  },
  {
   "cell_type": "code",
   "execution_count": 118,
   "metadata": {},
   "outputs": [],
   "source": [
    "create_rmsd_data(md_data,select_domain='TMD')"
   ]
  },
  {
   "cell_type": "code",
   "execution_count": 119,
   "metadata": {},
   "outputs": [],
   "source": [
    "create_rmsd_data(md_data,select_domain='ECD')"
   ]
  },
  {
   "cell_type": "code",
   "execution_count": 120,
   "metadata": {},
   "outputs": [],
   "source": [
    "create_rmsd_data(md_data)"
   ]
  },
  {
   "cell_type": "code",
   "execution_count": 62,
   "metadata": {},
   "outputs": [],
   "source": [
    "create_cppca_data(md_data)"
   ]
  },
  {
   "cell_type": "code",
   "execution_count": 70,
   "metadata": {},
   "outputs": [],
   "source": [
    "create_pca_data(md_data)"
   ]
  },
  {
   "cell_type": "code",
   "execution_count": 85,
   "metadata": {},
   "outputs": [],
   "source": [
    "create_domain_twist_data(md_data)\n",
    "create_helix_tilt_data(md_data)\n",
    "create_helix_twist_data(md_data)"
   ]
  },
  {
   "cell_type": "code",
   "execution_count": 86,
   "metadata": {},
   "outputs": [],
   "source": [
    "create_beta_expansion(md_data)\n",
    "create_M2_radius(md_data)\n",
    "create_ECD_radius(md_data)\n",
    "create_M2_M1_distance(md_data)\n",
    "create_M1_kink(md_data)"
   ]
  },
  {
   "cell_type": "code",
   "execution_count": null,
   "metadata": {},
   "outputs": [],
   "source": [
    "create_hydration_profile(md_data)"
   ]
  },
  {
   "cell_type": "code",
   "execution_count": 104,
   "metadata": {},
   "outputs": [],
   "source": [
    "create_hydration_profile_resid(md_data)\n",
    "create_hydration_profile_non_pore(md_data)"
   ]
  },
  {
   "cell_type": "code",
   "execution_count": 105,
   "metadata": {},
   "outputs": [],
   "source": [
    "create_pore_profile(md_data)"
   ]
  },
  {
   "cell_type": "code",
   "execution_count": 122,
   "metadata": {},
   "outputs": [],
   "source": [
    "md_data = md_data.drop(columns=['rmsdNone'])"
   ]
  },
  {
   "cell_type": "code",
   "execution_count": null,
   "metadata": {},
   "outputs": [],
   "source": []
  },
  {
   "cell_type": "code",
   "execution_count": 160,
   "metadata": {},
   "outputs": [],
   "source": [
    "md_data = pd.read_pickle(\"glic_gating.pickle\")"
   ]
  },
  {
   "cell_type": "code",
   "execution_count": 217,
   "metadata": {},
   "outputs": [],
   "source": [
    "md_data.to_pickle(\"glic_gating.pickle\")"
   ]
  },
  {
   "cell_type": "code",
   "execution_count": 195,
   "metadata": {
    "scrolled": true
   },
   "outputs": [
    {
     "data": {
      "text/plain": [
       "Index(['MD_name', 'pH', 'replicate', 'traj_time', 'system', 'ecd_pc1',\n",
       "       'ecd_pc2', 'tmd_pc1', 'tmd_pc2', 'wholepca_pc1', 'wholepca_pc2',\n",
       "       'wholepca_pc3', 'wholepca_pc4', 'wholepca_pc5', 'domain twist',\n",
       "       'helix tilt angle', 'helix twist angle', 'beta_expansion', 'M2_radius',\n",
       "       'ECD_radius', 'M2_M1_distance', 'M1_kink', 'hydration_data',\n",
       "       'hydration_data235_3a', 'hydration_data233_3a', 'hydration_data238_3a',\n",
       "       'hydration_data226_3a', 'hydration_data240_3a', 'hydration_data_m123',\n",
       "       'pore_profile_222', 'pore_profile_226', 'pore_profile_230',\n",
       "       'pore_profile_233', 'pore_profile_237', 'pore_profile_240', 'rmsd4NPQ',\n",
       "       'rmsd4HFI', 'rmsd5NJY', 'tmd_rmsd', 'ecd_rmsd', 'rmsd', 'cluster_index',\n",
       "       'ECD twist', 'hydration_data_236_center', 'tmd_noM2_pc1',\n",
       "       'tmd_noM2_pc2', 'rmsd_TMD_noM2', 'contact_238_246',\n",
       "       'ecd_pc1_no_expansion', 'ecd_pc2_no_expansion', 'dbscan', 'm2_pc1',\n",
       "       'm2_pc2', 'm2_pc3', 'm2_pc4', 'm2_pc5'],\n",
       "      dtype='object')"
      ]
     },
     "execution_count": 195,
     "metadata": {},
     "output_type": "execute_result"
    }
   ],
   "source": [
    "md_data.columns"
   ]
  },
  {
   "cell_type": "code",
   "execution_count": 198,
   "metadata": {},
   "outputs": [
    {
     "data": {
      "image/png": "[encoded data removed]",
      "text/plain": [
       "<matplotlib.figure.Figure at 0x7fb3a3c2e320>"
      ]
     },
     "metadata": {},
     "output_type": "display_data"
    }
   ],
   "source": [
    "fig, ax = plt.subplots(2,2,figsize=(20, 10))\n",
    "md_data = pd.read_pickle('glic_gating.pickle')\n",
    "md_data['traj_time'] = md_data['traj_time'] * 10\n",
    "md_5NJY_70 = md_data[(md_data.system >= 0) & (md_data.system <= 3)]\n",
    "md_5NJY_46 = md_data[(md_data.system >= 4) & (md_data.system <= 7)]\n",
    "md_4HFI_46 = md_data[(md_data.system >= 8) & (md_data.system <= 11)]\n",
    "md_4NPQ_70 = md_data[(md_data.system >= 12) & (md_data.system <= 15)]\n",
    "md_WT = md_data[~md_data.MD_name.str.contains('F238L') & ~md_data.MD_name.str.contains('I233T')]\n",
    "md_F238L = md_data[md_data.MD_name.str.contains('F238L') & ~md_data.MD_name.str.contains('F238LI233T')]\n",
    "md_I233T = md_data[md_data.MD_name.str.contains('I233T') & ~md_data.MD_name.str.contains('F238LI233T')]\n",
    "md_F238LI233T = md_data[md_data.MD_name.str.contains('F238LI233T')]\n",
    "\n",
    "#md_data.plot(kind=\"scatter\",x=\"ecd_pc1\",y=\"tmd_pc1\",c=['#a6611a','#7b3294','#0571b0','#018571'],ax=axes,alpha=0.2)\n",
    "md_WT[md_WT.system == 0 ].plot(kind=\"scatter\",x=\"m2_pc1\",y=\"m2_pc2\",c='traj_time',ax=ax[0,0],marker='*',colormap='Greys',vmin=0,vmax=1000)\n",
    "md_WT[md_WT.system == 4 ].plot(kind=\"scatter\",x=\"m2_pc1\",y=\"m2_pc2\",c='traj_time',ax=ax[0,0],marker='v',colormap='Blues',colorbar=None)\n",
    "md_WT[md_WT.system == 8 ].plot(kind=\"scatter\",x=\"m2_pc1\",y=\"m2_pc2\",c='traj_time',ax=ax[0,0],marker='^',colormap='Purples',colorbar=None,alpha=0.5)\n",
    "md_WT[md_WT.system == 12 ].plot(kind=\"scatter\",x=\"m2_pc1\",y=\"m2_pc2\",c='traj_time',ax=ax[0,0],marker='s',colormap='Greens',colorbar=None,alpha=0.5)\n",
    "\n",
    "md_F238L[md_F238L.system == 1 ].plot(kind=\"scatter\",x=\"m2_pc1\",y=\"m2_pc2\",c='traj_time',ax=ax[0,1],marker='*',colormap='Greys',vmin=0,vmax=1000)\n",
    "md_F238L[md_F238L.system == 5 ].plot(kind=\"scatter\",x=\"m2_pc1\",y=\"m2_pc2\",c='traj_time',ax=ax[0,1],marker='v',colormap='Blues',colorbar=None)\n",
    "md_F238L[md_F238L.system == 9 ].plot(kind=\"scatter\",x=\"m2_pc1\",y=\"m2_pc2\",c='traj_time',ax=ax[0,1],marker='^',colormap='Purples',colorbar=None,alpha=0.5)\n",
    "md_F238L[md_F238L.system == 13 ].plot(kind=\"scatter\",x=\"m2_pc1\",y=\"m2_pc2\",c='traj_time',ax=ax[0,1],marker='s',colormap='Greens',colorbar=None,alpha=0.5)\n",
    "\n",
    "md_I233T[md_I233T.system == 2 ].plot(kind=\"scatter\",x=\"m2_pc1\",y=\"m2_pc2\",c='traj_time',ax=ax[1,0],marker='*',colormap='Greys',vmin=0,vmax=1000)\n",
    "md_I233T[md_I233T.system == 6 ].plot(kind=\"scatter\",x=\"m2_pc1\",y=\"m2_pc2\",c='traj_time',ax=ax[1,0],marker='v',colormap='Blues',colorbar=None)\n",
    "md_I233T[md_I233T.system == 10 ].plot(kind=\"scatter\",x=\"m2_pc1\",y=\"m2_pc2\",c='traj_time',ax=ax[1,0],marker='^',colormap='Purples',colorbar=None,alpha=0.5)\n",
    "md_I233T[md_I233T.system == 14 ].plot(kind=\"scatter\",x=\"m2_pc1\",y=\"m2_pc2\",c='traj_time',ax=ax[1,0],marker='s',colormap='Greens',colorbar=None,alpha=0.5)\n",
    "\n",
    "md_F238LI233T[md_F238LI233T.system == 3 ].plot(kind=\"scatter\",x=\"m2_pc1\",y=\"m2_pc2\",c='traj_time',ax=ax[1,1],marker='*',colormap='Greys',vmin=0,vmax=1000)\n",
    "md_F238LI233T[md_F238LI233T.system == 7 ].plot(kind=\"scatter\",x=\"m2_pc1\",y=\"m2_pc2\",c='traj_time',ax=ax[1,1],marker='v',colormap='Blues',colorbar=None)\n",
    "md_F238LI233T[md_F238LI233T.system == 11 ].plot(kind=\"scatter\",x=\"m2_pc1\",y=\"m2_pc2\",c='traj_time',ax=ax[1,1],marker='^',colormap='Purples',colorbar=None,alpha=0.5)\n",
    "md_F238LI233T[md_F238LI233T.system == 15 ].plot(kind=\"scatter\",x=\"m2_pc1\",y=\"m2_pc2\",c='traj_time',ax=ax[1,1],marker='s',colormap='Greens',colorbar=None,alpha=0.5)\n",
    "\n",
    "\n",
    "md_data = md_data[md_data.dbscan == 0]\n",
    "md_5NJY_70 = md_data[(md_data.system >= 0) & (md_data.system <= 3)]\n",
    "md_5NJY_46 = md_data[(md_data.system >= 4) & (md_data.system <= 7)]\n",
    "md_4HFI_46 = md_data[(md_data.system >= 8) & (md_data.system <= 11)]\n",
    "md_4NPQ_70 = md_data[(md_data.system >= 12) & (md_data.system <= 15)]\n",
    "md_WT = md_data[~md_data.MD_name.str.contains('F238L') & ~md_data.MD_name.str.contains('I233T')]\n",
    "md_F238L = md_data[md_data.MD_name.str.contains('F238L') & ~md_data.MD_name.str.contains('F238LI233T')]\n",
    "md_I233T = md_data[md_data.MD_name.str.contains('I233T') & ~md_data.MD_name.str.contains('F238LI233T')]\n",
    "md_F238LI233T = md_data[md_data.MD_name.str.contains('F238LI233T')]\n",
    "\n",
    "md_WT[md_WT.system == 8 ].plot(kind=\"scatter\",x=\"m2_pc1\",y=\"m2_pc2\",c='purple',ax=ax[0,0],marker='^',colorbar=None)\n",
    "md_WT[md_WT.system == 12 ].plot(kind=\"scatter\",x=\"m2_pc1\",y=\"m2_pc2\",c='green',ax=ax[0,0],marker='s',colorbar=None)\n",
    "\n",
    "md_F238L[md_F238L.system == 9 ].plot(kind=\"scatter\",x=\"m2_pc1\",y=\"m2_pc2\",c='purple',ax=ax[0,1],marker='^',colorbar=None)\n",
    "md_F238L[md_F238L.system == 13 ].plot(kind=\"scatter\",x=\"m2_pc1\",y=\"m2_pc2\",c='green',ax=ax[0,1],marker='s',colorbar=None)\n",
    "\n",
    "md_I233T[md_I233T.system == 10 ].plot(kind=\"scatter\",x=\"m2_pc1\",y=\"m2_pc2\",c='purple',ax=ax[1,0],marker='^',colorbar=None)\n",
    "md_I233T[md_I233T.system == 14 ].plot(kind=\"scatter\",x=\"m2_pc1\",y=\"m2_pc2\",c='green',ax=ax[1,0],marker='s',colorbar=None)\n",
    "\n",
    "md_F238LI233T[md_F238LI233T.system == 11 ].plot(kind=\"scatter\",x=\"m2_pc1\",y=\"m2_pc2\",c='purple',ax=ax[1,1],marker='^',colorbar=None)\n",
    "md_F238LI233T[md_F238LI233T.system == 15 ].plot(kind=\"scatter\",x=\"m2_pc1\",y=\"m2_pc2\",c='green',ax=ax[1,1],marker='s',colorbar=None)\n",
    "\n",
    "colors = {'WT':'black', 'F238L':'#1b9e77', 'I233T':'#d95f02', 'F238LI233T':'#7570b3'}\n",
    "#option={'ms':10}\n",
    "\n",
    "#plt.scatter(mean1.loc[0:3].ecd_pc1,mean1.loc[0:3].tmd_pc1,c=['black','#1b9e77','#d95f02','#7570b3'],marker='*',s=300)\n",
    "#plt.scatter(mean1.loc[4:7].ecd_pc1,mean1.loc[4:7].tmd_pc1,c=['black','#1b9e77','#d95f02','#7570b3'],marker='v',s=200)\n",
    "#plt.scatter(mean1.loc[8:11].ecd_pc1,mean1.loc[8:11].tmd_pc1,c=['black','#1b9e77','#d95f02','#7570b3'],marker='^',s=200)\n",
    "#plt.scatter(mean1.loc[12:15].ecd_pc1,mean1.loc[12:15].tmd_pc1,c=['black','#1b9e77','#d95f02','#7570b3'],marker='s',s=200)\n",
    "\n",
    "#ax[0,0].scatter(pcca_reduced_cartesian[0], pcca_reduced_cartesian[1],c='grey',marker='o',s=30)\n",
    "#ax[0,1].scatter(pcca_reduced_cartesian[0], pcca_reduced_cartesian[1],c='grey',marker='o',s=30)\n",
    "#ax[1,0].scatter(pcca_reduced_cartesian[0], pcca_reduced_cartesian[1],c='grey',marker='o',s=30)\n",
    "#ax[1,1].scatter(pcca_reduced_cartesian[0], pcca_reduced_cartesian[1],c='grey',marker='o',s=30)\n",
    "\n",
    "#plt.scatter(pcca_reduced_cartesian[0], pcca_reduced_cartesian[1],c='grey',marker='o',axes=ax[0,1],s=200)\n",
    "#plt.scatter(pcca_reduced_cartesian[0], pcca_reduced_cartesian[1],c='grey',marker='o',ax=ax[1,0],s=200)\n",
    "#plt.scatter(pcca_reduced_cartesian[0], pcca_reduced_cartesian[1],c='grey',marker='o',ax=ax[0,1],s=200)\n",
    "\n",
    "\n",
    "\n",
    "\n",
    "#plt.plot(mean2.loc[4:7].ecd_pc1,mean2.loc[4:7].tmd_pc1,c=['black','#1b9e77','#d95f02','#7570b3'],marker='v',s=100)\n",
    "#plt.plot(mean2.loc[8:11].ecd_pc1,mean2.loc[8:11].tmd_pc1,c=['black','#1b9e77','#d95f02','#7570b3'],marker='^',s=100)\n",
    "#plt.plot(mean2.loc[12:15].ecd_pc1,mean2.loc[12:15].tmd_pc1,c=['black','#1b9e77','#d95f02','#7570b3'],marker='s',s=100)\n",
    "\n",
    "#group = md_cluster_2.groupby(['system'])[['ecd_pc1','tmd_pc1']]\n",
    "#mean = group.mean()\n",
    "#plt.scatter(mean.loc[0:3].ecd_pc1,mean.loc[0:3].tmd_pc1,c=['#a6611a','#7b3294','#0571b0','#018571'],marker='*',s=400)\n",
    "#plt.scatter(mean.loc[4:7].ecd_pc1,mean.loc[4:7].tmd_pc1,c=['#a6611a','#7b3294','#0571b0','#018571'],marker='v',s=300)\n",
    "#plt.scatter(mean.loc[8:11].ecd_pc1,mean.loc[8:11].tmd_pc1,c=['#a6611a','#7b3294','#0571b0','#018571'],marker='^',s=300)\n",
    "#plt.scatter(mean.loc[12:15].ecd_pc1,mean.loc[12:15].tmd_pc1,c=['#a6611a','#7b3294','#0571b0','#018571'],marker='s',s=300)\n",
    "\n",
    "\n",
    "ax[0,0].set_xlabel('M2 PC1')\n",
    "ax[0,0].set_ylabel('M2 PC2')\n",
    "ax[0,0].set_xlim(-2,3)\n",
    "ax[0,0].set_ylim(-2,1)\n",
    "ax[0,0].set_title('WT')\n",
    "\n",
    "ax[0,1].set_xlabel('M2 PC1')\n",
    "ax[0,1].set_ylabel('M2 PC2')\n",
    "ax[0,1].set_xlim(-2,3)\n",
    "ax[0,1].set_ylim(-2,1)\n",
    "ax[0,1].set_title('F238L')\n",
    "\n",
    "ax[1,0].set_xlabel('M2 PC1')\n",
    "ax[1,0].set_ylabel('M2 PC2')\n",
    "ax[1,0].set_xlim(-2,3)\n",
    "ax[1,0].set_ylim(-2,1)\n",
    "ax[1,0].set_title('I233T')\n",
    "\n",
    "ax[1,1].set_xlabel('M2 PC1')\n",
    "ax[1,1].set_ylabel('M2 PC2')\n",
    "ax[1,1].set_xlim(-2,3)\n",
    "ax[1,1].set_ylim(-2,1)\n",
    "ax[1,1].set_title('F238LI233T')\n",
    "\n",
    "custom_lines = [Line2D([0], [0], marker='o', color='grey', label='Scatter',\n",
    "                        markersize=10,linewidth= 0),\n",
    "                Line2D([0], [0], marker='*', color='black', label='Scatter',\n",
    "                           markersize=10,linewidth= 0),\n",
    "                Line2D([0], [0], marker='v', color='blue', label='Scatter',\n",
    "                          markersize=10,linewidth= 0),\n",
    "                Line2D([0], [0], marker='^', color='purple', label='Scatter',\n",
    "                           markersize=10,linewidth= 0),\n",
    "                Line2D([0], [0], marker='s', color='green', label='Scatter',\n",
    "                           markersize=10,linewidth= 0)]\n",
    "ax[0,0].legend(custom_lines, ['XRD Structure','locally-closed state at pH 7','locally-closed state at pH 4','open state at pH 4','closed state at pH 7'])\n",
    "ax[0,1].legend(custom_lines, ['XRD Structure','locally-closed state at pH 7','locally-closed state at pH 4','open state at pH 4','closed state at pH 7'])\n",
    "ax[1,0].legend(custom_lines, ['XRD Structure','locally-closed state at pH 7','locally-closed state at pH 4','open state at pH 4','closed state at pH 7'])\n",
    "ax[1,1].legend(custom_lines, ['XRD Structure','locally-closed state at pH 7','locally-closed state at pH 4','open state at pH 4','closed state at pH 7'])\n",
    "\n",
    "\n",
    "from matplotlib.lines import Line2D\n",
    "\n",
    "if titleon:\n",
    "\n",
    "    plt.suptitle('CPPCA')\n",
    "#plt.savefig('plots/cppca_all.pdf')"
   ]
  },
  {
   "cell_type": "code",
   "execution_count": 218,
   "metadata": {},
   "outputs": [],
   "source": [
    "def plot_trend(plot_x,plot_y):\n",
    "    fig, axes = plt.subplots(2, 2,figsize=(20, 10))\n",
    "\n",
    "    for system in [0,1,2,3]:\n",
    "        if system == 0:\n",
    "            option = {'label':'locally-closed state WT at pH 7'}\n",
    "            option['c'] = 'black'\n",
    "        if system == 1:\n",
    "            option = {'label':'locally-closed state F238L at pH 7'}\n",
    "            option['c'] = '#1b9e77' \n",
    "        if system == 2:\n",
    "            option = {'label':'locally-closed state I233T at pH 7'}\n",
    "            option['c'] = '#d95f02' \n",
    "        if system == 3:\n",
    "            option = {'label':'locally-closed state F238LI233T at pH 7'}\n",
    "            option['c'] = '#7570b3' \n",
    "\n",
    "        group = md_data[md_data['system'] == system].groupby([plot_x])[plot_y]\n",
    "        mean = group.mean()\n",
    "        errors = group.std()\n",
    "        mean.plot(yerr=errors,ax=axes[1,0],**option,**lineplot)\n",
    "\n",
    "\n",
    "    for system in [4,5,6,7]:\n",
    "        if system == 4:\n",
    "            option = {'label':'locally-closed state WT at pH 4'}\n",
    "            option['c'] = 'black'\n",
    "        if system == 5:\n",
    "            option = {'label':'locally-closed state F238L at pH 4'}\n",
    "            option['c'] = '#1b9e77' \n",
    "        if system == 6:\n",
    "            option = {'label':'locally-closed state I233T at pH 4'}\n",
    "            option['c'] = '#d95f02' \n",
    "        if system == 7:\n",
    "            option = {'label':'locally-closed state F238LI233T at pH 4'}\n",
    "            option['c'] = '#7570b3' \n",
    "\n",
    "        group = md_data[md_data['system'] == system].groupby([plot_x])[plot_y]\n",
    "        mean = group.mean()\n",
    "        errors = group.std()\n",
    "        mean.plot(yerr=errors,ax=axes[1,1],**option,**lineplot)\n",
    "\n",
    "    for system in [8,9,10,11]:\n",
    "        if system == 8:\n",
    "            option = {'label':'open state WT at pH 4'}\n",
    "            option['c'] = 'black'\n",
    "        if system == 9:\n",
    "            option = {'label':'open state F238L at pH 4'}\n",
    "            option['c'] = '#1b9e77' \n",
    "        if system == 10:\n",
    "            option = {'label':'open state I233T at pH 4'}\n",
    "            option['c'] = '#d95f02' \n",
    "        if system == 11:\n",
    "            option = {'label':'open state F238LI233T at pH 4'}\n",
    "            option['c'] = '#7570b3' \n",
    "\n",
    "        group = md_data[md_data['system'] == system].groupby([plot_x])[plot_y]\n",
    "        mean = group.mean()\n",
    "        errors = group.std()\n",
    "\n",
    "        mean.plot(yerr=errors,ax=axes[0,1],**option,**lineplot)\n",
    "\n",
    "    for system in [12,13,14,15]:\n",
    "        if system == 12:\n",
    "            option = {'label':'closed state WT at pH 7'}\n",
    "            option['c'] = 'black'\n",
    "        if system == 13:\n",
    "            option = {'label':'closed state F238L at pH 7'}\n",
    "            option['c'] = '#1b9e77' \n",
    "        if system == 14:\n",
    "            option = {'label':'closed state I233T at pH 7'}\n",
    "            option['c'] = '#d95f02' \n",
    "        if system == 15:\n",
    "            option = {'label':'closed state F238LI233T at pH 7'}\n",
    "            option['c'] = '#7570b3' \n",
    "\n",
    "        group = md_data[md_data['system'] == system].groupby([plot_x])[plot_y]\n",
    "        mean = group.mean()\n",
    "        errors = group.std()\n",
    "        mean.plot(yerr=errors,ax=axes[0,0],**option,**lineplot)\n",
    "\n",
    "    axes[0,0].set_xlim(0,800)\n",
    "    axes[0,1].set_xlim(0,800)\n",
    "    axes[1,0].set_xlim(0,800)\n",
    "    axes[1,1].set_xlim(0,800)\n",
    "\n",
    "    axes[0,0].legend()\n",
    "    axes[0,1].legend()\n",
    "    axes[1,0].legend()\n",
    "    axes[1,1].legend()\n",
    "\n",
    "    axes[0,0].set_xlabel('Times (ns)')\n",
    "    axes[0,0].set_ylabel(plot_y)\n",
    "    axes[0,1].set_xlabel('Times (ns)')\n",
    "    axes[0,1].set_ylabel(plot_y)\n",
    "    axes[1,0].set_xlabel('Times (ns)')\n",
    "    axes[1,0].set_ylabel(plot_y)\n",
    "    axes[1,1].set_xlabel('Times (ns)')\n",
    "    axes[1,1].set_ylabel(plot_y)\n",
    "    plt.suptitle(plot_y)\n",
    "    plt.show()"
   ]
  },
  {
   "cell_type": "code",
   "execution_count": 219,
   "metadata": {},
   "outputs": [
    {
     "data": {
      "text/plain": [
       "Index(['MD_name', 'pH', 'replicate', 'traj_time', 'system', 'ecd_pc1',\n",
       "       'ecd_pc2', 'tmd_pc1', 'tmd_pc2', 'wholepca_pc1', 'wholepca_pc2',\n",
       "       'wholepca_pc3', 'wholepca_pc4', 'wholepca_pc5', 'domain twist',\n",
       "       'helix tilt angle', 'helix twist angle', 'beta_expansion', 'M2_radius',\n",
       "       'ECD_radius', 'M2_M1_distance', 'M1_kink', 'hydration_data',\n",
       "       'hydration_data235_3a', 'hydration_data233_3a', 'hydration_data238_3a',\n",
       "       'hydration_data226_3a', 'hydration_data240_3a', 'hydration_data_m123',\n",
       "       'pore_profile_222', 'pore_profile_226', 'pore_profile_230',\n",
       "       'pore_profile_233', 'pore_profile_237', 'pore_profile_240', 'rmsd4NPQ',\n",
       "       'rmsd4HFI', 'rmsd5NJY', 'tmd_rmsd', 'ecd_rmsd', 'rmsd', 'cluster_index',\n",
       "       'ECD twist', 'hydration_data_236_center', 'tmd_noM2_pc1',\n",
       "       'tmd_noM2_pc2', 'rmsd_TMD_noM2', 'contact_238_246',\n",
       "       'ecd_pc1_no_expansion', 'ecd_pc2_no_expansion', 'dbscan',\n",
       "       'M2_M1_distance_1', 'M2_M1_distance_2', 'M2_M1_distance_3',\n",
       "       'M2_M1_distance_4', 'M2_M1_distance_5'],\n",
       "      dtype='object')"
      ]
     },
     "execution_count": 219,
     "metadata": {},
     "output_type": "execute_result"
    }
   ],
   "source": [
    "md_data.columns"
   ]
  },
  {
   "cell_type": "code",
   "execution_count": 220,
   "metadata": {},
   "outputs": [
    {
     "data": {
      "image/png": "[encoded data removed]",
      "text/plain": [
       "<matplotlib.figure.Figure at 0x7fb3a1b1f128>"
      ]
     },
     "metadata": {},
     "output_type": "display_data"
    }
   ],
   "source": [
    "plot_trend('traj_time','contact_238_246')"
   ]
  },
  {
   "cell_type": "code",
   "execution_count": null,
   "metadata": {},
   "outputs": [],
   "source": []
  }
 ],
 "metadata": {
  "kernelspec": {
   "display_name": "deepchem",
   "language": "python",
   "name": "deepchem"
  },
  "language_info": {
   "codemirror_mode": {
    "name": "ipython",
    "version": 3
   },
   "file_extension": ".py",
   "mimetype": "text/x-python",
   "name": "python",
   "nbconvert_exporter": "python",
   "pygments_lexer": "ipython3",
   "version": "3.5.4"
  }
 },
 "nbformat": 4,
 "nbformat_minor": 2
}
