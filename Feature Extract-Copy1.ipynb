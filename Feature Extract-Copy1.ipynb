{
 "cells": [
  {
   "cell_type": "markdown",
   "metadata": {},
   "source": [
    "# Feature Extract"
   ]
  },
  {
   "cell_type": "markdown",
   "metadata": {},
   "source": [
    "Usage: function plotting will plot rmsd, rmsd histogram, rmsf and PCA projection"
   ]
  },
  {
   "cell_type": "code",
   "execution_count": 1,
   "metadata": {},
   "outputs": [],
   "source": [
    "from __future__ import print_function\n",
    "%matplotlib inline\n",
    "import mdtraj as md\n",
    "import numpy as np\n",
    "import matplotlib\n",
    "import matplotlib.pyplot as plt\n",
    "import scipy.cluster.hierarchy\n",
    "from scipy.spatial.distance import squareform\n",
    "import pandas as pd\n",
    "import matplotlib.gridspec as gridspec\n",
    "from mpl_toolkits.mplot3d import Axes3D\n",
    "from sklearn.decomposition import PCA\n",
    "import warnings\n",
    "warnings.filterwarnings('ignore')\n",
    "import MDAnalysis as mda\n",
    "#XRD Ensemble\n",
    "#28 4NPQ\n",
    "#18 4HFI"
   ]
  },
  {
   "cell_type": "code",
   "execution_count": 2,
   "metadata": {},
   "outputs": [],
   "source": [
    "residue_selection = 'resSeq 8 to 316'"
   ]
  },
  {
   "cell_type": "code",
   "execution_count": 3,
   "metadata": {},
   "outputs": [],
   "source": [
    "traj_notes = ['5NJY_pH70_md1','5NJY_pH70_md2','5NJY_pH70_md3','5NJY_F238L_pH70_md1',\n",
    "                 '5NJY_F238L_pH70_md2','5NJY_F238L_pH70_md3','5NJY_I233T_pH70_md1',\n",
    "                  '5NJY_I233T_pH70_md2','5NJY_I233T_pH70_md3','5NJY_F238LI233T_pH70_md1',\n",
    "                  '5NJY_F238LI233T_pH70_md2','5NJY_F238LI233T_pH70_md3','5NJY_pH46_md1','5NJY_pH46_md2','5NJY_pH46_md3','5NJY_F238L_pH46_md1',\n",
    "                 '5NJY_F238L_pH46_md2','5NJY_F238L_pH46_md3','5NJY_I233T_pH46_md1',\n",
    "                  '5NJY_I233T_pH46_md2','5NJY_I233T_pH46_md3','5NJY_F238LI233T_pH46_md1',\n",
    "                  '5NJY_F238LI233T_pH46_md2','5NJY_F238LI233T_pH46_md3','4HFI_pH46_md1','4HFI_pH46_md2','4HFI_pH46_md3','4HFI_F238L_pH46_md1',\n",
    "                 '4HFI_F238L_pH46_md2','4HFI_F238L_pH46_md3','4HFI_I233T_pH46_md1',\n",
    "                  '4HFI_I233T_pH46_md2','4HFI_I233T_pH46_md3','4HFI_F238LI233T_pH46_md1',\n",
    "                  '4HFI_F238LI233T_pH46_md2','4HFI_F238LI233T_pH46_md3','4NPQ_pH70_md5','4NPQ_pH70_md6','4NPQ_pH70_md7','4NPQ_F238L_pH70_md3',\n",
    "                 '4NPQ_F238L_pH70_md4','4NPQ_F238L_pH70_md5','4NPQ_I233T_pH70_md3',\n",
    "                  '4NPQ_I233T_pH70_md4','4NPQ_I233T_pH70_md5','4NPQ_F238LI233T_pH70_md3',\n",
    "                  '4NPQ_F238LI233T_pH70_md4','4NPQ_F238LI233T_pH70_md5','4HFI_pH70_md1','4NPQ_F238LI233T_pH46_md1',\n",
    "               '4NPQ_F238L_pH46_md1','4NPQ_F238L_pH46_md2','4NPQ_pH46_md1','4NPQ_I233T_pH46_md1','4NPQ_I233T_pH46_md2','4NPQ_I233T_pH46_md3']"
   ]
  },
  {
   "cell_type": "code",
   "execution_count": 4,
   "metadata": {},
   "outputs": [],
   "source": [
    "def create_md_dataframe():    \n",
    "    md_data = pd.DataFrame(columns=list(['MD_name','pH','replicate','traj_time']))\n",
    "    return md_data"
   ]
  },
  {
   "cell_type": "code",
   "execution_count": 5,
   "metadata": {},
   "outputs": [],
   "source": [
    "def create_metadata(md_data= None):   \n",
    "    def append_metadata(traj_note,location = '/media/scottzhuang/data/MD/',skip=10,md_data= md_data):\n",
    "        top_location = traj_note + '/' + traj_note + \".ca.gro\"\n",
    "        traj_location = traj_note + '/' + traj_note + \".skip\" + str(skip) + \".ca.xtc\"\n",
    "        if skip == 1:\n",
    "            traj = md.load(location + traj_location,top= location + top_location,stride=10)\n",
    "        else:\n",
    "            traj = md.load(location + traj_location,top= location + top_location)\n",
    "        print(\"In \" + traj_note + \", simulation runs \" + str(10 * traj.n_frames) + \" ns.\")\n",
    "        md_name = traj_note[:traj_note.find('pH')-1]\n",
    "        pH = traj_note[traj_note.find('pH')+2:traj_note.find('pH')+4]\n",
    "        md_replicate = traj_note[-1]\n",
    "        for i in range(0,traj.n_frames):\n",
    "            md_data.loc[md_data.shape[0]+1] = [md_name,pH,md_replicate,i]\n",
    "\n",
    "    for traj_note in traj_notes:\n",
    "        append_metadata(traj_note)"
   ]
  },
  {
   "cell_type": "code",
   "execution_count": 6,
   "metadata": {},
   "outputs": [],
   "source": [
    "def create_system_notation(md_data = None):\n",
    "    system_notation = 0\n",
    "    notation = -1\n",
    "    location = '/media/scottzhuang/data/MD/'\n",
    "    skip=10\n",
    "    notations = []\n",
    "    increment = 0\n",
    "    for traj_note in traj_notes:\n",
    "        top_location = traj_note + '/' + traj_note + \".ca.gro\"\n",
    "        traj_location = traj_note + '/' + traj_note + \".skip\" + str(skip) + \".ca.xtc\"\n",
    "        traj = md.load(location + traj_location,top= location + top_location)\n",
    "        if traj_note.find('md1') >= 0:\n",
    "            notation = notation + 1\n",
    "        if traj_note == '4NPQ_pH70_md5' or  traj_note == '4NPQ_F238L_pH70_md3' or traj_note == '4NPQ_I233T_pH70_md3' or traj_note == '4NPQ_F238LI233T_pH70_md3':\n",
    "            notation = notation + 1\n",
    "\n",
    "        for frame in range(0,traj.n_frames):\n",
    "            notations.append(notation)\n",
    "        #if increment % 3 == 2:\n",
    "        #    notation = notation + 1\n",
    "        #increment = increment + 1 \n",
    "        \n",
    "    md_data['system'] = notations"
   ]
  },
  {
   "cell_type": "code",
   "execution_count": 7,
   "metadata": {},
   "outputs": [
    {
     "name": "stdout",
     "output_type": "stream",
     "text": [
      "In 5NJY_pH70_md1, simulation runs 1030 ns.\n",
      "In 5NJY_pH70_md2, simulation runs 750 ns.\n",
      "In 5NJY_pH70_md3, simulation runs 810 ns.\n",
      "In 5NJY_F238L_pH70_md1, simulation runs 540 ns.\n",
      "In 5NJY_F238L_pH70_md2, simulation runs 680 ns.\n",
      "In 5NJY_F238L_pH70_md3, simulation runs 720 ns.\n",
      "In 5NJY_I233T_pH70_md1, simulation runs 620 ns.\n",
      "In 5NJY_I233T_pH70_md2, simulation runs 590 ns.\n",
      "In 5NJY_I233T_pH70_md3, simulation runs 820 ns.\n",
      "In 5NJY_F238LI233T_pH70_md1, simulation runs 830 ns.\n",
      "In 5NJY_F238LI233T_pH70_md2, simulation runs 800 ns.\n",
      "In 5NJY_F238LI233T_pH70_md3, simulation runs 600 ns.\n",
      "In 5NJY_pH46_md1, simulation runs 550 ns.\n",
      "In 5NJY_pH46_md2, simulation runs 800 ns.\n",
      "In 5NJY_pH46_md3, simulation runs 560 ns.\n",
      "In 5NJY_F238L_pH46_md1, simulation runs 930 ns.\n",
      "In 5NJY_F238L_pH46_md2, simulation runs 950 ns.\n",
      "In 5NJY_F238L_pH46_md3, simulation runs 1090 ns.\n",
      "In 5NJY_I233T_pH46_md1, simulation runs 810 ns.\n",
      "In 5NJY_I233T_pH46_md2, simulation runs 870 ns.\n",
      "In 5NJY_I233T_pH46_md3, simulation runs 980 ns.\n",
      "In 5NJY_F238LI233T_pH46_md1, simulation runs 790 ns.\n",
      "In 5NJY_F238LI233T_pH46_md2, simulation runs 950 ns.\n",
      "In 5NJY_F238LI233T_pH46_md3, simulation runs 960 ns.\n",
      "In 4HFI_pH46_md1, simulation runs 1100 ns.\n",
      "In 4HFI_pH46_md2, simulation runs 1100 ns.\n",
      "In 4HFI_pH46_md3, simulation runs 1070 ns.\n",
      "In 4HFI_F238L_pH46_md1, simulation runs 1040 ns.\n",
      "In 4HFI_F238L_pH46_md2, simulation runs 1010 ns.\n",
      "In 4HFI_F238L_pH46_md3, simulation runs 1040 ns.\n",
      "In 4HFI_I233T_pH46_md1, simulation runs 1030 ns.\n",
      "In 4HFI_I233T_pH46_md2, simulation runs 1030 ns.\n",
      "In 4HFI_I233T_pH46_md3, simulation runs 1030 ns.\n",
      "In 4HFI_F238LI233T_pH46_md1, simulation runs 1060 ns.\n",
      "In 4HFI_F238LI233T_pH46_md2, simulation runs 1010 ns.\n",
      "In 4HFI_F238LI233T_pH46_md3, simulation runs 1120 ns.\n",
      "In 4NPQ_pH70_md5, simulation runs 600 ns.\n",
      "In 4NPQ_pH70_md6, simulation runs 680 ns.\n",
      "In 4NPQ_pH70_md7, simulation runs 810 ns.\n",
      "In 4NPQ_F238L_pH70_md3, simulation runs 830 ns.\n",
      "In 4NPQ_F238L_pH70_md4, simulation runs 990 ns.\n",
      "In 4NPQ_F238L_pH70_md5, simulation runs 960 ns.\n",
      "In 4NPQ_I233T_pH70_md3, simulation runs 890 ns.\n",
      "In 4NPQ_I233T_pH70_md4, simulation runs 980 ns.\n",
      "In 4NPQ_I233T_pH70_md5, simulation runs 1050 ns.\n",
      "In 4NPQ_F238LI233T_pH70_md3, simulation runs 880 ns.\n",
      "In 4NPQ_F238LI233T_pH70_md4, simulation runs 920 ns.\n",
      "In 4NPQ_F238LI233T_pH70_md5, simulation runs 1010 ns.\n",
      "In 4HFI_pH70_md1, simulation runs 1010 ns.\n",
      "In 4NPQ_F238LI233T_pH46_md1, simulation runs 1030 ns.\n",
      "In 4NPQ_F238L_pH46_md1, simulation runs 1470 ns.\n",
      "In 4NPQ_F238L_pH46_md2, simulation runs 990 ns.\n",
      "In 4NPQ_pH46_md1, simulation runs 590 ns.\n",
      "In 4NPQ_I233T_pH46_md1, simulation runs 1590 ns.\n",
      "In 4NPQ_I233T_pH46_md2, simulation runs 1050 ns.\n",
      "In 4NPQ_I233T_pH46_md3, simulation runs 1000 ns.\n"
     ]
    }
   ],
   "source": [
    "md_data = create_md_dataframe()\n",
    "create_metadata(md_data= md_data)\n",
    "create_system_notation(md_data = md_data)"
   ]
  },
  {
   "cell_type": "code",
   "execution_count": 9,
   "metadata": {},
   "outputs": [],
   "source": [
    "traj_note = '5NJY_pH70_md1'\n",
    "location = '/media/scottzhuang/data/MD/'\n",
    "skip=10\n",
    "top_location = traj_note + '/' + traj_note + \".ca.gro\"\n",
    "traj_location = traj_note + '/' + traj_note + \".skip\" + str(skip) + \".ca.xtc\"\n",
    "traj = md.load(location + traj_location,top= location + top_location)"
   ]
  },
  {
   "cell_type": "code",
   "execution_count": 10,
   "metadata": {},
   "outputs": [],
   "source": [
    "import itertools"
   ]
  },
  {
   "cell_type": "code",
   "execution_count": 11,
   "metadata": {},
   "outputs": [
    {
     "data": {
      "text/plain": [
       "<itertools.product at 0x7fd633866678>"
      ]
     },
     "execution_count": 11,
     "metadata": {},
     "output_type": "execute_result"
    }
   ],
   "source": [
    "itertools.product(range(198,315),repeat=4)"
   ]
  },
  {
   "cell_type": "code",
   "execution_count": 28,
   "metadata": {},
   "outputs": [
    {
     "data": {
      "text/plain": [
       "1555"
      ]
     },
     "execution_count": 28,
     "metadata": {},
     "output_type": "execute_result"
    }
   ],
   "source": [
    "traj.n_atoms"
   ]
  },
  {
   "cell_type": "code",
   "execution_count": 29,
   "metadata": {},
   "outputs": [],
   "source": [
    "dihedral_data = []\n",
    "dihedral_indice = []\n",
    "for i in itertools.product([198,199,200,300,400,500,600,700,1000,1200],repeat=4):\n",
    "    dihedral_indice.append(np.asarray(i))\n",
    "dihedral_data.extend(md.compute_dihedrals(traj,dihedral_indice))"
   ]
  },
  {
   "cell_type": "code",
   "execution_count": 31,
   "metadata": {},
   "outputs": [
    {
     "data": {
      "text/plain": [
       "[array([ 0.,  0.,  0., ...,  0.,  0.,  0.], dtype=float32),\n",
       " array([ 0.,  0.,  0., ...,  0.,  0.,  0.], dtype=float32),\n",
       " array([ 0.,  0.,  0., ...,  0.,  0.,  0.], dtype=float32),\n",
       " array([ 0.,  0.,  0., ...,  0.,  0.,  0.], dtype=float32),\n",
       " array([ 0.,  0.,  0., ...,  0.,  0.,  0.], dtype=float32),\n",
       " array([ 0.,  0.,  0., ...,  0.,  0.,  0.], dtype=float32),\n",
       " array([ 0.,  0.,  0., ...,  0.,  0.,  0.], dtype=float32),\n",
       " array([ 0.,  0.,  0., ...,  0.,  0.,  0.], dtype=float32),\n",
       " array([ 0.,  0.,  0., ...,  0.,  0.,  0.], dtype=float32),\n",
       " array([ 0.,  0.,  0., ...,  0.,  0.,  0.], dtype=float32),\n",
       " array([ 0.,  0.,  0., ...,  0.,  0.,  0.], dtype=float32),\n",
       " array([ 0.,  0.,  0., ...,  0.,  0.,  0.], dtype=float32),\n",
       " array([ 0.,  0.,  0., ...,  0.,  0.,  0.], dtype=float32),\n",
       " array([ 0.,  0.,  0., ...,  0.,  0.,  0.], dtype=float32),\n",
       " array([ 0.,  0.,  0., ...,  0.,  0.,  0.], dtype=float32),\n",
       " array([ 0.,  0.,  0., ...,  0.,  0.,  0.], dtype=float32),\n",
       " array([ 0.,  0.,  0., ...,  0.,  0.,  0.], dtype=float32),\n",
       " array([ 0.,  0.,  0., ...,  0.,  0.,  0.], dtype=float32),\n",
       " array([ 0.,  0.,  0., ...,  0.,  0.,  0.], dtype=float32),\n",
       " array([ 0.,  0.,  0., ...,  0.,  0.,  0.], dtype=float32),\n",
       " array([ 0.,  0.,  0., ...,  0.,  0.,  0.], dtype=float32),\n",
       " array([ 0.,  0.,  0., ...,  0.,  0.,  0.], dtype=float32),\n",
       " array([ 0.,  0.,  0., ...,  0.,  0.,  0.], dtype=float32),\n",
       " array([ 0.,  0.,  0., ...,  0.,  0.,  0.], dtype=float32),\n",
       " array([ 0.,  0.,  0., ...,  0.,  0.,  0.], dtype=float32),\n",
       " array([ 0.,  0.,  0., ...,  0.,  0.,  0.], dtype=float32),\n",
       " array([ 0.,  0.,  0., ...,  0.,  0.,  0.], dtype=float32),\n",
       " array([ 0.,  0.,  0., ...,  0.,  0.,  0.], dtype=float32),\n",
       " array([ 0.,  0.,  0., ...,  0.,  0.,  0.], dtype=float32),\n",
       " array([ 0.,  0.,  0., ...,  0.,  0.,  0.], dtype=float32),\n",
       " array([ 0.,  0.,  0., ...,  0.,  0.,  0.], dtype=float32),\n",
       " array([ 0.,  0.,  0., ...,  0.,  0.,  0.], dtype=float32),\n",
       " array([ 0.,  0.,  0., ...,  0.,  0.,  0.], dtype=float32),\n",
       " array([ 0.,  0.,  0., ...,  0.,  0.,  0.], dtype=float32),\n",
       " array([ 0.,  0.,  0., ...,  0.,  0.,  0.], dtype=float32),\n",
       " array([ 0.,  0.,  0., ...,  0.,  0.,  0.], dtype=float32),\n",
       " array([ 0.,  0.,  0., ...,  0.,  0.,  0.], dtype=float32),\n",
       " array([ 0.,  0.,  0., ...,  0.,  0.,  0.], dtype=float32),\n",
       " array([ 0.,  0.,  0., ...,  0.,  0.,  0.], dtype=float32),\n",
       " array([ 0.,  0.,  0., ...,  0.,  0.,  0.], dtype=float32),\n",
       " array([ 0.,  0.,  0., ...,  0.,  0.,  0.], dtype=float32),\n",
       " array([ 0.,  0.,  0., ...,  0.,  0.,  0.], dtype=float32),\n",
       " array([ 0.,  0.,  0., ...,  0.,  0.,  0.], dtype=float32),\n",
       " array([ 0.,  0.,  0., ...,  0.,  0.,  0.], dtype=float32),\n",
       " array([ 0.,  0.,  0., ...,  0.,  0.,  0.], dtype=float32),\n",
       " array([ 0.,  0.,  0., ...,  0.,  0.,  0.], dtype=float32),\n",
       " array([ 0.,  0.,  0., ...,  0.,  0.,  0.], dtype=float32),\n",
       " array([ 0.,  0.,  0., ...,  0.,  0.,  0.], dtype=float32),\n",
       " array([ 0.,  0.,  0., ...,  0.,  0.,  0.], dtype=float32),\n",
       " array([ 0.,  0.,  0., ...,  0.,  0.,  0.], dtype=float32),\n",
       " array([ 0.,  0.,  0., ...,  0.,  0.,  0.], dtype=float32),\n",
       " array([ 0.,  0.,  0., ...,  0.,  0.,  0.], dtype=float32),\n",
       " array([ 0.,  0.,  0., ...,  0.,  0.,  0.], dtype=float32),\n",
       " array([ 0.,  0.,  0., ...,  0.,  0.,  0.], dtype=float32),\n",
       " array([ 0.,  0.,  0., ...,  0.,  0.,  0.], dtype=float32),\n",
       " array([ 0.,  0.,  0., ...,  0.,  0.,  0.], dtype=float32),\n",
       " array([ 0.,  0.,  0., ...,  0.,  0.,  0.], dtype=float32),\n",
       " array([ 0.,  0.,  0., ...,  0.,  0.,  0.], dtype=float32),\n",
       " array([ 0.,  0.,  0., ...,  0.,  0.,  0.], dtype=float32),\n",
       " array([ 0.,  0.,  0., ...,  0.,  0.,  0.], dtype=float32),\n",
       " array([ 0.,  0.,  0., ...,  0.,  0.,  0.], dtype=float32),\n",
       " array([ 0.,  0.,  0., ...,  0.,  0.,  0.], dtype=float32),\n",
       " array([ 0.,  0.,  0., ...,  0.,  0.,  0.], dtype=float32),\n",
       " array([ 0.,  0.,  0., ...,  0.,  0.,  0.], dtype=float32),\n",
       " array([ 0.,  0.,  0., ...,  0.,  0.,  0.], dtype=float32),\n",
       " array([ 0.,  0.,  0., ...,  0.,  0.,  0.], dtype=float32),\n",
       " array([ 0.,  0.,  0., ...,  0.,  0.,  0.], dtype=float32),\n",
       " array([ 0.,  0.,  0., ...,  0.,  0.,  0.], dtype=float32),\n",
       " array([ 0.,  0.,  0., ...,  0.,  0.,  0.], dtype=float32),\n",
       " array([ 0.,  0.,  0., ...,  0.,  0.,  0.], dtype=float32),\n",
       " array([ 0.,  0.,  0., ...,  0.,  0.,  0.], dtype=float32),\n",
       " array([ 0.,  0.,  0., ...,  0.,  0.,  0.], dtype=float32),\n",
       " array([ 0.,  0.,  0., ...,  0.,  0.,  0.], dtype=float32),\n",
       " array([ 0.,  0.,  0., ...,  0.,  0.,  0.], dtype=float32),\n",
       " array([ 0.,  0.,  0., ...,  0.,  0.,  0.], dtype=float32),\n",
       " array([ 0.,  0.,  0., ...,  0.,  0.,  0.], dtype=float32),\n",
       " array([ 0.,  0.,  0., ...,  0.,  0.,  0.], dtype=float32),\n",
       " array([ 0.,  0.,  0., ...,  0.,  0.,  0.], dtype=float32),\n",
       " array([ 0.,  0.,  0., ...,  0.,  0.,  0.], dtype=float32),\n",
       " array([ 0.,  0.,  0., ...,  0.,  0.,  0.], dtype=float32),\n",
       " array([ 0.,  0.,  0., ...,  0.,  0.,  0.], dtype=float32),\n",
       " array([ 0.,  0.,  0., ...,  0.,  0.,  0.], dtype=float32),\n",
       " array([ 0.,  0.,  0., ...,  0.,  0.,  0.], dtype=float32),\n",
       " array([ 0.,  0.,  0., ...,  0.,  0.,  0.], dtype=float32),\n",
       " array([ 0.,  0.,  0., ...,  0.,  0.,  0.], dtype=float32),\n",
       " array([ 0.,  0.,  0., ...,  0.,  0.,  0.], dtype=float32),\n",
       " array([ 0.,  0.,  0., ...,  0.,  0.,  0.], dtype=float32),\n",
       " array([ 0.,  0.,  0., ...,  0.,  0.,  0.], dtype=float32),\n",
       " array([ 0.,  0.,  0., ...,  0.,  0.,  0.], dtype=float32),\n",
       " array([ 0.,  0.,  0., ...,  0.,  0.,  0.], dtype=float32),\n",
       " array([ 0.,  0.,  0., ...,  0.,  0.,  0.], dtype=float32),\n",
       " array([ 0.,  0.,  0., ...,  0.,  0.,  0.], dtype=float32),\n",
       " array([ 0.,  0.,  0., ...,  0.,  0.,  0.], dtype=float32),\n",
       " array([ 0.,  0.,  0., ...,  0.,  0.,  0.], dtype=float32),\n",
       " array([ 0.,  0.,  0., ...,  0.,  0.,  0.], dtype=float32),\n",
       " array([ 0.,  0.,  0., ...,  0.,  0.,  0.], dtype=float32),\n",
       " array([ 0.,  0.,  0., ...,  0.,  0.,  0.], dtype=float32),\n",
       " array([ 0.,  0.,  0., ...,  0.,  0.,  0.], dtype=float32),\n",
       " array([ 0.,  0.,  0., ...,  0.,  0.,  0.], dtype=float32),\n",
       " array([ 0.,  0.,  0., ...,  0.,  0.,  0.], dtype=float32),\n",
       " array([ 0.,  0.,  0., ...,  0.,  0.,  0.], dtype=float32),\n",
       " array([ 0.,  0.,  0., ...,  0.,  0.,  0.], dtype=float32),\n",
       " array([ 0.,  0.,  0., ...,  0.,  0.,  0.], dtype=float32)]"
      ]
     },
     "execution_count": 31,
     "metadata": {},
     "output_type": "execute_result"
    }
   ],
   "source": [
    "dihedral_data"
   ]
  },
  {
   "cell_type": "code",
   "execution_count": 82,
   "metadata": {},
   "outputs": [],
   "source": [
    "md_data.to_csv(\"glic_gating_feature.csv\")"
   ]
  },
  {
   "cell_type": "code",
   "execution_count": 8,
   "metadata": {
    "scrolled": true
   },
   "outputs": [
    {
     "data": {
      "text/plain": [
       "Index(['MD_name', 'pH', 'replicate', 'traj_time', 'system'], dtype='object')"
      ]
     },
     "execution_count": 8,
     "metadata": {},
     "output_type": "execute_result"
    }
   ],
   "source": [
    "md_data.columns"
   ]
  },
  {
   "cell_type": "code",
   "execution_count": null,
   "metadata": {},
   "outputs": [],
   "source": []
  }
 ],
 "metadata": {
  "kernelspec": {
   "display_name": "deepchem",
   "language": "python",
   "name": "deepchem"
  },
  "language_info": {
   "codemirror_mode": {
    "name": "ipython",
    "version": 3
   },
   "file_extension": ".py",
   "mimetype": "text/x-python",
   "name": "python",
   "nbconvert_exporter": "python",
   "pygments_lexer": "ipython3",
   "version": "3.5.4"
  }
 },
 "nbformat": 4,
 "nbformat_minor": 2
}
