{
 "cells": [
  {
   "cell_type": "markdown",
   "metadata": {},
   "source": [
    "# Analysis of Molecular Dynamics Simulations Elucidates Interplay Between Allosteric and Active Sites in a Model Ligand- gated Ion Channel"
   ]
  },
  {
   "cell_type": "raw",
   "metadata": {},
   "source": [
    "system no.\n",
    "0. 5NJY_pH70\n",
    "1. 5NJY_F238L_pH70\n",
    "2. 5NJY_I233T_pH70\n",
    "3. 5NJY_F238LI233T_pH70\n",
    "4. 5NJY_pH46\n",
    "5. 5NJY_F238L_pH46\n",
    "6. 5NJY_I233T_pH46\n",
    "7. 5NJY_F238LI233T_pH46\n",
    "8. 4HFI_pH46\n",
    "9. 4HFI_F238L_pH46\n",
    "10. 4HFI_I233T_pH46\n",
    "11. 4HFI_F238LI233T_pH46\n",
    "12. 4NPQ_pH70\n",
    "13. 4NPQ_F238L_pH70\n",
    "14. 4NPQ_I233T_pH70\n",
    "15. 4NPQ_F238LI233T_pH70\n",
    "#16. 4HFI_pH70\n",
    "#17. 4NPQ_F238LI233T_pH46\n",
    "#18. 4NPQ_F238L_pH46\n",
    "#19. 4NPQ_pH46\n",
    "#20. 4NPQ_I233T_pH46"
   ]
  },
  {
   "cell_type": "code",
   "execution_count": 2,
   "metadata": {},
   "outputs": [],
   "source": [
    "#Modules\n",
    "from __future__ import print_function\n",
    "import mdtraj as md\n",
    "import numpy as np\n",
    "import matplotlib\n",
    "import matplotlib.pyplot as plt\n",
    "import scipy.cluster.hierarchy\n",
    "from scipy.spatial.distance import squareform\n",
    "import pandas as pd\n",
    "import matplotlib.gridspec as gridspec\n",
    "from mpl_toolkits.mplot3d import Axes3D\n",
    "from sklearn.decomposition import PCA\n",
    "import warnings\n",
    "warnings.filterwarnings('ignore')\n",
    "%matplotlib inline\n"
   ]
  },
  {
   "cell_type": "code",
   "execution_count": 19,
   "metadata": {},
   "outputs": [],
   "source": [
    "traj_notes = ['5NJY_pH70_md1','5NJY_pH70_md2','5NJY_pH70_md3','5NJY_F238L_pH70_md1',\n",
    "                 '5NJY_F238L_pH70_md2','5NJY_F238L_pH70_md3','5NJY_I233T_pH70_md4',\n",
    "                  '5NJY_I233T_pH70_md2','5NJY_I233T_pH70_md3','5NJY_F238LI233T_pH70_md1',\n",
    "                  '5NJY_F238LI233T_pH70_md2','5NJY_F238LI233T_pH70_md3','5NJY_pH46_md1','5NJY_pH46_md2','5NJY_pH46_md3','5NJY_F238L_pH46_md1',\n",
    "                 '5NJY_F238L_pH46_md2','5NJY_F238L_pH46_md3','5NJY_I233T_pH46_md1',\n",
    "                  '5NJY_I233T_pH46_md2','5NJY_I233T_pH46_md3','5NJY_F238LI233T_pH46_md1',\n",
    "                  '5NJY_F238LI233T_pH46_md2','5NJY_F238LI233T_pH46_md3','4HFI_pH46_md1','4HFI_pH46_md2','4HFI_pH46_md3','4HFI_F238L_pH46_md1',\n",
    "                 '4HFI_F238L_pH46_md2','4HFI_F238L_pH46_md3','4HFI_I233T_pH46_md1',\n",
    "                  '4HFI_I233T_pH46_md2','4HFI_I233T_pH46_md3','4HFI_F238LI233T_pH46_md1',\n",
    "                  '4HFI_F238LI233T_pH46_md2','4HFI_F238LI233T_pH46_md3','4NPQ_pH70_md5','4NPQ_pH70_md6','4NPQ_pH70_md7','4NPQ_F238L_pH70_md3',\n",
    "                 '4NPQ_F238L_pH70_md4','4NPQ_F238L_pH70_md5','4NPQ_I233T_pH70_md3',\n",
    "                  '4NPQ_I233T_pH70_md4','4NPQ_I233T_pH70_md5','4NPQ_F238LI233T_pH70_md3',\n",
    "                  '4NPQ_F238LI233T_pH70_md4','4NPQ_F238LI233T_pH70_md5','4HFI_F238L_pH46_md4']"
   ]
  },
  {
   "cell_type": "markdown",
   "metadata": {},
   "source": [
    "## Data preparation"
   ]
  },
  {
   "cell_type": "markdown",
   "metadata": {},
   "source": [
    "### Building basic dataframe"
   ]
  },
  {
   "cell_type": "code",
   "execution_count": 3,
   "metadata": {},
   "outputs": [],
   "source": [
    "def create_md_dataframe():    \n",
    "    md_data = pd.DataFrame(columns=list(['MD_name','pH','replicate','traj_time']))\n",
    "    return md_data"
   ]
  },
  {
   "cell_type": "code",
   "execution_count": 9,
   "metadata": {},
   "outputs": [],
   "source": [
    "def create_metadata(md_data= None):   \n",
    "    def append_metadata(traj_note,location = 'pdc/',skip=10,md_data= md_data):\n",
    "        top_location = traj_note + '/' + traj_note + \".ca.gro\"\n",
    "        traj_location = traj_note + '/' + traj_note + \".skip\" + str(skip) + \".ca.xtc\"\n",
    "        if skip == 1:\n",
    "            traj = md.load(location + traj_location,top= location + top_location,stride=10)\n",
    "        else:\n",
    "            traj = md.load(location + traj_location,top= location + top_location)\n",
    "        print(\"In \" + traj_note + \", simulation runs \" + str(10 * traj.n_frames) + \" ns.\")\n",
    "        md_name = traj_note[:traj_note.find('pH')-1]\n",
    "        pH = traj_note[traj_note.find('pH')+2:traj_note.find('pH')+4]\n",
    "        md_replicate = traj_note[-1]\n",
    "        for i in range(0,traj.n_frames):\n",
    "            md_data.loc[md_data.shape[0]+1] = [md_name,pH,md_replicate,i]\n",
    "\n",
    "    for traj_note in traj_notes:\n",
    "        append_metadata(traj_note)"
   ]
  },
  {
   "cell_type": "code",
   "execution_count": 10,
   "metadata": {},
   "outputs": [],
   "source": [
    "def create_system_notation(md_data = None):\n",
    "    system_notation = 0\n",
    "    notation = -1\n",
    "    location = 'pdc/'\n",
    "    skip=10\n",
    "    notations = []\n",
    "    increment = 0\n",
    "    for traj_note in traj_notes:\n",
    "        top_location = traj_note + '/' + traj_note + \".ca.gro\"\n",
    "        traj_location = traj_note + '/' + traj_note + \".skip\" + str(skip) + \".ca.xtc\"\n",
    "        traj = md.load(location + traj_location,top= location + top_location)\n",
    "        if traj_note.find('md1') >= 0:\n",
    "            notation = notation + 1\n",
    "        if traj_note == '5NJY_I233T_pH70_md4' or traj_note == '4NPQ_pH70_md5' or  traj_note == '4NPQ_F238L_pH70_md3' or traj_note == '4NPQ_I233T_pH70_md3' or traj_note == '4NPQ_F238LI233T_pH70_md3' or traj_note == '4HFI_F238L_pH46_md4':\n",
    "            notation = notation + 1\n",
    "\n",
    "        for frame in range(0,traj.n_frames):\n",
    "            notations.append(notation)\n",
    "        #if increment % 3 == 2:\n",
    "        #    notation = notation + 1\n",
    "        #increment = increment + 1 \n",
    "        \n",
    "    md_data['system'] = notations"
   ]
  },
  {
   "cell_type": "code",
   "execution_count": 13,
   "metadata": {},
   "outputs": [
    {
     "name": "stdout",
     "output_type": "stream",
     "text": [
      "In 5NJY_pH70_md1, simulation runs 1030 ns.\n",
      "In 5NJY_pH70_md2, simulation runs 750 ns.\n",
      "In 5NJY_pH70_md3, simulation runs 810 ns.\n",
      "In 5NJY_F238L_pH70_md1, simulation runs 540 ns.\n",
      "In 5NJY_F238L_pH70_md2, simulation runs 900 ns.\n",
      "In 5NJY_F238L_pH70_md3, simulation runs 720 ns.\n",
      "In 5NJY_I233T_pH70_md4, simulation runs 860 ns.\n",
      "In 5NJY_I233T_pH70_md2, simulation runs 590 ns.\n",
      "In 5NJY_I233T_pH70_md3, simulation runs 820 ns.\n",
      "In 5NJY_F238LI233T_pH70_md1, simulation runs 830 ns.\n",
      "In 5NJY_F238LI233T_pH70_md2, simulation runs 800 ns.\n",
      "In 5NJY_F238LI233T_pH70_md3, simulation runs 880 ns.\n",
      "In 5NJY_pH46_md1, simulation runs 1020 ns.\n",
      "In 5NJY_pH46_md2, simulation runs 1060 ns.\n",
      "In 5NJY_pH46_md3, simulation runs 1030 ns.\n",
      "In 5NJY_F238L_pH46_md1, simulation runs 930 ns.\n",
      "In 5NJY_F238L_pH46_md2, simulation runs 950 ns.\n",
      "In 5NJY_F238L_pH46_md3, simulation runs 1090 ns.\n",
      "In 5NJY_I233T_pH46_md1, simulation runs 810 ns.\n",
      "In 5NJY_I233T_pH46_md2, simulation runs 870 ns.\n",
      "In 5NJY_I233T_pH46_md3, simulation runs 980 ns.\n",
      "In 5NJY_F238LI233T_pH46_md1, simulation runs 790 ns.\n",
      "In 5NJY_F238LI233T_pH46_md2, simulation runs 950 ns.\n",
      "In 5NJY_F238LI233T_pH46_md3, simulation runs 960 ns.\n",
      "In 4HFI_pH46_md1, simulation runs 1100 ns.\n",
      "In 4HFI_pH46_md2, simulation runs 1100 ns.\n",
      "In 4HFI_pH46_md3, simulation runs 1070 ns.\n",
      "In 4HFI_F238L_pH46_md1, simulation runs 1040 ns.\n",
      "In 4HFI_F238L_pH46_md2, simulation runs 1010 ns.\n",
      "In 4HFI_F238L_pH46_md3, simulation runs 1040 ns.\n",
      "In 4HFI_I233T_pH46_md1, simulation runs 1030 ns.\n",
      "In 4HFI_I233T_pH46_md2, simulation runs 1030 ns.\n",
      "In 4HFI_I233T_pH46_md3, simulation runs 1030 ns.\n",
      "In 4HFI_F238LI233T_pH46_md1, simulation runs 1060 ns.\n",
      "In 4HFI_F238LI233T_pH46_md2, simulation runs 1010 ns.\n",
      "In 4HFI_F238LI233T_pH46_md3, simulation runs 1120 ns.\n",
      "In 4NPQ_pH70_md5, simulation runs 840 ns.\n",
      "In 4NPQ_pH70_md6, simulation runs 940 ns.\n",
      "In 4NPQ_pH70_md7, simulation runs 1050 ns.\n",
      "In 4NPQ_F238L_pH70_md3, simulation runs 830 ns.\n",
      "In 4NPQ_F238L_pH70_md4, simulation runs 990 ns.\n",
      "In 4NPQ_F238L_pH70_md5, simulation runs 960 ns.\n",
      "In 4NPQ_I233T_pH70_md3, simulation runs 890 ns.\n",
      "In 4NPQ_I233T_pH70_md4, simulation runs 980 ns.\n",
      "In 4NPQ_I233T_pH70_md5, simulation runs 1050 ns.\n",
      "In 4NPQ_F238LI233T_pH70_md3, simulation runs 880 ns.\n",
      "In 4NPQ_F238LI233T_pH70_md4, simulation runs 920 ns.\n",
      "In 4NPQ_F238LI233T_pH70_md5, simulation runs 1010 ns.\n",
      "In 4HFI_F238L_pH46_md4, simulation runs 1150 ns.\n"
     ]
    }
   ],
   "source": [
    "md_data = create_md_dataframe()\n",
    "create_metadata(md_data= md_data)\n",
    "create_system_notation(md_data = md_data)"
   ]
  },
  {
   "cell_type": "markdown",
   "metadata": {},
   "source": [
    "### Append feature"
   ]
  },
  {
   "cell_type": "markdown",
   "metadata": {},
   "source": [
    "### RMSD"
   ]
  },
  {
   "cell_type": "code",
   "execution_count": 40,
   "metadata": {},
   "outputs": [],
   "source": [
    "def create_rmsd_data(md_data= None,ref_name = None,select_domain = None):\n",
    "    def append_rmsd_data(traj_note,location = 'pdc/',ref_name = None, skip=10):\n",
    "        residue_selection_1 = \"resSeq 13 to 198\"\n",
    "        residue_selection_2 = \"resSeq 198 to 316\"\n",
    "        top_location = traj_note + '/' + traj_note + \".ca.gro\"\n",
    "        traj_location = traj_note + '/' + traj_note + \".skip\" + str(skip) + \".ca.xtc\"\n",
    "        traj = md.load(location + traj_location,top= location + top_location)\n",
    "        if select_domain == 'TMD':\n",
    "            traj = traj.atom_slice(traj.topology.select(residue_selection_2))\n",
    "        elif select_domain == 'ECD':\n",
    "            traj = traj.atom_slice(traj.topology.select(residue_selection_1))\n",
    "\n",
    "        if ref_name != None:\n",
    "            ref_location = (\"/home/scottzhuang/masterthesis/miscellanies/pdb_ensemble/\" + ref_name + \"_1.mer.pdb\")\n",
    "        else:\n",
    "            ref_location = location + top_location\n",
    "        ref_traj = md.load(ref_location)\n",
    "        if select_domain == 'TMD':\n",
    "            ref_traj = ref_traj.atom_slice(ref_traj.topology.select(residue_selection_2))\n",
    "        elif select_domain == 'ECD':\n",
    "            ref_traj = ref_traj.atom_slice(ref_traj.topology.select(residue_selection_1))\n",
    "        if traj.n_atoms != ref_traj.n_atoms:\n",
    "            traj = traj.atom_slice(traj.topology.select(residue_selection))\n",
    "        traj.superpose(ref_traj,0)\n",
    "        rmsd_data.extend(list(md.rmsd(traj, ref_traj)*10))\n",
    "    rmsd_data = []\n",
    "    for traj_note in traj_notes:\n",
    "        append_rmsd_data(traj_note,ref_name = ref_name)\n",
    "    if select_domain == 'TMD':\n",
    "        md_data['tmd_rmsd']= rmsd_data\n",
    "    elif select_domain == 'ECD':\n",
    "        md_data['ecd_rmsd']= rmsd_data\n",
    "    elif ref_name != None:\n",
    "        md_data['rmsd' + str(ref_name)]= rmsd_data\n",
    "    else:\n",
    "        md_data['rmsd']= rmsd_data"
   ]
  },
  {
   "cell_type": "code",
   "execution_count": 41,
   "metadata": {},
   "outputs": [],
   "source": [
    "create_rmsd_data(md_data)"
   ]
  },
  {
   "cell_type": "markdown",
   "metadata": {},
   "source": [
    "### PCA"
   ]
  },
  {
   "cell_type": "code",
   "execution_count": 42,
   "metadata": {},
   "outputs": [],
   "source": [
    "def create_cppca_data(md_data = None,residue_selection_1 = \"resSeq 13 to 198\", residue_selection_2 = \"resSeq 198 to 316\"):\n",
    "    def combined_ppca_reduced_cartesian(residue_selection_1 = \"resSeq 13 to 198\", residue_selection_2 = \"resSeq 198 to 316\"):\n",
    "        wholetraj = md.load(\"/home/scottzhuang/masterthesis/miscellanies/pdb_ensemble/new_ensemble.pdb\")\n",
    "        wholetraj.superpose(wholetraj,18)\n",
    "        topology = wholetraj.topology\n",
    "        wholetraj_sliced_ecd = wholetraj.atom_slice(topology.select(residue_selection_1))\n",
    "        wholetraj_sliced_ecd.superpose(wholetraj_sliced_ecd,18)\n",
    "        wholetraj_sliced_tmd = wholetraj.atom_slice(topology.select(residue_selection_2))\n",
    "        wholetraj_sliced_tmd.superpose(wholetraj_sliced_tmd,18)\n",
    "        ppca_ecd = PCA(n_components=2)\n",
    "        ppca_tmd = PCA(n_components=2)\n",
    "        partial_reduced_cartesian = [ppca_ecd.fit_transform(wholetraj_sliced_ecd.xyz.reshape(wholetraj_sliced_ecd.n_frames, wholetraj_sliced_ecd.n_atoms * 3)), ppca_tmd.fit_transform(wholetraj_sliced_tmd.xyz.reshape(wholetraj_sliced_tmd.n_frames, wholetraj_sliced_tmd.n_atoms * 3))]    \n",
    "        return partial_reduced_cartesian, wholetraj_sliced_ecd, wholetraj_sliced_tmd,ppca_ecd,ppca_tmd\n",
    "    \n",
    "    def append_projection_on_combined_ppca_data(traj_note, location = 'pdc/',skip = 10, residue_selection_1 = \"resSeq 13 to 198\", residue_selection_2 = \"resSeq 198 to 316\"):\n",
    "        top_location = traj_note + '/' + traj_note + \".ca.gro\"\n",
    "        traj_location = traj_note + '/' + traj_note + \".skip\" + str(skip) + \".ca.xtc\"\n",
    "        traj = md.load(location + traj_location,top= location + top_location)\n",
    "        topology = traj.topology\n",
    "        traj_sliced_ecd = traj.atom_slice(topology.select(residue_selection_1))\n",
    "        traj_sliced_tmd = traj.atom_slice(topology.select(residue_selection_2))\n",
    "\n",
    "        traj_sliced_ecd.superpose(wholetraj_sliced_ecd,18)\n",
    "        traj_sliced_tmd.superpose(wholetraj_sliced_tmd,18)\n",
    "\n",
    "        reduced_cartesian_ecd_pc1.extend(ppca_ecd.transform(traj_sliced_ecd.xyz.reshape(traj_sliced_ecd.n_frames, traj_sliced_ecd.n_atoms * 3)).T[0])\n",
    "        reduced_cartesian_ecd_pc2.extend(ppca_ecd.transform(traj_sliced_ecd.xyz.reshape(traj_sliced_ecd.n_frames, traj_sliced_ecd.n_atoms * 3)).T[1])\n",
    "        reduced_cartesian_tmd_pc1.extend(ppca_tmd.transform(traj_sliced_tmd.xyz.reshape(traj_sliced_tmd.n_frames, traj_sliced_tmd.n_atoms * 3)).T[0])\n",
    "        reduced_cartesian_tmd_pc2.extend(ppca_tmd.transform(traj_sliced_tmd.xyz.reshape(traj_sliced_tmd.n_frames, traj_sliced_tmd.n_atoms * 3)).T[1])\n",
    "\n",
    "    partial_reduced_cartesian, wholetraj_sliced_ecd,wholetraj_sliced_tmd, ppca_ecd,ppca_tmd = combined_ppca_reduced_cartesian(residue_selection_1,residue_selection_2)\n",
    "    \n",
    "    reduced_cartesian_ecd_pc1 = []\n",
    "    reduced_cartesian_ecd_pc2 = []\n",
    "    reduced_cartesian_tmd_pc1 = []\n",
    "    reduced_cartesian_tmd_pc2 = []\n",
    "\n",
    "    for traj_note in traj_notes:\n",
    "        append_projection_on_combined_ppca_data(traj_note)\n",
    "    md_data['ecd_pc1']= reduced_cartesian_ecd_pc1\n",
    "    md_data['ecd_pc2']= reduced_cartesian_ecd_pc2\n",
    "    md_data['tmd_pc1']= reduced_cartesian_tmd_pc1\n",
    "    md_data['tmd_pc2']= reduced_cartesian_tmd_pc2"
   ]
  },
  {
   "cell_type": "code",
   "execution_count": 44,
   "metadata": {},
   "outputs": [],
   "source": [
    "create_cppca_data(md_data)"
   ]
  },
  {
   "cell_type": "code",
   "execution_count": 46,
   "metadata": {},
   "outputs": [],
   "source": [
    "def create_pca_data(md_data = None):\n",
    "    def ensemble_pca_cartesian():\n",
    "        wholetraj = md.load(\"/home/scottzhuang/masterthesis/miscellanies/pdb_ensemble/new_ensemble.pdb\")\n",
    "        wholetraj = wholetraj.atom_slice(wholetraj.topology.select(\"resSeq 13 to 316\"))\n",
    "        wholetraj.superpose(wholetraj,18)\n",
    "        pca = PCA(n_components=5)\n",
    "        reduced_cartesian = pca.fit_transform(wholetraj.xyz.reshape(wholetraj.n_frames,wholetraj.n_atoms *3))\n",
    "        return wholetraj, pca\n",
    "    def append_pca_data(traj_note,location = 'pdc/',skip = 10):\n",
    "        top_location = traj_note + '/' + traj_note + \".ca.gro\"\n",
    "        traj_location = traj_note + '/' + traj_note + \".skip\" + str(skip) + \".ca.xtc\"\n",
    "        traj = md.load(location + traj_location,top =location + top_location)\n",
    "        topology = traj.topology\n",
    "        traj = traj.atom_slice(topology.select(\"resSeq 13 to 316\"))\n",
    "        traj.superpose(wholetraj,18)\n",
    "        traj_reduced_cartesian = pca.transform(traj.xyz.reshape(traj.n_frames,traj.n_atoms * 3))\n",
    "        pca1.extend(traj_reduced_cartesian.T[0])\n",
    "        pca2.extend(traj_reduced_cartesian.T[1])\n",
    "        pca3.extend(traj_reduced_cartesian.T[2])\n",
    "        pca4.extend(traj_reduced_cartesian.T[3])\n",
    "        pca5.extend(traj_reduced_cartesian.T[4])\n",
    "\n",
    "\n",
    "    pca1 = []\n",
    "    pca2 = []\n",
    "    pca3 = []\n",
    "    pca4 = []\n",
    "    pca5 = []\n",
    "    wholetraj, pca = ensemble_pca_cartesian()\n",
    "    for traj_note in traj_notes:\n",
    "        append_pca_data(traj_note)\n",
    "    md_data['wholepca_pc1'] = pca1\n",
    "    md_data['wholepca_pc2'] = pca2\n",
    "    md_data['wholepca_pc3'] = pca3\n",
    "    md_data['wholepca_pc4'] = pca4\n",
    "    md_data['wholepca_pc5'] = pca5\n"
   ]
  },
  {
   "cell_type": "code",
   "execution_count": 47,
   "metadata": {},
   "outputs": [],
   "source": [
    "create_pca_data(md_data)"
   ]
  },
  {
   "cell_type": "code",
   "execution_count": 48,
   "metadata": {},
   "outputs": [],
   "source": [
    "def create_cppca_data_m2(md_data = None,residue_selection_2 = \"(resSeq 230 to 250)\"):\n",
    "    def combined_ppca_reduced_cartesian(residue_selection_2 = \"(resSeq 230 to 250)\"):\n",
    "        wholetraj = md.load(\"/home/scottzhuang/masterthesis/miscellanies/pdb_ensemble/new_ensemble.pdb\")\n",
    "        wholetraj.superpose(wholetraj,18)\n",
    "        topology = wholetraj.topology\n",
    "        wholetraj_sliced_tmd = wholetraj.atom_slice(topology.select(residue_selection_2))\n",
    "        wholetraj_sliced_tmd.superpose(wholetraj_sliced_tmd,18)\n",
    "        ppca_tmd = PCA(n_components=5)\n",
    "        ppca_tmd.fit(wholetraj_sliced_tmd.xyz.reshape(wholetraj_sliced_tmd.n_frames, wholetraj_sliced_tmd.n_atoms * 3))\n",
    "        print(ppca_tmd.explained_variance_ratio_)\n",
    "        return wholetraj_sliced_tmd, ppca_tmd\n",
    "    \n",
    "    def append_projection_on_combined_ppca_data(traj_note, location = 'pdc/',skip = 10, residue_selection_2 = \"(resSeq 230 to 250)\"):\n",
    "        top_location = traj_note + '/' + traj_note + \".ca.gro\"\n",
    "        traj_location = traj_note + '/' + traj_note + \".skip\" + str(skip) + \".ca.xtc\"\n",
    "        traj = md.load(location + traj_location,top= location + top_location)\n",
    "        topology = traj.topology\n",
    "        traj_sliced_tmd = traj.atom_slice(topology.select(residue_selection_2))\n",
    "        traj_sliced_tmd.superpose(wholetraj_sliced_tmd,18)\n",
    "        reduced_cartesian_tmd_pc1.extend(ppca_tmd.transform(traj_sliced_tmd.xyz.reshape(traj_sliced_tmd.n_frames, traj_sliced_tmd.n_atoms * 3)).T[0])\n",
    "        reduced_cartesian_tmd_pc2.extend(ppca_tmd.transform(traj_sliced_tmd.xyz.reshape(traj_sliced_tmd.n_frames, traj_sliced_tmd.n_atoms * 3)).T[1])\n",
    "        reduced_cartesian_tmd_pc3.extend(ppca_tmd.transform(traj_sliced_tmd.xyz.reshape(traj_sliced_tmd.n_frames, traj_sliced_tmd.n_atoms * 3)).T[2])\n",
    "        reduced_cartesian_tmd_pc4.extend(ppca_tmd.transform(traj_sliced_tmd.xyz.reshape(traj_sliced_tmd.n_frames, traj_sliced_tmd.n_atoms * 3)).T[3])\n",
    "        reduced_cartesian_tmd_pc5.extend(ppca_tmd.transform(traj_sliced_tmd.xyz.reshape(traj_sliced_tmd.n_frames, traj_sliced_tmd.n_atoms * 3)).T[4])\n",
    "\n",
    "    wholetraj_sliced_tmd,ppca_tmd = combined_ppca_reduced_cartesian(residue_selection_2)\n",
    "    \n",
    "    reduced_cartesian_tmd_pc1 = []\n",
    "    reduced_cartesian_tmd_pc2 = []\n",
    "    reduced_cartesian_tmd_pc3 = []\n",
    "    reduced_cartesian_tmd_pc4 = []\n",
    "    reduced_cartesian_tmd_pc5 = []\n",
    "\n",
    "\n",
    "    for traj_note in traj_notes:\n",
    "        append_projection_on_combined_ppca_data(traj_note)\n",
    "    md_data['m2_pc1']= reduced_cartesian_tmd_pc1\n",
    "    md_data['m2_pc2']= reduced_cartesian_tmd_pc2\n",
    "    md_data['m2_pc3']= reduced_cartesian_tmd_pc3\n",
    "    md_data['m2_pc4']= reduced_cartesian_tmd_pc4\n",
    "    md_data['m2_pc5']= reduced_cartesian_tmd_pc5\n",
    "    "
   ]
  },
  {
   "cell_type": "code",
   "execution_count": 49,
   "metadata": {},
   "outputs": [
    {
     "name": "stdout",
     "output_type": "stream",
     "text": [
      "[ 0.73159707  0.18387465  0.0516021   0.00936811  0.00758874]\n"
     ]
    }
   ],
   "source": [
    "create_cppca_data_m2(md_data)"
   ]
  },
  {
   "cell_type": "markdown",
   "metadata": {},
   "source": [
    "### Gating feature"
   ]
  },
  {
   "cell_type": "code",
   "execution_count": 19,
   "metadata": {},
   "outputs": [],
   "source": [
    "def create_ecd_twist_data(md_data = None):\n",
    "    def wiki_dihedral(p):\n",
    "        p0 = p[0]\n",
    "        p1 = p[1]\n",
    "        p2 = p[2]\n",
    "        p3 = p[3]\n",
    "        b0 = -1.0*(p1 - p0)\n",
    "        b1 = p2 - p1\n",
    "        b2 = p3 - p2\n",
    "        b0xb1 = np.cross(b0, b1)\n",
    "        b1xb2 = np.cross(b2, b1)\n",
    "        b0xb1_x_b1xb2 = np.cross(b0xb1, b1xb2)\n",
    "\n",
    "        y = np.dot(b0xb1_x_b1xb2, b1)*(1.0/np.linalg.norm(b1))\n",
    "        x = np.dot(b0xb1, b1xb2)\n",
    "        return np.degrees(np.arctan2(y, x))\n",
    "\n",
    "    def append_ecd_twist(traj_note,location = '/media/scottzhuang/data/MD/',skip = 10):\n",
    "        top_location = traj_note + '/' + traj_note + \".ca.gro\"\n",
    "        traj_location = traj_note + '/' + traj_note + \".skip\" + str(skip) + \".ca.xtc\"\n",
    "        traj = md.load(location + traj_location,top= location + top_location)        \n",
    "        traj.superpose(traj,0)\n",
    "        topology = traj.topology\n",
    "        residue_selection_1 = \"resSeq 13 to 198\"\n",
    "        residue_selection_2 = \"resSeq 198 to 316\"\n",
    "        traj_sliced_ecd = traj.atom_slice(topology.select(residue_selection_1))\n",
    "        traj_sliced_tmd = traj.atom_slice(topology.select(residue_selection_2))\n",
    "        \n",
    "        ecd_twist = []\n",
    "        for chain in range (0,5):\n",
    "            di_angle = []\n",
    "\n",
    "            for i in range(0,traj.n_frames):\n",
    "                cen_mass_ecd = md.compute_center_of_mass(traj_sliced_ecd[i])[0]\n",
    "                cen_mass_tmd = md.compute_center_of_mass(traj_sliced_tmd[i])[0]\n",
    "                residue_selection_3 = \"resid \" + str(8+chain*311) + \" to \" + str(192+chain*311)\n",
    "                residue_selection_4 = \"resid \" + str(192+chain*311) + \" to \" + str(310+chain*311)\n",
    "                traj_sliced_ecd_chain = traj.atom_slice(topology.select(residue_selection_3))\n",
    "                traj_sliced_tmd_chain = traj.atom_slice(topology.select(residue_selection_4))\n",
    "                cen_mass_ecd_chain = md.compute_center_of_mass(traj_sliced_ecd_chain[i])[0]\n",
    "                cen_mass_tmd_chain = md.compute_center_of_mass(traj_sliced_tmd_chain[i])[0]\n",
    "                di_angle.append(wiki_dihedral(np.asarray([(cen_mass_ecd_chain).tolist(),(cen_mass_ecd).tolist(),(cen_mass_tmd).tolist(),(cen_mass_tmd_chain).tolist()])))\n",
    "            ecd_twist.append(di_angle)\n",
    "        ecd_twist_data.extend(np.mean(np.asarray(ecd_twist),axis=0))\n",
    "    ecd_twist_data = []\n",
    "    for traj_note in traj_notes:\n",
    "        append_ecd_twist(traj_note)\n",
    "    md_data['ECD twist']= ecd_twist_data"
   ]
  },
  {
   "cell_type": "code",
   "execution_count": 20,
   "metadata": {},
   "outputs": [],
   "source": [
    "def create_helix_tilt_data(md_data = None):\n",
    "    def append_helix_tilt_data(traj_note,location = '/media/scottzhuang/data/MD/', skip=10):\n",
    "        tilt_data = pd.read_csv(location + traj_note + '/' + traj_note + '.tilt.csv',sep=\" \")\n",
    "        tilt_data.columns = ['traj_time','avg','ang1','ang2','ang3','ang4','ang5']\n",
    "        helix_tilt_data.extend(tilt_data['avg'])\n",
    "    helix_tilt_data = []\n",
    "    for traj_note in traj_notes:\n",
    "        append_helix_tilt_data(traj_note)\n",
    "    md_data['helix tilt angle'] = helix_tilt_data"
   ]
  },
  {
   "cell_type": "code",
   "execution_count": 21,
   "metadata": {},
   "outputs": [],
   "source": [
    "def create_helix_twist_data(md_data = None):\n",
    "    def append_helix_twist_data(traj_note,location = '/media/scottzhuang/data/MD/', skip=10):\n",
    "        twist = pd.read_csv(location + traj_note + '/' + traj_note + '.twist.csv',sep=\" \")\n",
    "        twist.columns = ['traj_time','avg','ang1','ang2','ang3','ang4','ang5']\n",
    "        helix_twist_data.extend(twist['avg'])\n",
    "    helix_twist_data = []\n",
    "    for traj_note in traj_notes:\n",
    "        append_helix_twist_data(traj_note)\n",
    "    md_data['helix twist angle'] = helix_twist_data"
   ]
  },
  {
   "cell_type": "code",
   "execution_count": 22,
   "metadata": {},
   "outputs": [],
   "source": [
    "def create_beta_expansion(md_data = None):\n",
    "    def append_beta_expansion_data(traj_note,location = '/media/scottzhuang/data/MD/', skip=10):\n",
    "        top_location = traj_note + '/' + traj_note + \".ca.gro\"\n",
    "        traj_location = traj_note + '/' + traj_note + \".skip\" + str(skip) + \".ca.xtc\"\n",
    "        traj = md.load(location + traj_location,top = location + top_location)\n",
    "        distance = []\n",
    "        for chain in range(0,5):\n",
    "            distance.append(md.compute_distances(traj,[[27 + chain * 311,187 + chain * 311]]))\n",
    "        beta_expansion_data.extend(np.mean(distance,axis=0).T[0])\n",
    "    beta_expansion_data = []\n",
    "    for traj_note in traj_notes:\n",
    "        append_beta_expansion_data(traj_note)\n",
    "    md_data['beta_expansion'] = beta_expansion_data"
   ]
  },
  {
   "cell_type": "code",
   "execution_count": 23,
   "metadata": {},
   "outputs": [],
   "source": [
    "def create_M2_radius(md_data = None):\n",
    "    def append_M2_radius_data(traj_note,location = '/media/scottzhuang/data/MD/', skip=10):\n",
    "        top_location = traj_note + '/' + traj_note + \".ca.gro\"\n",
    "        traj_location = traj_note + '/' + traj_note + \".skip\" + str(skip) + \".ca.xtc\"\n",
    "        traj = md.load(location + traj_location,top = location + top_location)\n",
    "        topology = traj.topology\n",
    "        M2_selection = 'resSeq 231 to 245'\n",
    "        traj_M2 = traj.atom_slice(topology.select(M2_selection))\n",
    "        M2_radius_data.extend(md.compute_rg(traj_M2).T) \n",
    "    M2_radius_data = []\n",
    "    for traj_note in traj_notes:\n",
    "        append_M2_radius_data(traj_note)\n",
    "    md_data['M2_radius'] = M2_radius_data"
   ]
  },
  {
   "cell_type": "code",
   "execution_count": 24,
   "metadata": {},
   "outputs": [],
   "source": [
    "def create_ECD_radius(md_data = None):\n",
    "    def append_ECD_radius_data(traj_note,location = '/media/scottzhuang/data/MD/', skip=10):\n",
    "        top_location = traj_note + '/' + traj_note + \".ca.gro\"\n",
    "        traj_location = traj_note + '/' + traj_note + \".skip\" + str(skip) + \".ca.xtc\"\n",
    "        traj = md.load(location + traj_location,top = location + top_location)\n",
    "        topology = traj.topology\n",
    "        ECD_selection = 'resSeq 5 to 194'\n",
    "        traj_ECD = traj.atom_slice(topology.select(ECD_selection))\n",
    "        ECD_radius_data.extend(md.compute_rg(traj_ECD).T) \n",
    "    ECD_radius_data = []\n",
    "    for traj_note in traj_notes:\n",
    "        append_ECD_radius_data(traj_note)\n",
    "    md_data['ECD_radius'] = ECD_radius_data"
   ]
  },
  {
   "cell_type": "code",
   "execution_count": 25,
   "metadata": {},
   "outputs": [],
   "source": [
    "def create_M2_M1_distance(md_data = None):\n",
    "    def distance_calculate(x,y):\n",
    "        dist = np.sqrt(np.power(x[0]-y[0],2) + np.power(x[1]-y[1],2) + np.power(x[2]-y[2],2))\n",
    "        return dist\n",
    "    def append_M2_M1_distance_data(traj_note,location = '/media/scottzhuang/data/MD/', skip=10):\n",
    "        top_location = traj_note + '/' + traj_note + \".ca.gro\"\n",
    "        traj_location = traj_note + '/' + traj_note + \".skip\" + str(skip) + \".ca.xtc\"\n",
    "        traj = md.load(location + traj_location,top = location + top_location)\n",
    "        topology = traj.topology\n",
    "        distance = []\n",
    "        for chain in range(0,4):\n",
    "            M1_selection = 'resid ' + str(192 + chain * 311) + ' to ' + str(196 + chain * 311)\n",
    "            M2_selection = 'resid ' + str(233 + (chain + 1) * 311) + ' to ' + str(238 + (chain + 1) * 311)\n",
    "            traj_M1 = traj.atom_slice(topology.select(M1_selection))\n",
    "            traj_M2 = traj.atom_slice(topology.select(M2_selection))\n",
    "            distance.append(distance_calculate(md.compute_center_of_mass(traj_M1).T,md.compute_center_of_mass(traj_M2).T))\n",
    "        M1_selection = 'resid ' + str(192 + 4 * 311) + ' to ' + str(196 + 4 * 311)\n",
    "        M2_selection = 'resid ' + str(233) + ' to ' + str(238)\n",
    "        traj_M1 = traj.atom_slice(topology.select(M1_selection))\n",
    "        traj_M2 = traj.atom_slice(topology.select(M2_selection))\n",
    "        distance.append(distance_calculate(md.compute_center_of_mass(traj_M1).T,md.compute_center_of_mass(traj_M2).T))\n",
    "        #print((np.mean(np.asarray(distance),axis=0))\n",
    "        M2_M1_distance.extend(np.mean(distance,axis=0))\n",
    "    M2_M1_distance = []\n",
    "    for traj_note in traj_notes:\n",
    "        append_M2_M1_distance_data(traj_note)\n",
    "    md_data['M2_M1_distance'] = M2_M1_distance\n",
    "    #print(M2_M1_distance)"
   ]
  },
  {
   "cell_type": "code",
   "execution_count": 26,
   "metadata": {},
   "outputs": [],
   "source": [
    "def create_M1_kink(md_data = None):\n",
    "    def angle_calculate(x,y,z):\n",
    "        angle_set = []\n",
    "        for i in range(0,x.shape[0]):\n",
    "            angle_set.append(180 - 57.29 * np.arccos(np.dot((x[i]-y[i]),(z[i]-y[i]))/(np.linalg.norm(x[i]-y[i]) * np.linalg.norm(z[i]-y[i]))))\n",
    "        return angle_set\n",
    "    def append_M1_kink_data(traj_note,location = '/media/scottzhuang/data/MD/', skip=10):\n",
    "        top_location = traj_note + '/' + traj_note + \".ca.gro\"\n",
    "        traj_location = traj_note + '/' + traj_note + \".skip\" + str(skip) + \".ca.xtc\"\n",
    "        traj = md.load(location + traj_location,top = location + top_location)\n",
    "        topology = traj.topology\n",
    "        angle = []\n",
    "        for chain in range(0,5):\n",
    "            M1_selection_up = 'resid ' + str(192 + chain * 311) + ' to ' + str(196 + chain * 311)\n",
    "            M1_selection_mid = 'resid ' + str(194 + chain * 311) + ' to ' + str(198 + chain * 311)\n",
    "            M1_selection_down = 'resid ' + str(197 + chain * 311) + ' to ' + str(208 + chain * 311)\n",
    "\n",
    "            M1_up = traj.atom_slice(topology.select(M1_selection_up))\n",
    "            M1_mid = traj.atom_slice(topology.select(M1_selection_mid))\n",
    "            M1_down = traj.atom_slice(topology.select(M1_selection_down))\n",
    "            angle.append(angle_calculate(md.compute_center_of_mass(M1_up), md.compute_center_of_mass(M1_mid), md.compute_center_of_mass(M1_down)))\n",
    "        M1_kink.extend(np.mean(angle,axis=0))\n",
    "    M1_kink = []\n",
    "    for traj_note in traj_notes:\n",
    "        append_M1_kink_data(traj_note)\n",
    "    md_data['M1_kink'] = M1_kink\n"
   ]
  },
  {
   "cell_type": "code",
   "execution_count": 32,
   "metadata": {},
   "outputs": [],
   "source": [
    "def create_M2_spread(md_data = None):\n",
    "    def distance_calculate(x,y):\n",
    "        dist = np.sqrt(np.power(x[0]-y[0],2) + np.power(x[1]-y[1],2) + np.power(x[2]-y[2],2))\n",
    "        return dist\n",
    "    def append_M2_spread_data(traj_note,location = 'pdc/', skip=10):\n",
    "        top_location = traj_note + '/' + traj_note + \".ca.gro\"\n",
    "        traj_location = traj_note + '/' + traj_note + \".skip\" + str(skip) + \".ca.xtc\"\n",
    "        traj = md.load(location + traj_location,top = location + top_location)\n",
    "        topology = traj.topology\n",
    "        distance = []\n",
    "        for chain in range(0,5):\n",
    "            M2_selection = 'resid ' + str(236 + chain * 311) + ' to ' + str(240 + chain * 311)\n",
    "            TMD_selection = 'resSeq 198 to 315'\n",
    "\n",
    "            M2 = traj.atom_slice(topology.select(M2_selection))\n",
    "            TMD = traj.atom_slice(topology.select(TMD_selection))\n",
    "            distance.append(distance_calculate(md.compute_center_of_mass(M2).T, md.compute_center_of_mass(TMD).T))\n",
    "        M2_spread.extend(np.mean(distance,axis=0))\n",
    "    M2_spread = []\n",
    "    for traj_note in traj_notes:\n",
    "        append_M2_spread_data(traj_note)\n",
    "    print(len(M2_spread))\n",
    "    md_data['M2_spread'] = M2_spread\n"
   ]
  },
  {
   "cell_type": "code",
   "execution_count": 33,
   "metadata": {},
   "outputs": [
    {
     "name": "stdout",
     "output_type": "stream",
     "text": [
      "4610\n"
     ]
    }
   ],
   "source": [
    "create_M2_spread(md_data)"
   ]
  },
  {
   "cell_type": "code",
   "execution_count": 27,
   "metadata": {},
   "outputs": [],
   "source": [
    "def create_pore_profile(md_data = None):\n",
    "    def pore_rad(traj_note,location = '/media/scottzhuang/data/MD/'):\n",
    "        top_location = traj_note + '/' + traj_note + \".protein.gro\"\n",
    "        traj_name = traj_note + '/' + traj_note +  \".skip10.protein.xtc\"    \n",
    "        traj = md.load(location + traj_name,top = location +top_location)\n",
    "        ca_top_location = traj_note + '/' + traj_note +  \".ca.pdb\"\n",
    "        ca_traj_name = traj_note + '/' + traj_note +  \".skip10.ca.xtc\"    \n",
    "        ca_traj = md.load(location + ca_traj_name,top = location + ca_top_location)\n",
    "        topology = traj.topology\n",
    "        pore_profile = pd.DataFrame(columns=['traj_time','resid','pore_radius'])\n",
    "        m = 0\n",
    "        incre = 0\n",
    "        for i in [217,221,225,228,232,235]:\n",
    "            group_1 = np.arange(i,i + 1245, 311)\n",
    "            xyz_inter = np.mean(ca_traj.xyz[:,group_1],axis=1)\n",
    "            chain = topology.add_chain()\n",
    "            residue = topology.add_residue('ALA',chain)\n",
    "            topology.add_atom('H','H',residue)\n",
    "            traj.topology = topology\n",
    "            traj.xyz = np.append(traj.xyz,xyz_inter.reshape([traj.n_frames,1,3]),axis=1)\n",
    "            pairs = list(itertools.product(group_1,[1555 + incre]))\n",
    "            for j in range(0,traj.n_frames):\n",
    "                pore_profile.loc[m] = [j,i,np.mean(md.compute_contacts(traj[j], pairs)[0])]\n",
    "                m = m + 1\n",
    "            incre = incre +1\n",
    "        pore_data_222.extend(pore_profile[pore_profile['resid'] == 217]['pore_radius'])\n",
    "        pore_data_226.extend(pore_profile[pore_profile['resid'] == 221]['pore_radius'])\n",
    "        pore_data_230.extend(pore_profile[pore_profile['resid'] == 225]['pore_radius'])\n",
    "        pore_data_233.extend(pore_profile[pore_profile['resid'] == 228]['pore_radius'])\n",
    "        pore_data_237.extend(pore_profile[pore_profile['resid'] == 232]['pore_radius'])\n",
    "        pore_data_240.extend(pore_profile[pore_profile['resid'] == 235]['pore_radius'])\n",
    "    import itertools\n",
    "    pore_data_222 = []\n",
    "    pore_data_226 = []\n",
    "    pore_data_230 = []\n",
    "    pore_data_233 = []\n",
    "    pore_data_237 = []\n",
    "    pore_data_240 = []\n",
    "\n",
    "    for traj_note in traj_notes:\n",
    "        pore_rad(traj_note)\n",
    "    md_data['pore_profile_222'] = pore_data_222\n",
    "    md_data['pore_profile_226'] = pore_data_226\n",
    "    md_data['pore_profile_230'] = pore_data_230\n",
    "    md_data['pore_profile_233'] = pore_data_233\n",
    "    md_data['pore_profile_237'] = pore_data_237\n",
    "    md_data['pore_profile_240'] = pore_data_240"
   ]
  },
  {
   "cell_type": "code",
   "execution_count": 28,
   "metadata": {},
   "outputs": [],
   "source": [
    "def create_hydration_profile(md_data = None):\n",
    "    def append_hydration_data(traj_note,location = '/media/scottzhuang/data/MD/', skip=10):\n",
    "        top_location = traj_note + '/' + traj_note + \".system.gro\"\n",
    "        traj_location = traj_note + '/' + traj_note + \".skip\" + str(skip) + \".system.xtc\"\n",
    "        traj = mda.Universe(location + top_location,location + traj_location)\n",
    "        hydration = traj.select_atoms(\"(cyzone 7 10 -10 resid 235) and name OW\",updating = True)\n",
    "        for i in range(0,traj.trajectory.n_frames):\n",
    "            traj.trajectory[i]\n",
    "            hydration_data.append(hydration.n_atoms)\n",
    "    hydration_data = []\n",
    "    for traj_note in traj_notes:\n",
    "        append_hydration_data(traj_note)\n",
    "    md_data['hydration_data'] = hydration_data"
   ]
  },
  {
   "cell_type": "code",
   "execution_count": 29,
   "metadata": {},
   "outputs": [],
   "source": [
    "def create_hydration_profile_2(md_data = None):\n",
    "    def append_hydration_data(traj_note,location = '/media/scottzhuang/data/MD/', skip=10):\n",
    "        top_location = traj_note + '/' + traj_note + \".system.gro\"\n",
    "        traj_location = traj_note + '/' + traj_note + \".skip\" + str(skip) + \".system.xtc\"\n",
    "        traj = mda.Universe(location + top_location,location + traj_location)\n",
    "        hydration = traj.select_atoms(\"(cyzone 7 8 -8 resid 236) and name OW\",updating = True)\n",
    "        for i in range(0,traj.trajectory.n_frames):\n",
    "            traj.trajectory[i]\n",
    "            hydration_data.append(hydration.n_atoms)\n",
    "    hydration_data = []\n",
    "    for traj_note in traj_notes:\n",
    "        append_hydration_data(traj_note)\n",
    "    md_data['hydration_data_2'] = hydration_data"
   ]
  },
  {
   "cell_type": "code",
   "execution_count": 30,
   "metadata": {},
   "outputs": [],
   "source": [
    "def create_hydration_profile_resid(md_data = None):\n",
    "    def append_hydration_data(traj_note,resid,location = '/media/scottzhuang/data/MD/', skip=10):\n",
    "        top_location = traj_note + '/' + traj_note + \".system.gro\"\n",
    "        traj_location = traj_note + '/' + traj_note + \".skip\" + str(skip) + \".system.xtc\"\n",
    "        traj = mda.Universe(location + top_location,location + traj_location)\n",
    "        hydration = traj.select_atoms(\"(cyzone 7 3 -3 resid \" + str(resid) + \") and name OW\",updating = True)\n",
    "        for i in range(0,traj.trajectory.n_frames):\n",
    "            traj.trajectory[i]\n",
    "            hydration_data.append(hydration.n_atoms)\n",
    "    for resid in [235,233,238,226,240]:\n",
    "        hydration_data = []\n",
    "        for traj_note in traj_notes:\n",
    "            append_hydration_data(traj_note,resid)\n",
    "        md_data['hydration_data' + str(resid) + '_3a'] = hydration_data"
   ]
  },
  {
   "cell_type": "code",
   "execution_count": 31,
   "metadata": {},
   "outputs": [],
   "source": [
    "def create_hydration_profile_non_pore(md_data = None):\n",
    "    def append_hydration_data(traj_note,location = '/media/scottzhuang/data/MD/md_ensemble/', skip=10):\n",
    "        top_location = traj_note + '/' + traj_note + \".system3.pdb\"\n",
    "        traj_location = traj_note + '/' + traj_note + \".skip\" + str(skip) + \".system.xtc\"\n",
    "        traj = mda.Universe(location + top_location,location + traj_location)\n",
    "        hydration = traj.select_atoms(\"(cylayer 7 20 8 -8 resid 235) and resname HOH and ((type O))\",updating = True)\n",
    "        for i in range(0,traj.trajectory.n_frames):\n",
    "            traj.trajectory[i]\n",
    "            hydration_data.append(hydration.n_atoms)\n",
    "    hydration_data = []\n",
    "    for traj_note in traj_notes:\n",
    "        append_hydration_data(traj_note)\n",
    "    md_data['hydration_data_non_pore'] = hydration_data"
   ]
  },
  {
   "cell_type": "markdown",
   "metadata": {},
   "source": [
    "### Cluster_steady_state"
   ]
  },
  {
   "cell_type": "markdown",
   "metadata": {},
   "source": [
    "- Steady States\n",
    "    - 4HFI_pH46\n",
    "    - 4NPQ_pH70\n",
    "    \n",
    "        --> cluster"
   ]
  },
  {
   "cell_type": "code",
   "execution_count": 6,
   "metadata": {},
   "outputs": [],
   "source": [
    "md_data = pd.read_pickle('pdc/features.pickle')"
   ]
  },
  {
   "cell_type": "code",
   "execution_count": 51,
   "metadata": {},
   "outputs": [],
   "source": [
    "from sklearn.preprocessing import MinMaxScaler\n",
    "from sklearn.preprocessing import StandardScaler\n",
    "\n",
    "from sklearn.cluster import DBSCAN\n",
    "\n",
    "class Clusterer(object):\n",
    "    \n",
    "    def __init__(self, eps):\n",
    "        self.eps = eps\n",
    "        \n",
    "    \n",
    "    def _preprocess(self, feature):\n",
    "        \n",
    "\n",
    "        ss = StandardScaler()\n",
    "        X = ss.fit_transform(feature[['ecd_pc1','tmd_pc1']].values)\n",
    "        \n",
    "        return X\n",
    "    \n",
    "    \n",
    "    def predict(self, feature):\n",
    "        \n",
    "        X = self._preprocess(feature)\n",
    "        \n",
    "        cl = DBSCAN(eps=self.eps, min_samples=1, algorithm='kd_tree')\n",
    "        labels = cl.fit_predict(X)\n",
    "        \n",
    "        return labels"
   ]
  },
  {
   "cell_type": "code",
   "execution_count": null,
   "metadata": {},
   "outputs": [],
   "source": []
  },
  {
   "cell_type": "code",
   "execution_count": 55,
   "metadata": {},
   "outputs": [],
   "source": [
    "md_data['dbscan'] = 0\n",
    "md_data.loc[md_data.traj_time <= 5,'dbscan'] = -1\n",
    "from statistics import mode\n",
    "for system in range(8,17):\n",
    "    model = Clusterer(eps=0.2)\n",
    "    label = model.predict(md_data[(md_data.system == system) & (md_data['traj_time'] > 5)]) + 1\n",
    "    md_data.loc[(md_data.system == system) & (md_data.traj_time > 5),'dbscan'] = label\n",
    "    md_data.loc[(md_data.system == system) & (md_data.dbscan != mode(label)),'dbscan'] = -1\n",
    "    md_data.loc[(md_data.system == system) & (md_data.dbscan == mode(label)),'dbscan'] = 0"
   ]
  },
  {
   "cell_type": "code",
   "execution_count": 84,
   "metadata": {},
   "outputs": [],
   "source": [
    "md_data.to_pickle('pdc/features.pickle')"
   ]
  },
  {
   "cell_type": "code",
   "execution_count": null,
   "metadata": {},
   "outputs": [],
   "source": [
    "md_data ="
   ]
  },
  {
   "cell_type": "code",
   "execution_count": 96,
   "metadata": {},
   "outputs": [
    {
     "data": {
      "text/plain": [
       "<matplotlib.axes._subplots.AxesSubplot at 0x7f02eb392828>"
      ]
     },
     "execution_count": 96,
     "metadata": {},
     "output_type": "execute_result"
    },
    {
     "data": {
      "image/png": "[encoded data removed]",
      "text/plain": [
       "<matplotlib.figure.Figure at 0x7f02eb3999b0>"
      ]
     },
     "metadata": {},
     "output_type": "display_data"
    }
   ],
   "source": [
    "fig,ax = plt.subplots(figsize=(20,10))\n",
    "md_data[md_data.system.isin(range(0,4))].plot(kind='scatter',x='ecd_pc1',y='tmd_pc1',c='system',colormap='Vega20',ax=ax)"
   ]
  },
  {
   "cell_type": "code",
   "execution_count": 24,
   "metadata": {},
   "outputs": [
    {
     "data": {
      "text/plain": [
       "Index(['MD_name', 'pH', 'replicate', 'traj_time', 'system', 'rmsd', 'ecd_pc1',\n",
       "       'ecd_pc2', 'tmd_pc1', 'tmd_pc2',\n",
       "       ...\n",
       "       'psi_cos[306, 307]', 'psi_cos[307, 308]', 'psi_cos[308, 309]',\n",
       "       'psi_cos[309, 310]', 'psi_cos[310, 311]', 'psi_cos[311, 312]',\n",
       "       'psi_cos[312, 313]', 'psi_cos[313, 314]', 'psi_cos[314, 315]',\n",
       "       'M2_spread'],\n",
       "      dtype='object', length=2223)"
      ]
     },
     "execution_count": 24,
     "metadata": {},
     "output_type": "execute_result"
    }
   ],
   "source": [
    "md_data.columns"
   ]
  },
  {
   "cell_type": "code",
   "execution_count": 27,
   "metadata": {},
   "outputs": [],
   "source": [
    "fontdict = {\n",
    "            'rotation':'horizontal',\n",
    "            'fontname':'Helvetica',\n",
    "                 'size'   : 13\n",
    "\n",
    "        }\n",
    "labelfont = {'fontname':'Helvetica',\n",
    "             'size'   : 15\n",
    "            }\n",
    "titlefont = {'fontname':'Helvetica',\n",
    "            'weight' : 'bold',\n",
    "             'size'   : 18\n",
    "            }\n",
    "lineplot = {'linewidth':3.0}\n",
    "titleon = True"
   ]
  },
  {
   "cell_type": "code",
   "execution_count": 35,
   "metadata": {},
   "outputs": [
    {
     "data": {
      "image/png": "[encoded data removed]",
      "text/plain": [
       "<matplotlib.figure.Figure at 0x7f35ecc73898>"
      ]
     },
     "metadata": {},
     "output_type": "display_data"
    }
   ],
   "source": [
    "#create_hbond_data(200,239,'inter_water_bridge',md_data)\n",
    "feature = 'M2_spread'\n",
    "md_5NJY_70 = md_data[(md_data.system >= 0) & (md_data.system <= 3) & (md_data.dbscan == 0)]\n",
    "md_5NJY_46 = md_data[(md_data.system >= 4) & (md_data.system <= 7) & (md_data.dbscan == 0)]\n",
    "md_4HFI_46 = md_data[(md_data.system >= 8) & (md_data.system <= 11) & (md_data.dbscan == 0)]\n",
    "md_4NPQ_70 = md_data[(md_data.system >= 12) & (md_data.system <= 15) & (md_data.dbscan == 0)]\n",
    "md_WT = md_data[~md_data.MD_name.str.contains('F238L') & ~md_data.MD_name.str.contains('I233T') & (md_data.dbscan == 0)]\n",
    "md_F238L = md_data[md_data.MD_name.str.contains('F238L') & ~md_data.MD_name.str.contains('F238LI233T') & (md_data.dbscan == 0)]\n",
    "md_I233T = md_data[md_data.MD_name.str.contains('I233T') & ~md_data.MD_name.str.contains('F238LI233T') & (md_data.dbscan == 0)]\n",
    "md_F238LI233T = md_data[md_data.MD_name.str.contains('F238LI233T') & (md_data.dbscan == 0)]\n",
    "fig, ax = plt.subplots(2,2,figsize=(20, 10))\n",
    "\n",
    "group = md_4NPQ_70.groupby(['MD_name','pH'],sort=False)[feature]\n",
    "mean = group.mean()\n",
    "errors = group.sem()\n",
    "mean.plot(kind='bar',yerr=errors,ax=ax[0,0],color=['black','#1b9e77','#d95f02','#7570b3'],capsize=5)\n",
    "ax[0,0].set_xticklabels(['WT','F238L','I233T','F238LI233T'],fontdict)\n",
    "ax[0,0].set_xlabel('Closed state at pH 7',**labelfont)\n",
    "\n",
    "group = md_4HFI_46.groupby(['MD_name','pH'],sort=False)[feature]\n",
    "mean = group.mean()\n",
    "errors = group.sem()\n",
    "mean.plot(kind='bar',capsize=5,yerr=errors,ax=ax[0,1],color=['black','#1b9e77','#d95f02','#7570b3'])\n",
    "ax[0,1].set_xticklabels(['WT','F238L','I233T','F238LI233T'],fontdict)\n",
    "ax[0,1].set_xlabel('Open state at pH 4',**labelfont)\n",
    "\n",
    "group = md_5NJY_70.groupby(['MD_name','pH'],sort=False)[feature]\n",
    "mean = group.mean()\n",
    "errors = group.sem()\n",
    "mean.plot(kind='bar',capsize=5,yerr=errors,ax=ax[1,0],color=['black','#1b9e77','#d95f02','#7570b3'])\n",
    "ax[1,0].set_xticklabels(['WT','F238L','I233T','F238LI233T'],fontdict)\n",
    "ax[1,0].set_xlabel('Locally-closed state at pH 7',**labelfont)\n",
    "\n",
    "group = md_5NJY_46.groupby(['MD_name','pH'],sort=False)[feature]\n",
    "mean = group.mean()\n",
    "errors = group.sem()\n",
    "mean.plot(kind='bar',capsize=5,yerr=errors,ax=ax[1,1],color=['black','#1b9e77','#d95f02','#7570b3'])\n",
    "ax[1,1].set_xticklabels(['WT','F238L','I233T','F238LI233T'],fontdict)\n",
    "ax[1,1].set_xlabel('Locally-closed state at pH 4',**labelfont)\n",
    "ax[0,0].set_ylim(1.5,3)\n",
    "ax[0,1].set_ylim(1.5,3)\n",
    "ax[1,0].set_ylim(1.5,3)\n",
    "ax[1,1].set_ylim(1.5,3)\n",
    "if titleon:\n",
    "\n",
    "    plt.suptitle(feature)\n",
    "plt.savefig('plots/' + feature + '.pdf')"
   ]
  },
  {
   "cell_type": "code",
   "execution_count": null,
   "metadata": {},
   "outputs": [],
   "source": []
  },
  {
   "cell_type": "code",
   "execution_count": null,
   "metadata": {},
   "outputs": [],
   "source": []
  }
 ],
 "metadata": {
  "kernelspec": {
   "display_name": "deepchem",
   "language": "python",
   "name": "deepchem"
  },
  "language_info": {
   "codemirror_mode": {
    "name": "ipython",
    "version": 3
   },
   "file_extension": ".py",
   "mimetype": "text/x-python",
   "name": "python",
   "nbconvert_exporter": "python",
   "pygments_lexer": "ipython3",
   "version": "3.5.4"
  }
 },
 "nbformat": 4,
 "nbformat_minor": 2
}
