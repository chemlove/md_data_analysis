{
 "cells": [
  {
   "cell_type": "markdown",
   "metadata": {},
   "source": [
    "# Helix Tilt and Twist"
   ]
  },
  {
   "cell_type": "code",
   "execution_count": 2,
   "metadata": {},
   "outputs": [],
   "source": [
    "import mdtraj as md"
   ]
  },
  {
   "cell_type": "code",
   "execution_count": 7,
   "metadata": {},
   "outputs": [
    {
     "name": "stderr",
     "output_type": "stream",
     "text": [
      "IOPub data rate exceeded.\n",
      "The notebook server will temporarily stop sending output\n",
      "to the client in order to avoid crashing it.\n",
      "To change this limit, set the config variable\n",
      "`--NotebookApp.iopub_data_rate_limit`.\n",
      "\n",
      "Current values:\n",
      "NotebookApp.iopub_data_rate_limit=1000000.0 (bytes/sec)\n",
      "NotebookApp.rate_limit_window=3.0 (secs)\n",
      "\n",
      "/usr/local/lib/vmd/vmd_LINUXAMD64: /usr/lib/nvidia-390/libGL.so.1: no version information available (required by /usr/local/lib/vmd/vmd_LINUXAMD64)\n",
      "/usr/local/lib/vmd/vmd_LINUXAMD64: /usr/lib/nvidia-390/libGL.so.1: no version information available (required by /usr/local/lib/vmd/vmd_LINUXAMD64)\n",
      "/usr/local/lib/vmd/vmd_LINUXAMD64: /usr/lib/nvidia-390/libGL.so.1: no version information available (required by /usr/local/lib/vmd/vmd_LINUXAMD64)\n",
      "/usr/local/lib/vmd/vmd_LINUXAMD64: /usr/lib/nvidia-390/libGL.so.1: no version information available (required by /usr/local/lib/vmd/vmd_LINUXAMD64)\n",
      "/usr/local/lib/vmd/vmd_LINUXAMD64: /usr/lib/nvidia-390/libGL.so.1: no version information available (required by /usr/local/lib/vmd/vmd_LINUXAMD64)\n",
      "/usr/local/lib/vmd/vmd_LINUXAMD64: /usr/lib/nvidia-390/libGL.so.1: no version information available (required by /usr/local/lib/vmd/vmd_LINUXAMD64)\n",
      "/usr/local/lib/vmd/vmd_LINUXAMD64: /usr/lib/nvidia-390/libGL.so.1: no version information available (required by /usr/local/lib/vmd/vmd_LINUXAMD64)\n",
      "/usr/local/lib/vmd/vmd_LINUXAMD64: /usr/lib/nvidia-390/libGL.so.1: no version information available (required by /usr/local/lib/vmd/vmd_LINUXAMD64)\n",
      "/usr/local/lib/vmd/vmd_LINUXAMD64: /usr/lib/nvidia-390/libGL.so.1: no version information available (required by /usr/local/lib/vmd/vmd_LINUXAMD64)\n"
     ]
    }
   ],
   "source": [
    "%%bash\n",
    "declare -a arr=('5NJY_pH70_md1' '5NJY_pH70_md2' '5NJY_pH70_md3' '5NJY_F238L_pH70_md1'\n",
    "                '5NJY_F238L_pH70_md2' '5NJY_F238L_pH70_md3' '5NJY_I233T_pH70_md1'\n",
    "                '5NJY_I233T_pH70_md2' '5NJY_I233T_pH70_md3' '5NJY_F238LI233T_pH70_md1'\n",
    "                  '5NJY_F238LI233T_pH70_md2' '5NJY_F238LI233T_pH70_md3' '5NJY_pH46_md1' '5NJY_pH46_md2' '5NJY_pH46_md3' '5NJY_F238L_pH46_md1'\n",
    "                 '5NJY_F238L_pH46_md2' '5NJY_F238L_pH46_md3' '5NJY_I233T_pH46_md1'\n",
    "                  '5NJY_I233T_pH46_md2' '5NJY_I233T_pH46_md3' '5NJY_F238LI233T_pH46_md1'\n",
    "                  '5NJY_F238LI233T_pH46_md2' '5NJY_F238LI233T_pH46_md3' '4HFI_pH46_md1' '4HFI_pH46_md2' '4HFI_pH46_md3' '4HFI_F238L_pH46_md1'\n",
    "                 '4HFI_F238L_pH46_md2' '4HFI_F238L_pH46_md3' '4HFI_I233T_pH46_md1'\n",
    "                  '4HFI_I233T_pH46_md2' '4HFI_I233T_pH46_md3' '4HFI_F238LI233T_pH46_md1'\n",
    "                  '4HFI_F238LI233T_pH46_md2' '4HFI_F238LI233T_pH46_md3' '4NPQ_pH70_md5' '4NPQ_pH70_md6' '4NPQ_pH70_md7' '4NPQ_F238L_pH70_md3'\n",
    "                 '4NPQ_F238L_pH70_md4' '4NPQ_F238L_pH70_md5' '4NPQ_I233T_pH70_md3' \n",
    "                  '4NPQ_I233T_pH70_md4' '4NPQ_I233T_pH70_md5' '4NPQ_F238LI233T_pH70_md3'\n",
    "                  '4NPQ_F238LI233T_pH70_md4' '4NPQ_F238LI233T_pH70_md5' '4HFI_pH70_md1' '4NPQ_F238LI233T_pH46_md1'\n",
    "               '4NPQ_F238L_pH46_md1' '4NPQ_F238L_pH46_md2' '4NPQ_pH46_md1' '4NPQ_I233T_pH46_md1' '4NPQ_I233T_pH46_md2' '4NPQ_I233T_pH46_md3')\n",
    "for note in \"${arr[@]}\"\n",
    "do\n",
    "    masterthesis/scripts/Master_Thesis_Snow/helix_tilt/helix_tilt.sh /media/scottzhuang/data/MD/$note/$note.ca.pdb /media/scottzhuang/data/MD/$note/$note.skip10.ca.xtc /media/scottzhuang/data/MD/$note/$note.tilt.csv resid_220_240\n",
    "done"
   ]
  },
  {
   "cell_type": "code",
   "execution_count": 8,
   "metadata": {},
   "outputs": [
    {
     "name": "stderr",
     "output_type": "stream",
     "text": [
      "IOPub data rate exceeded.\n",
      "The notebook server will temporarily stop sending output\n",
      "to the client in order to avoid crashing it.\n",
      "To change this limit, set the config variable\n",
      "`--NotebookApp.iopub_data_rate_limit`.\n",
      "\n",
      "Current values:\n",
      "NotebookApp.iopub_data_rate_limit=1000000.0 (bytes/sec)\n",
      "NotebookApp.rate_limit_window=3.0 (secs)\n",
      "\n",
      "/usr/local/lib/vmd/vmd_LINUXAMD64: /usr/lib/nvidia-390/libGL.so.1: no version information available (required by /usr/local/lib/vmd/vmd_LINUXAMD64)\n",
      "/usr/local/lib/vmd/vmd_LINUXAMD64: /usr/lib/nvidia-390/libGL.so.1: no version information available (required by /usr/local/lib/vmd/vmd_LINUXAMD64)\n",
      "/usr/local/lib/vmd/vmd_LINUXAMD64: /usr/lib/nvidia-390/libGL.so.1: no version information available (required by /usr/local/lib/vmd/vmd_LINUXAMD64)\n",
      "/usr/local/lib/vmd/vmd_LINUXAMD64: /usr/lib/nvidia-390/libGL.so.1: no version information available (required by /usr/local/lib/vmd/vmd_LINUXAMD64)\n",
      "/usr/local/lib/vmd/vmd_LINUXAMD64: /usr/lib/nvidia-390/libGL.so.1: no version information available (required by /usr/local/lib/vmd/vmd_LINUXAMD64)\n",
      "/usr/local/lib/vmd/vmd_LINUXAMD64: /usr/lib/nvidia-390/libGL.so.1: no version information available (required by /usr/local/lib/vmd/vmd_LINUXAMD64)\n",
      "/usr/local/lib/vmd/vmd_LINUXAMD64: /usr/lib/nvidia-390/libGL.so.1: no version information available (required by /usr/local/lib/vmd/vmd_LINUXAMD64)\n",
      "/usr/local/lib/vmd/vmd_LINUXAMD64: /usr/lib/nvidia-390/libGL.so.1: no version information available (required by /usr/local/lib/vmd/vmd_LINUXAMD64)\n",
      "/usr/local/lib/vmd/vmd_LINUXAMD64: /usr/lib/nvidia-390/libGL.so.1: no version information available (required by /usr/local/lib/vmd/vmd_LINUXAMD64)\n"
     ]
    }
   ],
   "source": [
    "%%bash\n",
    "declare -a arr=('5NJY_pH70_md1' '5NJY_pH70_md2' '5NJY_pH70_md3' '5NJY_F238L_pH70_md1'\n",
    "                '5NJY_F238L_pH70_md2' '5NJY_F238L_pH70_md3' '5NJY_I233T_pH70_md1'\n",
    "                '5NJY_I233T_pH70_md2' '5NJY_I233T_pH70_md3' '5NJY_F238LI233T_pH70_md1'\n",
    "                  '5NJY_F238LI233T_pH70_md2' '5NJY_F238LI233T_pH70_md3' '5NJY_pH46_md1' '5NJY_pH46_md2' '5NJY_pH46_md3' '5NJY_F238L_pH46_md1'\n",
    "                 '5NJY_F238L_pH46_md2' '5NJY_F238L_pH46_md3' '5NJY_I233T_pH46_md1'\n",
    "                  '5NJY_I233T_pH46_md2' '5NJY_I233T_pH46_md3' '5NJY_F238LI233T_pH46_md1'\n",
    "                  '5NJY_F238LI233T_pH46_md2' '5NJY_F238LI233T_pH46_md3' '4HFI_pH46_md1' '4HFI_pH46_md2' '4HFI_pH46_md3' '4HFI_F238L_pH46_md1'\n",
    "                 '4HFI_F238L_pH46_md2' '4HFI_F238L_pH46_md3' '4HFI_I233T_pH46_md1'\n",
    "                  '4HFI_I233T_pH46_md2' '4HFI_I233T_pH46_md3' '4HFI_F238LI233T_pH46_md1'\n",
    "                  '4HFI_F238LI233T_pH46_md2' '4HFI_F238LI233T_pH46_md3' '4NPQ_pH70_md5' '4NPQ_pH70_md6' '4NPQ_pH70_md7' '4NPQ_F238L_pH70_md3'\n",
    "                 '4NPQ_F238L_pH70_md4' '4NPQ_F238L_pH70_md5' '4NPQ_I233T_pH70_md3' \n",
    "                  '4NPQ_I233T_pH70_md4' '4NPQ_I233T_pH70_md5' '4NPQ_F238LI233T_pH70_md3'\n",
    "                  '4NPQ_F238LI233T_pH70_md4' '4NPQ_F238LI233T_pH70_md5' '4HFI_pH70_md1' '4NPQ_F238LI233T_pH46_md1' \n",
    "               '4NPQ_F238L_pH46_md1' '4NPQ_F238L_pH46_md2' '4NPQ_pH46_md1' '4NPQ_I233T_pH46_md1' '4NPQ_I233T_pH46_md2' '4NPQ_I233T_pH46_md3')\n",
    "for note in \"${arr[@]}\"\n",
    "do\n",
    "    masterthesis/scripts/Master_Thesis_Snow/helix_twist/helix_twist.sh /media/scottzhuang/data/MD/$note/$note.ca.pdb /media/scottzhuang/data/MD/$note/$note.skip10.ca.xtc /media/scottzhuang/data/MD/$note/$note.twist.csv resid_220_240\n",
    "done"
   ]
  },
  {
   "cell_type": "code",
   "execution_count": null,
   "metadata": {},
   "outputs": [],
   "source": []
  }
 ],
 "metadata": {
  "kernelspec": {
   "display_name": "deepchem",
   "language": "python",
   "name": "deepchem"
  },
  "language_info": {
   "codemirror_mode": {
    "name": "ipython",
    "version": 3
   },
   "file_extension": ".py",
   "mimetype": "text/x-python",
   "name": "python",
   "nbconvert_exporter": "python",
   "pygments_lexer": "ipython3",
   "version": "3.5.4"
  }
 },
 "nbformat": 4,
 "nbformat_minor": 2
}
