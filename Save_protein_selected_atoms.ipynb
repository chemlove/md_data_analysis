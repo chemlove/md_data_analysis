{
 "cells": [
  {
   "cell_type": "markdown",
   "metadata": {},
   "source": [
    "# Save Pore"
   ]
  },
  {
   "cell_type": "code",
   "execution_count": 1,
   "metadata": {},
   "outputs": [],
   "source": [
    "import mdtraj as md\n",
    "import numpy as np"
   ]
  },
  {
   "cell_type": "code",
   "execution_count": 2,
   "metadata": {},
   "outputs": [],
   "source": [
    "location = \"/media/scottzhuang/data/MD/\""
   ]
  },
  {
   "cell_type": "code",
   "execution_count": 3,
   "metadata": {},
   "outputs": [],
   "source": [
    "residue_selection = \"resSeq 220 to 240\""
   ]
  },
  {
   "cell_type": "code",
   "execution_count": 32,
   "metadata": {},
   "outputs": [],
   "source": [
    "def extract_pore(pdb_location):\n",
    "    traj = md.load(location + pdb_location + '/' + pdb_location + '.skip10.backbone.xtc',top = location + pdb_location + '/' + pdb_location + '.backbone.gro' )\n",
    "    topology = traj.topology\n",
    "    traj = traj.atom_slice(topology.select(residue_selection))\n",
    "    traj.save_xtc(location + 'msm/' + pdb_location +'.xtc')"
   ]
  },
  {
   "cell_type": "code",
   "execution_count": 34,
   "metadata": {},
   "outputs": [],
   "source": [
    "def extract_pore(pdb_location):\n",
    "    traj = md.load(location + pdb_location + '/' + pdb_location + '.backbone.gro' )\n",
    "    topology = traj.topology\n",
    "    traj = traj.atom_slice(topology.select(residue_selection))\n",
    "    traj.save_pdb(location + 'msm/' + pdb_location +'.pdb')"
   ]
  },
  {
   "cell_type": "code",
   "execution_count": 35,
   "metadata": {},
   "outputs": [],
   "source": [
    "for traj_note in traj_notes:\n",
    "    extract_pore(traj_note)"
   ]
  },
  {
   "cell_type": "code",
   "execution_count": 36,
   "metadata": {
    "collapsed": true
   },
   "outputs": [],
   "source": [
    "extract_pore('4NPQ_pH70_md5')"
   ]
  },
  {
   "cell_type": "code",
   "execution_count": 4,
   "metadata": {},
   "outputs": [],
   "source": [
    "traj_notes = ['5NJY_pH70_md1','5NJY_pH70_md2','5NJY_pH70_md3','5NJY_F238L_pH70_md1',\n",
    "                 '5NJY_F238L_pH70_md2','5NJY_F238L_pH70_md3','5NJY_I233T_pH70_md4',\n",
    "                  '5NJY_I233T_pH70_md2','5NJY_I233T_pH70_md3','5NJY_F238LI233T_pH70_md1',\n",
    "                  '5NJY_F238LI233T_pH70_md2','5NJY_F238LI233T_pH70_md3','5NJY_pH46_md1','5NJY_pH46_md2','5NJY_pH46_md3','5NJY_F238L_pH46_md1',\n",
    "                 '5NJY_F238L_pH46_md2','5NJY_F238L_pH46_md3','5NJY_I233T_pH46_md1',\n",
    "                  '5NJY_I233T_pH46_md2','5NJY_I233T_pH46_md3','5NJY_F238LI233T_pH46_md1',\n",
    "                  '5NJY_F238LI233T_pH46_md2','5NJY_F238LI233T_pH46_md3','4HFI_pH46_md1','4HFI_pH46_md2','4HFI_pH46_md3','4HFI_F238L_pH46_md1',\n",
    "                 '4HFI_F238L_pH46_md2','4HFI_F238L_pH46_md3','4HFI_I233T_pH46_md1',\n",
    "                  '4HFI_I233T_pH46_md2','4HFI_I233T_pH46_md3','4HFI_F238LI233T_pH46_md1',\n",
    "                  '4HFI_F238LI233T_pH46_md2','4HFI_F238LI233T_pH46_md3','4NPQ_pH70_md5','4NPQ_pH70_md6','4NPQ_pH70_md7','4NPQ_F238L_pH70_md3',\n",
    "                 '4NPQ_F238L_pH70_md4','4NPQ_F238L_pH70_md5','4NPQ_I233T_pH70_md3',\n",
    "                  '4NPQ_I233T_pH70_md4','4NPQ_I233T_pH70_md5','4NPQ_F238LI233T_pH70_md3',\n",
    "                  '4NPQ_F238LI233T_pH70_md4','4NPQ_F238LI233T_pH70_md5']"
   ]
  },
  {
   "cell_type": "code",
   "execution_count": 31,
   "metadata": {},
   "outputs": [],
   "source": [
    "def extract_pore_traj(traj_note):\n",
    "    location = '/media/scottzhuang/data/MD/'\n",
    "    skip = 10\n",
    "    top_location = location + traj_note + '/' + traj_note + \".backbone.gro\"\n",
    "    traj_location = location + traj_note + '/' + traj_note + \".skip\" + str(skip) + \".backbone.xtc\"\n",
    "    traj = md.load(traj_location, top=top_location)\n",
    "    topology = traj.topology\n",
    "    traj = traj.atom_slice(topology.select(residue_selection))\n",
    "    traj.superpose(traj,0)\n",
    "    traj.save_pdb(location + traj_note + '/' + traj_note +'.hole.traj.pdb')"
   ]
  },
  {
   "cell_type": "code",
   "execution_count": 25,
   "metadata": {},
   "outputs": [],
   "source": [
    "for traj_note in traj_notes:\n",
    "    extract_pore_traj(traj_note)"
   ]
  },
  {
   "cell_type": "code",
   "execution_count": 5,
   "metadata": {},
   "outputs": [],
   "source": [
    "def recover_chainid_ca(traj_note):\n",
    "    location = '/media/scottzhuang/data/MD/'\n",
    "    skip = 10\n",
    "    top_location = location + traj_note + '/' + traj_note + \".gro\"\n",
    "    traj = md.load(top_location)\n",
    "    topology = traj.topology\n",
    "    table, bonds = topology.to_dataframe()\n",
    "    for i in range (0,5):\n",
    "        table.loc[311*i:311*i + 311]['chainID'] = i\n",
    "    t2 = md.Topology.from_dataframe(table, bonds)\n",
    "    traj.topology = t2\n",
    "    traj.save_pdb(location + traj_note + '/' + traj_note +'.ca.pdb')"
   ]
  },
  {
   "cell_type": "code",
   "execution_count": 12,
   "metadata": {},
   "outputs": [],
   "source": [
    "def recover_chainid(traj_note):\n",
    "    location = '/media/scottzhuang/data/MD/'\n",
    "    skip = 10\n",
    "    top_location = location + traj_note + '/' + traj_note + \".system.gro\"\n",
    "    traj = md.load(top_location)\n",
    "    topology = traj.topology\n",
    "    table, bonds = topology.to_dataframe()\n",
    "    chain_start_index = list(table[(table['resSeq'] == 5) & (table['name'] == 'MN1')].index)\n",
    "    chain_end_index = list(table[(table['resSeq'] == 315) & (table['name'] == 'OXT')].index)\n",
    "    for i in range (0,5):\n",
    "        table.loc[chain_start_index[i]:chain_end_index[i]+1,'chainID'] = i\n",
    "    table.loc[chain_end_index[i]+1:,'chainID'] = 5\n",
    "    table.loc[table.resName == 'HOH','resSeq'] = 1000\n",
    "    table.loc[table.resName == 'HOH','chainID'] = 6\n",
    "    t2 = md.Topology.from_dataframe(table, bonds)\n",
    "    traj.topology = t2\n",
    "    traj.save_pdb(location + traj_note + '/' + traj_note +'.system.pdb')"
   ]
  },
  {
   "cell_type": "code",
   "execution_count": 13,
   "metadata": {},
   "outputs": [],
   "source": [
    "recover_chainid('5NJY_pH70_md1')"
   ]
  },
  {
   "cell_type": "code",
   "execution_count": null,
   "metadata": {},
   "outputs": [],
   "source": []
  },
  {
   "cell_type": "code",
   "execution_count": 18,
   "metadata": {},
   "outputs": [],
   "source": [
    "def deleteSeq(traj_note):\n",
    "    location = '/media/scottzhuang/data/MD/'\n",
    "    skip = 10\n",
    "    top_location = location + traj_note + '/' + traj_note + \".protein.gro\"\n",
    "    traj = md.load(top_location)\n",
    "    table, bonds = traj.topology.to_dataframe()\n",
    "    chain_start_index = list(table[(table['resSeq'] == 5) & (table['name'] == 'MN1')].index)\n",
    "    chain_end_index = list(table[(table['resSeq'] == 315) & (table['name'] == 'OXT')].index)\n",
    "    for i in range (0,5):\n",
    "        table.loc[chain_start_index[i]:chain_end_index[i]]['resSeq'] = table.loc[chain_start_index[0]:chain_end_index[0]]['resSeq'].values + i * 311\n",
    "    table['resSeq'] = table['resSeq'].values - 4\n",
    "    t2 = md.Topology.from_dataframe(table, bonds)\n",
    "    traj.topology = t2\n",
    "    print(table)\n",
    "    traj.save_pdb(location + 'md_ensemble/' + traj_note + '/' + traj_note +'.system2.pdb')"
   ]
  },
  {
   "cell_type": "code",
   "execution_count": 9,
   "metadata": {},
   "outputs": [],
   "source": [
    "def savebackbone(traj_note):\n",
    "    location = '/media/scottzhuang/data/MD/'\n",
    "    skip = 10\n",
    "    top_location = location + traj_note + '/' + traj_note + \".backbone.gro\"\n",
    "    traj = md.load(top_location)\n",
    "    table, bonds = traj.topology.to_dataframe()\n",
    "    chain_start_index = list(table[(table['resSeq'] == 5) & (table['name'] == 'N')].index)\n",
    "    chain_end_index = list(table[(table['resSeq'] == 315) & (table['name'] == 'OXT')].index)\n",
    "    for i in range (0,5):\n",
    "        table.loc[chain_start_index[i]:chain_end_index[i]+1]['chainID'] = i\n",
    "    table.loc[chain_end_index[i]+1:]['chainID'] = 5\n",
    "\n",
    "    t2 = md.Topology.from_dataframe(table, bonds)\n",
    "    traj.topology = t2\n",
    "    traj.save_pdb(location + 'md_ensemble/' + traj_note + '/' + traj_note +'.backbone.pdb')"
   ]
  },
  {
   "cell_type": "code",
   "execution_count": 11,
   "metadata": {},
   "outputs": [],
   "source": [
    "def saveca(traj_note):\n",
    "    location = '/media/scottzhuang/data/MD/'\n",
    "    skip = 10\n",
    "    top_location = location + traj_note + '/' + traj_note + \".ca.gro\"\n",
    "    traj = md.load(top_location)\n",
    "    table, bonds = traj.topology.to_dataframe()\n",
    "    chain_start_index = list(table[(table['resSeq'] == 5)].index)\n",
    "    chain_end_index = list(table[(table['resSeq'] == 315)].index)\n",
    "    for i in range (0,5):\n",
    "        table.loc[chain_start_index[i]:chain_end_index[i]+1]['chainID'] = i\n",
    "    table.loc[chain_end_index[i]+1:]['chainID'] = 5\n",
    "\n",
    "    t2 = md.Topology.from_dataframe(table, bonds)\n",
    "    traj.topology = t2\n",
    "    traj.save_pdb(location + 'md_ensemble/' + traj_note + '/' + traj_note +'.ca.pdb')"
   ]
  },
  {
   "cell_type": "code",
   "execution_count": 14,
   "metadata": {},
   "outputs": [
    {
     "data": {
      "text/plain": [
       "[None,\n",
       " None,\n",
       " None,\n",
       " None,\n",
       " None,\n",
       " None,\n",
       " None,\n",
       " None,\n",
       " None,\n",
       " None,\n",
       " None,\n",
       " None,\n",
       " None,\n",
       " None,\n",
       " None,\n",
       " None,\n",
       " None,\n",
       " None,\n",
       " None,\n",
       " None,\n",
       " None,\n",
       " None,\n",
       " None,\n",
       " None,\n",
       " None,\n",
       " None,\n",
       " None,\n",
       " None,\n",
       " None,\n",
       " None,\n",
       " None,\n",
       " None,\n",
       " None,\n",
       " None,\n",
       " None,\n",
       " None,\n",
       " None,\n",
       " None,\n",
       " None,\n",
       " None,\n",
       " None,\n",
       " None,\n",
       " None,\n",
       " None,\n",
       " None,\n",
       " None,\n",
       " None,\n",
       " None]"
      ]
     },
     "execution_count": 14,
     "metadata": {},
     "output_type": "execute_result"
    }
   ],
   "source": [
    "from joblib import Parallel, delayed\n",
    "import multiprocessing\n",
    "num_cores = multiprocessing.cpu_count()\n",
    "Parallel(n_jobs=num_cores)(delayed(recover_chainid)(traj_note) for traj_note in traj_notes)"
   ]
  },
  {
   "cell_type": "code",
   "execution_count": null,
   "metadata": {},
   "outputs": [],
   "source": []
  }
 ],
 "metadata": {
  "kernelspec": {
   "display_name": "deepchem",
   "language": "python",
   "name": "deepchem"
  },
  "language_info": {
   "codemirror_mode": {
    "name": "ipython",
    "version": 3
   },
   "file_extension": ".py",
   "mimetype": "text/x-python",
   "name": "python",
   "nbconvert_exporter": "python",
   "pygments_lexer": "ipython3",
   "version": "3.5.4"
  }
 },
 "nbformat": 4,
 "nbformat_minor": 2
}
