{
 "cells": [
  {
   "cell_type": "markdown",
   "metadata": {},
   "source": [
    "# Save Pore"
   ]
  },
  {
   "cell_type": "code",
   "execution_count": 1,
   "metadata": {},
   "outputs": [],
   "source": [
    "import mdtraj as md\n",
    "import numpy as np"
   ]
  },
  {
   "cell_type": "code",
   "execution_count": 2,
   "metadata": {},
   "outputs": [],
   "source": [
    "location = \"/media/scottzhuang/data/MD/\""
   ]
  },
  {
   "cell_type": "code",
   "execution_count": 3,
   "metadata": {},
   "outputs": [],
   "source": [
    "residue_selection = \"resSeq 220 to 240\""
   ]
  },
  {
   "cell_type": "code",
   "execution_count": 32,
   "metadata": {},
   "outputs": [],
   "source": [
    "def extract_pore(pdb_location):\n",
    "    traj = md.load(location + pdb_location + '/' + pdb_location + '.skip10.backbone.xtc',top = location + pdb_location + '/' + pdb_location + '.backbone.gro' )\n",
    "    topology = traj.topology\n",
    "    traj = traj.atom_slice(topology.select(residue_selection))\n",
    "    traj.save_xtc(location + 'msm/' + pdb_location +'.xtc')"
   ]
  },
  {
   "cell_type": "code",
   "execution_count": 34,
   "metadata": {},
   "outputs": [],
   "source": [
    "def extract_pore(pdb_location):\n",
    "    traj = md.load(location + pdb_location + '/' + pdb_location + '.backbone.gro' )\n",
    "    topology = traj.topology\n",
    "    traj = traj.atom_slice(topology.select(residue_selection))\n",
    "    traj.save_pdb(location + 'msm/' + pdb_location +'.pdb')"
   ]
  },
  {
   "cell_type": "code",
   "execution_count": 35,
   "metadata": {},
   "outputs": [],
   "source": [
    "for traj_note in traj_notes:\n",
    "    extract_pore(traj_note)"
   ]
  },
  {
   "cell_type": "code",
   "execution_count": 36,
   "metadata": {
    "collapsed": true
   },
   "outputs": [],
   "source": [
    "extract_pore('4NPQ_pH70_md5')"
   ]
  },
  {
   "cell_type": "code",
   "execution_count": 2,
   "metadata": {},
   "outputs": [],
   "source": [
    "traj_notes = ['5NJY_pH70_md1','5NJY_pH70_md2','5NJY_pH70_md3','5NJY_F238L_pH70_md1',\n",
    "                 '5NJY_F238L_pH70_md2','5NJY_F238L_pH70_md3','5NJY_I233T_pH70_md4',\n",
    "                  '5NJY_I233T_pH70_md2','5NJY_I233T_pH70_md3','5NJY_F238LI233T_pH70_md1',\n",
    "                  '5NJY_F238LI233T_pH70_md2','5NJY_F238LI233T_pH70_md3','5NJY_pH46_md1','5NJY_pH46_md2','5NJY_pH46_md3','5NJY_F238L_pH46_md1',\n",
    "                 '5NJY_F238L_pH46_md2','5NJY_F238L_pH46_md3','5NJY_I233T_pH46_md1',\n",
    "                  '5NJY_I233T_pH46_md2','5NJY_I233T_pH46_md3','5NJY_F238LI233T_pH46_md1',\n",
    "                  '5NJY_F238LI233T_pH46_md2','5NJY_F238LI233T_pH46_md3','4HFI_pH46_md1','4HFI_pH46_md2','4HFI_pH46_md3','4HFI_F238L_pH46_md1',\n",
    "                 '4HFI_F238L_pH46_md2','4HFI_F238L_pH46_md3','4HFI_I233T_pH46_md1',\n",
    "                  '4HFI_I233T_pH46_md2','4HFI_I233T_pH46_md3','4HFI_F238LI233T_pH46_md1',\n",
    "                  '4HFI_F238LI233T_pH46_md2','4HFI_F238LI233T_pH46_md3','4NPQ_pH70_md5','4NPQ_pH70_md6','4NPQ_pH70_md7','4NPQ_F238L_pH70_md3',\n",
    "                 '4NPQ_F238L_pH70_md4','4NPQ_F238L_pH70_md5','4NPQ_I233T_pH70_md3',\n",
    "                  '4NPQ_I233T_pH70_md4','4NPQ_I233T_pH70_md5','4NPQ_F238LI233T_pH70_md3',\n",
    "                  '4NPQ_F238LI233T_pH70_md4','4NPQ_F238LI233T_pH70_md5','4HFI_F238L_pH46_md4']"
   ]
  },
  {
   "cell_type": "code",
   "execution_count": 31,
   "metadata": {},
   "outputs": [],
   "source": [
    "def extract_pore_traj(traj_note):\n",
    "    location = '/media/scottzhuang/data/MD/'\n",
    "    skip = 10\n",
    "    top_location = location + traj_note + '/' + traj_note + \".backbone.gro\"\n",
    "    traj_location = location + traj_note + '/' + traj_note + \".skip\" + str(skip) + \".backbone.xtc\"\n",
    "    traj = md.load(traj_location, top=top_location)\n",
    "    topology = traj.topology\n",
    "    traj = traj.atom_slice(topology.select(residue_selection))\n",
    "    traj.superpose(traj,0)\n",
    "    traj.save_pdb(location + traj_note + '/' + traj_note +'.hole.traj.pdb')"
   ]
  },
  {
   "cell_type": "code",
   "execution_count": 7,
   "metadata": {},
   "outputs": [
    {
     "name": "stderr",
     "output_type": "stream",
     "text": [
      "/home/scottzhuang/anaconda3/envs/deepchem/lib/python3.5/site-packages/ipykernel_launcher.py:9: SettingWithCopyWarning: \n",
      "A value is trying to be set on a copy of a slice from a DataFrame.\n",
      "Try using .loc[row_indexer,col_indexer] = value instead\n",
      "\n",
      "See the caveats in the documentation: http://pandas.pydata.org/pandas-docs/stable/indexing.html#indexing-view-versus-copy\n",
      "  if __name__ == '__main__':\n"
     ]
    },
    {
     "ename": "KeyboardInterrupt",
     "evalue": "",
     "output_type": "error",
     "traceback": [
      "\u001b[0;31m---------------------------------------------------------------------------\u001b[0m",
      "\u001b[0;31mKeyboardInterrupt\u001b[0m                         Traceback (most recent call last)",
      "\u001b[0;32m<ipython-input-7-d18621086d86>\u001b[0m in \u001b[0;36m<module>\u001b[0;34m()\u001b[0m\n\u001b[1;32m      1\u001b[0m \u001b[0;32mfor\u001b[0m \u001b[0mtraj_note\u001b[0m \u001b[0;32min\u001b[0m \u001b[0mtraj_notes\u001b[0m\u001b[0;34m:\u001b[0m\u001b[0;34m\u001b[0m\u001b[0m\n\u001b[0;32m----> 2\u001b[0;31m     \u001b[0mrecover_chainid_ca\u001b[0m\u001b[0;34m(\u001b[0m\u001b[0mtraj_note\u001b[0m\u001b[0;34m)\u001b[0m\u001b[0;34m\u001b[0m\u001b[0m\n\u001b[0m",
      "\u001b[0;32m<ipython-input-6-e9543e6b2339>\u001b[0m in \u001b[0;36mrecover_chainid_ca\u001b[0;34m(traj_note)\u001b[0m\n\u001b[1;32m      8\u001b[0m     \u001b[0;32mfor\u001b[0m \u001b[0mi\u001b[0m \u001b[0;32min\u001b[0m \u001b[0mrange\u001b[0m \u001b[0;34m(\u001b[0m\u001b[0;36m0\u001b[0m\u001b[0;34m,\u001b[0m\u001b[0;36m5\u001b[0m\u001b[0;34m)\u001b[0m\u001b[0;34m:\u001b[0m\u001b[0;34m\u001b[0m\u001b[0m\n\u001b[1;32m      9\u001b[0m         \u001b[0mtable\u001b[0m\u001b[0;34m.\u001b[0m\u001b[0mloc\u001b[0m\u001b[0;34m[\u001b[0m\u001b[0;36m311\u001b[0m\u001b[0;34m*\u001b[0m\u001b[0mi\u001b[0m\u001b[0;34m:\u001b[0m\u001b[0;36m311\u001b[0m\u001b[0;34m*\u001b[0m\u001b[0mi\u001b[0m \u001b[0;34m+\u001b[0m \u001b[0;36m311\u001b[0m\u001b[0;34m]\u001b[0m\u001b[0;34m[\u001b[0m\u001b[0;34m'chainID'\u001b[0m\u001b[0;34m]\u001b[0m \u001b[0;34m=\u001b[0m \u001b[0mi\u001b[0m\u001b[0;34m\u001b[0m\u001b[0m\n\u001b[0;32m---> 10\u001b[0;31m     \u001b[0mt2\u001b[0m \u001b[0;34m=\u001b[0m \u001b[0mmd\u001b[0m\u001b[0;34m.\u001b[0m\u001b[0mTopology\u001b[0m\u001b[0;34m.\u001b[0m\u001b[0mfrom_dataframe\u001b[0m\u001b[0;34m(\u001b[0m\u001b[0mtable\u001b[0m\u001b[0;34m,\u001b[0m \u001b[0mbonds\u001b[0m\u001b[0;34m)\u001b[0m\u001b[0;34m\u001b[0m\u001b[0m\n\u001b[0m\u001b[1;32m     11\u001b[0m     \u001b[0mtraj\u001b[0m\u001b[0;34m.\u001b[0m\u001b[0mtopology\u001b[0m \u001b[0;34m=\u001b[0m \u001b[0mt2\u001b[0m\u001b[0;34m\u001b[0m\u001b[0m\n\u001b[1;32m     12\u001b[0m     \u001b[0mtraj\u001b[0m\u001b[0;34m.\u001b[0m\u001b[0msave_pdb\u001b[0m\u001b[0;34m(\u001b[0m\u001b[0mlocation\u001b[0m \u001b[0;34m+\u001b[0m \u001b[0mtraj_note\u001b[0m \u001b[0;34m+\u001b[0m \u001b[0;34m'/'\u001b[0m \u001b[0;34m+\u001b[0m \u001b[0mtraj_note\u001b[0m \u001b[0;34m+\u001b[0m\u001b[0;34m'.ca.pdb'\u001b[0m\u001b[0;34m)\u001b[0m\u001b[0;34m\u001b[0m\u001b[0m\n",
      "\u001b[0;32m~/anaconda3/envs/deepchem/lib/python3.5/site-packages/mdtraj/core/topology.py\u001b[0m in \u001b[0;36mfrom_dataframe\u001b[0;34m(cls, atoms, bonds)\u001b[0m\n\u001b[1;32m    459\u001b[0m \u001b[0;34m\u001b[0m\u001b[0m\n\u001b[1;32m    460\u001b[0m             \u001b[0;32mfor\u001b[0m \u001b[0mri\u001b[0m \u001b[0;32min\u001b[0m \u001b[0mnp\u001b[0m\u001b[0;34m.\u001b[0m\u001b[0munique\u001b[0m\u001b[0;34m(\u001b[0m\u001b[0mchain_atoms\u001b[0m\u001b[0;34m[\u001b[0m\u001b[0;34m'resSeq'\u001b[0m\u001b[0;34m]\u001b[0m\u001b[0;34m)\u001b[0m\u001b[0;34m:\u001b[0m\u001b[0;34m\u001b[0m\u001b[0m\n\u001b[0;32m--> 461\u001b[0;31m                 \u001b[0mresidue_atoms\u001b[0m \u001b[0;34m=\u001b[0m \u001b[0mchain_atoms\u001b[0m\u001b[0;34m[\u001b[0m\u001b[0mchain_atoms\u001b[0m\u001b[0;34m[\u001b[0m\u001b[0;34m'resSeq'\u001b[0m\u001b[0;34m]\u001b[0m \u001b[0;34m==\u001b[0m \u001b[0mri\u001b[0m\u001b[0;34m]\u001b[0m\u001b[0;34m\u001b[0m\u001b[0m\n\u001b[0m\u001b[1;32m    462\u001b[0m                 \u001b[0mrnames\u001b[0m \u001b[0;34m=\u001b[0m \u001b[0mresidue_atoms\u001b[0m\u001b[0;34m[\u001b[0m\u001b[0;34m'resName'\u001b[0m\u001b[0;34m]\u001b[0m\u001b[0;34m\u001b[0m\u001b[0m\n\u001b[1;32m    463\u001b[0m                 \u001b[0mresidue_name\u001b[0m \u001b[0;34m=\u001b[0m \u001b[0mnp\u001b[0m\u001b[0;34m.\u001b[0m\u001b[0marray\u001b[0m\u001b[0;34m(\u001b[0m\u001b[0mrnames\u001b[0m\u001b[0;34m)\u001b[0m\u001b[0;34m[\u001b[0m\u001b[0;36m0\u001b[0m\u001b[0;34m]\u001b[0m\u001b[0;34m\u001b[0m\u001b[0m\n",
      "\u001b[0;32m~/anaconda3/envs/deepchem/lib/python3.5/site-packages/pandas/core/ops.py\u001b[0m in \u001b[0;36mwrapper\u001b[0;34m(self, other, axis)\u001b[0m\n\u001b[1;32m    877\u001b[0m \u001b[0;34m\u001b[0m\u001b[0m\n\u001b[1;32m    878\u001b[0m             \u001b[0;32mwith\u001b[0m \u001b[0mnp\u001b[0m\u001b[0;34m.\u001b[0m\u001b[0merrstate\u001b[0m\u001b[0;34m(\u001b[0m\u001b[0mall\u001b[0m\u001b[0;34m=\u001b[0m\u001b[0;34m'ignore'\u001b[0m\u001b[0;34m)\u001b[0m\u001b[0;34m:\u001b[0m\u001b[0;34m\u001b[0m\u001b[0m\n\u001b[0;32m--> 879\u001b[0;31m                 \u001b[0mres\u001b[0m \u001b[0;34m=\u001b[0m \u001b[0mna_op\u001b[0m\u001b[0;34m(\u001b[0m\u001b[0mvalues\u001b[0m\u001b[0;34m,\u001b[0m \u001b[0mother\u001b[0m\u001b[0;34m)\u001b[0m\u001b[0;34m\u001b[0m\u001b[0m\n\u001b[0m\u001b[1;32m    880\u001b[0m             \u001b[0;32mif\u001b[0m \u001b[0mis_scalar\u001b[0m\u001b[0;34m(\u001b[0m\u001b[0mres\u001b[0m\u001b[0;34m)\u001b[0m\u001b[0;34m:\u001b[0m\u001b[0;34m\u001b[0m\u001b[0m\n\u001b[1;32m    881\u001b[0m                 raise TypeError('Could not compare {typ} type with Series'\n",
      "\u001b[0;32m~/anaconda3/envs/deepchem/lib/python3.5/site-packages/pandas/core/ops.py\u001b[0m in \u001b[0;36mna_op\u001b[0;34m(x, y)\u001b[0m\n\u001b[1;32m    789\u001b[0m             \u001b[0;31m# we would allow datetime64 (but viewed as i8) against\u001b[0m\u001b[0;34m\u001b[0m\u001b[0;34m\u001b[0m\u001b[0m\n\u001b[1;32m    790\u001b[0m             \u001b[0;31m# integer comparisons\u001b[0m\u001b[0;34m\u001b[0m\u001b[0;34m\u001b[0m\u001b[0m\n\u001b[0;32m--> 791\u001b[0;31m             \u001b[0;32mif\u001b[0m \u001b[0mis_datetimelike_v_numeric\u001b[0m\u001b[0;34m(\u001b[0m\u001b[0mx\u001b[0m\u001b[0;34m,\u001b[0m \u001b[0my\u001b[0m\u001b[0;34m)\u001b[0m\u001b[0;34m:\u001b[0m\u001b[0;34m\u001b[0m\u001b[0m\n\u001b[0m\u001b[1;32m    792\u001b[0m                 \u001b[0;32mraise\u001b[0m \u001b[0mTypeError\u001b[0m\u001b[0;34m(\u001b[0m\u001b[0;34m\"invalid type comparison\"\u001b[0m\u001b[0;34m)\u001b[0m\u001b[0;34m\u001b[0m\u001b[0m\n\u001b[1;32m    793\u001b[0m \u001b[0;34m\u001b[0m\u001b[0m\n",
      "\u001b[0;32m~/anaconda3/envs/deepchem/lib/python3.5/site-packages/pandas/core/dtypes/common.py\u001b[0m in \u001b[0;36mis_datetimelike_v_numeric\u001b[0;34m(a, b)\u001b[0m\n\u001b[1;32m   1305\u001b[0m         \u001b[0mb\u001b[0m \u001b[0;34m=\u001b[0m \u001b[0mnp\u001b[0m\u001b[0;34m.\u001b[0m\u001b[0masarray\u001b[0m\u001b[0;34m(\u001b[0m\u001b[0mb\u001b[0m\u001b[0;34m)\u001b[0m\u001b[0;34m\u001b[0m\u001b[0m\n\u001b[1;32m   1306\u001b[0m \u001b[0;34m\u001b[0m\u001b[0m\n\u001b[0;32m-> 1307\u001b[0;31m     \u001b[0;32mdef\u001b[0m \u001b[0mis_numeric\u001b[0m\u001b[0;34m(\u001b[0m\u001b[0mx\u001b[0m\u001b[0;34m)\u001b[0m\u001b[0;34m:\u001b[0m\u001b[0;34m\u001b[0m\u001b[0m\n\u001b[0m\u001b[1;32m   1308\u001b[0m         \"\"\"\n\u001b[1;32m   1309\u001b[0m         \u001b[0mCheck\u001b[0m \u001b[0;32mif\u001b[0m \u001b[0man\u001b[0m \u001b[0mobject\u001b[0m \u001b[0mhas\u001b[0m \u001b[0ma\u001b[0m \u001b[0mnumeric\u001b[0m \u001b[0mdtype\u001b[0m \u001b[0;34m(\u001b[0m\u001b[0mi\u001b[0m\u001b[0;34m.\u001b[0m\u001b[0me\u001b[0m\u001b[0;34m.\u001b[0m \u001b[0minteger\u001b[0m \u001b[0;32mor\u001b[0m \u001b[0mfloat\u001b[0m\u001b[0;34m)\u001b[0m\u001b[0;34m.\u001b[0m\u001b[0;34m\u001b[0m\u001b[0m\n",
      "\u001b[0;31mKeyboardInterrupt\u001b[0m: "
     ]
    }
   ],
   "source": [
    "for traj_note in traj_notes:\n",
    "    recover_chainid_ca(traj_note)"
   ]
  },
  {
   "cell_type": "code",
   "execution_count": 11,
   "metadata": {},
   "outputs": [],
   "source": [
    "traj_notes = ['4HFI_F238A_pH46_md1',\n",
    "                 '4HFI_F238A_pH46_md2','4HFI_F238A_pH46_md3']"
   ]
  },
  {
   "cell_type": "code",
   "execution_count": 14,
   "metadata": {},
   "outputs": [],
   "source": [
    "def recover_chainid_ca(traj_note):\n",
    "    location = '/media/scottzhuang/data/MD/'\n",
    "    skip = 10\n",
    "    top_location = location + traj_note + '/' + traj_note + \".ca.gro\"\n",
    "    traj = md.load(top_location)\n",
    "    topology = traj.topology\n",
    "    table, bonds = topology.to_dataframe()\n",
    "    for i in range (0,5):\n",
    "        table.loc[311*i:311*i + 311,'chainID'] = i\n",
    "    t2 = md.Topology.from_dataframe(table, bonds)\n",
    "    traj.topology = t2\n",
    "    traj.save_pdb(location + traj_note + '/' + traj_note +'.ca.pdb')"
   ]
  },
  {
   "cell_type": "code",
   "execution_count": 15,
   "metadata": {},
   "outputs": [
    {
     "data": {
      "text/plain": [
       "[None, None, None]"
      ]
     },
     "execution_count": 15,
     "metadata": {},
     "output_type": "execute_result"
    }
   ],
   "source": [
    "from joblib import Parallel, delayed\n",
    "import multiprocessing\n",
    "num_cores = multiprocessing.cpu_count()\n",
    "Parallel(n_jobs=num_cores)(delayed(recover_chainid_ca)(traj_note) for traj_note in traj_notes)"
   ]
  },
  {
   "cell_type": "code",
   "execution_count": 16,
   "metadata": {},
   "outputs": [],
   "source": [
    "def recover_chainid_system(traj_note):\n",
    "    location = '/media/scottzhuang/data/MD/'\n",
    "    skip = 10\n",
    "    top_location = location + traj_note + '/' + traj_note + \".system.gro\"\n",
    "    traj = md.load(top_location)\n",
    "    topology = traj.topology\n",
    "    table, bonds = topology.to_dataframe()\n",
    "    chain_start_index = list(table[(table['resSeq'] == 5) & (table['name'] == 'MN1')].index)\n",
    "    chain_end_index = list(table[(table['resSeq'] == 315) & (table['name'] == 'OXT')].index)\n",
    "    for i in range (0,5):\n",
    "        table.loc[chain_start_index[i]:chain_end_index[i]+1,'chainID'] = i\n",
    "    table.loc[chain_end_index[i]+1:,'chainID'] = 5\n",
    "    table.loc[table.resName == 'HOH','resSeq'] = 1000\n",
    "    table.loc[table.resName == 'HOH','chainID'] = 6\n",
    "    t2 = md.Topology.from_dataframe(table, bonds)\n",
    "    traj.topology = t2\n",
    "    traj.save_pdb(location + traj_note + '/' + traj_note +'.system.pdb')"
   ]
  },
  {
   "cell_type": "code",
   "execution_count": 19,
   "metadata": {},
   "outputs": [
    {
     "data": {
      "text/plain": [
       "[None, None, None]"
      ]
     },
     "execution_count": 19,
     "metadata": {},
     "output_type": "execute_result"
    }
   ],
   "source": [
    "from joblib import Parallel, delayed\n",
    "import multiprocessing\n",
    "num_cores = multiprocessing.cpu_count()\n",
    "Parallel(n_jobs=num_cores)(delayed(recover_chainid_protein)(traj_note) for traj_note in traj_notes)"
   ]
  },
  {
   "cell_type": "code",
   "execution_count": 17,
   "metadata": {},
   "outputs": [],
   "source": [
    "def recover_chainid_protein(traj_note):\n",
    "    location = '/media/scottzhuang/data/MD/'\n",
    "    skip = 10\n",
    "    top_location = location + traj_note + '/' + traj_note + \".protein.gro\"\n",
    "    traj = md.load(top_location)\n",
    "    topology = traj.topology\n",
    "    table, bonds = topology.to_dataframe()\n",
    "    chain_start_index = list(table[(table['resSeq'] == 5) & (table['name'] == 'MN1')].index)\n",
    "    chain_end_index = list(table[(table['resSeq'] == 315) & (table['name'] == 'OXT')].index)\n",
    "    for i in range (0,5):\n",
    "        table.loc[chain_start_index[i]:chain_end_index[i]+1,'chainID'] = i\n",
    "    table.loc[chain_end_index[i]+1:,'chainID'] = 5\n",
    "    t2 = md.Topology.from_dataframe(table, bonds)\n",
    "    traj.topology = t2\n",
    "    traj.save_pdb(location + traj_note + '/' + traj_note +'.protein.pdb')"
   ]
  },
  {
   "cell_type": "code",
   "execution_count": 25,
   "metadata": {},
   "outputs": [],
   "source": [
    "def deleteSeq(traj_note):\n",
    "    location = '/media/scottzhuang/data/MD/'\n",
    "    skip = 10\n",
    "    top_location = location + traj_note + '/' + traj_note + \".protein.gro\"\n",
    "    traj = md.load(top_location)\n",
    "    table, bonds = traj.topology.to_dataframe()\n",
    "    chain_start_index = list(table[(table['resSeq'] == 5) & (table['name'] == 'MN1')].index)\n",
    "    chain_end_index = list(table[(table['resSeq'] == 315) & (table['name'] == 'OXT')].index)\n",
    "    for i in range (0,5):\n",
    "        table.loc[chain_start_index[i]:chain_end_index[i]]['resSeq'] = table.loc[chain_start_index[0]:chain_end_index[0]]['resSeq'].values + i * 311\n",
    "    table['resSeq'] = table['resSeq'].values - 4\n",
    "    t2 = md.Topology.from_dataframe(table, bonds)\n",
    "    traj.topology = t2\n",
    "    traj.save_pdb(location + 'md_ensemble/' + traj_note + '/' + traj_note +'.protein2.pdb')"
   ]
  },
  {
   "cell_type": "code",
   "execution_count": 33,
   "metadata": {},
   "outputs": [],
   "source": [
    "def deleteSeq_system(traj_note):\n",
    "    location = '/media/scottzhuang/data/MD/'\n",
    "    skip = 10\n",
    "    top_location = location + traj_note + '/' + traj_note + \".system.gro\"\n",
    "    traj = md.load(top_location)\n",
    "    table, bonds = traj.topology.to_dataframe()\n",
    "    chain_start_index = list(table[(table['resSeq'] == 5) & (table['name'] == 'MN1')].index)\n",
    "    chain_end_index = list(table[(table['resSeq'] == 315) & (table['name'] == 'OXT')].index)\n",
    "    for i in range (0,5):\n",
    "        table.loc[chain_start_index[i]:chain_end_index[i]]['resSeq'] = table.loc[chain_start_index[0]:chain_end_index[0]]['resSeq'].values + i * 311\n",
    "    table['resSeq'] = table['resSeq'].values - 4\n",
    "    table.loc[chain_end_index[i]+1:,'chainID'] = 5\n",
    "    table.loc[table.resName == 'HOH','resSeq'] = 20000\n",
    "    table.loc[table.resName == 'HOH','chainID'] = 6\n",
    "    t2 = md.Topology.from_dataframe(table, bonds)\n",
    "    traj.topology = t2\n",
    "    traj.save_pdb(location + 'md_ensemble/' + traj_note + '/' + traj_note +'.system3.pdb')"
   ]
  },
  {
   "cell_type": "code",
   "execution_count": 9,
   "metadata": {},
   "outputs": [],
   "source": [
    "def savebackbone(traj_note):\n",
    "    location = '/media/scottzhuang/data/MD/'\n",
    "    skip = 10\n",
    "    top_location = location + traj_note + '/' + traj_note + \".backbone.gro\"\n",
    "    traj = md.load(top_location)\n",
    "    table, bonds = traj.topology.to_dataframe()\n",
    "    chain_start_index = list(table[(table['resSeq'] == 5) & (table['name'] == 'N')].index)\n",
    "    chain_end_index = list(table[(table['resSeq'] == 315) & (table['name'] == 'OXT')].index)\n",
    "    for i in range (0,5):\n",
    "        table.loc[chain_start_index[i]:chain_end_index[i]+1]['chainID'] = i\n",
    "    table.loc[chain_end_index[i]+1:]['chainID'] = 5\n",
    "\n",
    "    t2 = md.Topology.from_dataframe(table, bonds)\n",
    "    traj.topology = t2\n",
    "    traj.save_pdb(location + 'md_ensemble/' + traj_note + '/' + traj_note +'.backbone.pdb')"
   ]
  },
  {
   "cell_type": "code",
   "execution_count": null,
   "metadata": {},
   "outputs": [
    {
     "name": "stderr",
     "output_type": "stream",
     "text": [
      "/home/scottzhuang/anaconda3/envs/deepchem/lib/python3.5/site-packages/ipykernel_launcher.py:10: SettingWithCopyWarning: \n",
      "A value is trying to be set on a copy of a slice from a DataFrame.\n",
      "Try using .loc[row_indexer,col_indexer] = value instead\n",
      "\n",
      "See the caveats in the documentation: http://pandas.pydata.org/pandas-docs/stable/indexing.html#indexing-view-versus-copy\n",
      "  # Remove the CWD from sys.path while we load stuff.\n",
      "/home/scottzhuang/anaconda3/envs/deepchem/lib/python3.5/site-packages/ipykernel_launcher.py:10: SettingWithCopyWarning: \n",
      "A value is trying to be set on a copy of a slice from a DataFrame.\n",
      "Try using .loc[row_indexer,col_indexer] = value instead\n",
      "\n",
      "See the caveats in the documentation: http://pandas.pydata.org/pandas-docs/stable/indexing.html#indexing-view-versus-copy\n",
      "  # Remove the CWD from sys.path while we load stuff.\n",
      "/home/scottzhuang/anaconda3/envs/deepchem/lib/python3.5/site-packages/ipykernel_launcher.py:10: SettingWithCopyWarning: \n",
      "A value is trying to be set on a copy of a slice from a DataFrame.\n",
      "Try using .loc[row_indexer,col_indexer] = value instead\n",
      "\n",
      "See the caveats in the documentation: http://pandas.pydata.org/pandas-docs/stable/indexing.html#indexing-view-versus-copy\n",
      "  # Remove the CWD from sys.path while we load stuff.\n",
      "/home/scottzhuang/anaconda3/envs/deepchem/lib/python3.5/site-packages/ipykernel_launcher.py:10: SettingWithCopyWarning: \n",
      "A value is trying to be set on a copy of a slice from a DataFrame.\n",
      "Try using .loc[row_indexer,col_indexer] = value instead\n",
      "\n",
      "See the caveats in the documentation: http://pandas.pydata.org/pandas-docs/stable/indexing.html#indexing-view-versus-copy\n",
      "  # Remove the CWD from sys.path while we load stuff.\n",
      "/home/scottzhuang/anaconda3/envs/deepchem/lib/python3.5/site-packages/ipykernel_launcher.py:10: SettingWithCopyWarning: \n",
      "A value is trying to be set on a copy of a slice from a DataFrame.\n",
      "Try using .loc[row_indexer,col_indexer] = value instead\n",
      "\n",
      "See the caveats in the documentation: http://pandas.pydata.org/pandas-docs/stable/indexing.html#indexing-view-versus-copy\n",
      "  # Remove the CWD from sys.path while we load stuff.\n",
      "/home/scottzhuang/anaconda3/envs/deepchem/lib/python3.5/site-packages/ipykernel_launcher.py:10: SettingWithCopyWarning: \n",
      "A value is trying to be set on a copy of a slice from a DataFrame.\n",
      "Try using .loc[row_indexer,col_indexer] = value instead\n",
      "\n",
      "See the caveats in the documentation: http://pandas.pydata.org/pandas-docs/stable/indexing.html#indexing-view-versus-copy\n",
      "  # Remove the CWD from sys.path while we load stuff.\n",
      "/home/scottzhuang/anaconda3/envs/deepchem/lib/python3.5/site-packages/ipykernel_launcher.py:10: SettingWithCopyWarning: \n",
      "A value is trying to be set on a copy of a slice from a DataFrame.\n",
      "Try using .loc[row_indexer,col_indexer] = value instead\n",
      "\n",
      "See the caveats in the documentation: http://pandas.pydata.org/pandas-docs/stable/indexing.html#indexing-view-versus-copy\n",
      "  # Remove the CWD from sys.path while we load stuff.\n",
      "/home/scottzhuang/anaconda3/envs/deepchem/lib/python3.5/site-packages/ipykernel_launcher.py:10: SettingWithCopyWarning: \n",
      "A value is trying to be set on a copy of a slice from a DataFrame.\n",
      "Try using .loc[row_indexer,col_indexer] = value instead\n",
      "\n",
      "See the caveats in the documentation: http://pandas.pydata.org/pandas-docs/stable/indexing.html#indexing-view-versus-copy\n",
      "  # Remove the CWD from sys.path while we load stuff.\n",
      "/home/scottzhuang/anaconda3/envs/deepchem/lib/python3.5/site-packages/ipykernel_launcher.py:10: SettingWithCopyWarning: \n",
      "A value is trying to be set on a copy of a slice from a DataFrame.\n",
      "Try using .loc[row_indexer,col_indexer] = value instead\n",
      "\n",
      "See the caveats in the documentation: http://pandas.pydata.org/pandas-docs/stable/indexing.html#indexing-view-versus-copy\n",
      "  # Remove the CWD from sys.path while we load stuff.\n",
      "/home/scottzhuang/anaconda3/envs/deepchem/lib/python3.5/site-packages/ipykernel_launcher.py:10: SettingWithCopyWarning: \n",
      "A value is trying to be set on a copy of a slice from a DataFrame.\n",
      "Try using .loc[row_indexer,col_indexer] = value instead\n",
      "\n",
      "See the caveats in the documentation: http://pandas.pydata.org/pandas-docs/stable/indexing.html#indexing-view-versus-copy\n",
      "  # Remove the CWD from sys.path while we load stuff.\n",
      "/home/scottzhuang/anaconda3/envs/deepchem/lib/python3.5/site-packages/ipykernel_launcher.py:10: SettingWithCopyWarning: \n",
      "A value is trying to be set on a copy of a slice from a DataFrame.\n",
      "Try using .loc[row_indexer,col_indexer] = value instead\n",
      "\n",
      "See the caveats in the documentation: http://pandas.pydata.org/pandas-docs/stable/indexing.html#indexing-view-versus-copy\n",
      "  # Remove the CWD from sys.path while we load stuff.\n",
      "/home/scottzhuang/anaconda3/envs/deepchem/lib/python3.5/site-packages/ipykernel_launcher.py:10: SettingWithCopyWarning: \n",
      "A value is trying to be set on a copy of a slice from a DataFrame.\n",
      "Try using .loc[row_indexer,col_indexer] = value instead\n",
      "\n",
      "See the caveats in the documentation: http://pandas.pydata.org/pandas-docs/stable/indexing.html#indexing-view-versus-copy\n",
      "  # Remove the CWD from sys.path while we load stuff.\n",
      "/home/scottzhuang/anaconda3/envs/deepchem/lib/python3.5/site-packages/ipykernel_launcher.py:10: SettingWithCopyWarning: \n",
      "A value is trying to be set on a copy of a slice from a DataFrame.\n",
      "Try using .loc[row_indexer,col_indexer] = value instead\n",
      "\n",
      "See the caveats in the documentation: http://pandas.pydata.org/pandas-docs/stable/indexing.html#indexing-view-versus-copy\n",
      "  # Remove the CWD from sys.path while we load stuff.\n",
      "/home/scottzhuang/anaconda3/envs/deepchem/lib/python3.5/site-packages/ipykernel_launcher.py:10: SettingWithCopyWarning: \n",
      "A value is trying to be set on a copy of a slice from a DataFrame.\n",
      "Try using .loc[row_indexer,col_indexer] = value instead\n",
      "\n",
      "See the caveats in the documentation: http://pandas.pydata.org/pandas-docs/stable/indexing.html#indexing-view-versus-copy\n",
      "  # Remove the CWD from sys.path while we load stuff.\n",
      "/home/scottzhuang/anaconda3/envs/deepchem/lib/python3.5/site-packages/ipykernel_launcher.py:10: SettingWithCopyWarning: \n",
      "A value is trying to be set on a copy of a slice from a DataFrame.\n",
      "Try using .loc[row_indexer,col_indexer] = value instead\n",
      "\n",
      "See the caveats in the documentation: http://pandas.pydata.org/pandas-docs/stable/indexing.html#indexing-view-versus-copy\n",
      "  # Remove the CWD from sys.path while we load stuff.\n",
      "/home/scottzhuang/anaconda3/envs/deepchem/lib/python3.5/site-packages/ipykernel_launcher.py:10: SettingWithCopyWarning: \n",
      "A value is trying to be set on a copy of a slice from a DataFrame.\n",
      "Try using .loc[row_indexer,col_indexer] = value instead\n",
      "\n",
      "See the caveats in the documentation: http://pandas.pydata.org/pandas-docs/stable/indexing.html#indexing-view-versus-copy\n",
      "  # Remove the CWD from sys.path while we load stuff.\n"
     ]
    }
   ],
   "source": [
    "from joblib import Parallel, delayed\n",
    "import multiprocessing\n",
    "num_cores = multiprocessing.cpu_count()\n",
    "Parallel(n_jobs=num_cores)(delayed(deleteSeq_system)(traj_note) for traj_note in traj_notes)"
   ]
  },
  {
   "cell_type": "code",
   "execution_count": 11,
   "metadata": {},
   "outputs": [],
   "source": [
    "def saveca(traj_note):\n",
    "    location = '/media/scottzhuang/data/MD/'\n",
    "    skip = 10\n",
    "    top_location = location + traj_note + '/' + traj_note + \".ca.gro\"\n",
    "    traj = md.load(top_location)\n",
    "    table, bonds = traj.topology.to_dataframe()\n",
    "    chain_start_index = list(table[(table['resSeq'] == 5)].index)\n",
    "    chain_end_index = list(table[(table['resSeq'] == 315)].index)\n",
    "    for i in range (0,5):\n",
    "        table.loc[chain_start_index[i]:chain_end_index[i]+1]['chainID'] = i\n",
    "    table.loc[chain_end_index[i]+1:]['chainID'] = 5\n",
    "\n",
    "    t2 = md.Topology.from_dataframe(table, bonds)\n",
    "    traj.topology = t2\n",
    "    traj.save_pdb(location + 'md_ensemble/' + traj_note + '/' + traj_note +'.ca.pdb')"
   ]
  },
  {
   "cell_type": "code",
   "execution_count": 9,
   "metadata": {},
   "outputs": [],
   "source": [
    "wholetraj = md.load(\"/home/scottzhuang/masterthesis/miscellanies/pdb_ensemble/new_ensemble.pdb\")\n",
    "topology = wholetraj.topology\n",
    "residue_selection = \"resSeq 13 to 315\"\n",
    "wholetraj = wholetraj.atom_slice(topology.select(residue_selection))\n",
    "wholetraj.save_pdb('/home/scottzhuang/masterthesis/miscellanies/pca/13to315/13to315.pdb')"
   ]
  },
  {
   "cell_type": "code",
   "execution_count": 16,
   "metadata": {},
   "outputs": [],
   "source": [
    "import shutil \n",
    "import os"
   ]
  },
  {
   "cell_type": "code",
   "execution_count": 22,
   "metadata": {},
   "outputs": [],
   "source": [
    "def copy_system_traj(traj_note):\n",
    "    srcfile = '/media/scottzhuang/data/MD/' + traj_note + '/' + traj_note + '.skip10.protein.xtc'\n",
    "    dstdir =  'md_traj/protein'\n",
    "    shutil.copy(srcfile, dstdir)\n",
    "    srcfile = '/media/scottzhuang/data/MD/' + traj_note + '/' + traj_note + '.protein.pdb'\n",
    "    shutil.copy(srcfile, dstdir)"
   ]
  },
  {
   "cell_type": "code",
   "execution_count": 23,
   "metadata": {},
   "outputs": [],
   "source": [
    "for traj_note in traj_notes:\n",
    "    copy_system_traj(traj_note)"
   ]
  },
  {
   "cell_type": "code",
   "execution_count": null,
   "metadata": {},
   "outputs": [],
   "source": []
  }
 ],
 "metadata": {
  "kernelspec": {
   "display_name": "deepchem",
   "language": "python",
   "name": "deepchem"
  },
  "language_info": {
   "codemirror_mode": {
    "name": "ipython",
    "version": 3
   },
   "file_extension": ".py",
   "mimetype": "text/x-python",
   "name": "python",
   "nbconvert_exporter": "python",
   "pygments_lexer": "ipython3",
   "version": "3.5.4"
  }
 },
 "nbformat": 4,
 "nbformat_minor": 2
}
