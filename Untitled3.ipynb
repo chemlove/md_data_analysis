{
 "cells": [
  {
   "cell_type": "raw",
   "metadata": {},
   "source": [
    "system no.\n",
    "0. 5NJY_pH70\n",
    "1. 5NJY_F238L_pH70\n",
    "2. 5NJY_I233T_pH70\n",
    "3. 5NJY_F238LI233T_pH70\n",
    "4. 5NJY_pH46\n",
    "5. 5NJY_F238L_pH46\n",
    "6. 5NJY_I233T_pH46\n",
    "7. 5NJY_F238LI233T_pH46\n",
    "8. 4HFI_pH46\n",
    "9. 4HFI_F238L_pH46\n",
    "10. 4HFI_I233T_pH46\n",
    "11. 4HFI_F238LI233T_pH46\n",
    "12. 4NPQ_pH70\n",
    "13. 4NPQ_F238L_pH70\n",
    "14. 4NPQ_I233T_pH70\n",
    "15. 4NPQ_F238LI233T_pH70\n",
    "#16. 4HFI_pH70\n",
    "#17. 4NPQ_F238LI233T_pH46\n",
    "#18. 4NPQ_F238L_pH46\n",
    "#19. 4NPQ_pH46\n",
    "#20. 4NPQ_I233T_pH46"
   ]
  },
  {
   "cell_type": "code",
   "execution_count": 1,
   "metadata": {},
   "outputs": [],
   "source": [
    "#Modules\n",
    "from __future__ import print_function\n",
    "import mdtraj as md\n",
    "import numpy as np\n",
    "import matplotlib\n",
    "import matplotlib.pyplot as plt\n",
    "import scipy.cluster.hierarchy\n",
    "from scipy.spatial.distance import squareform\n",
    "import pandas as pd\n",
    "import matplotlib.gridspec as gridspec\n",
    "from mpl_toolkits.mplot3d import Axes3D\n",
    "from sklearn.decomposition import PCA\n",
    "import warnings\n",
    "warnings.filterwarnings('ignore')\n",
    "%matplotlib inline\n"
   ]
  },
  {
   "cell_type": "code",
   "execution_count": 85,
   "metadata": {},
   "outputs": [
    {
     "data": {
      "text/plain": [
       "Index(['MD_name', 'pH', 'replicate', 'traj_time', 'system', 'ecd_pc1',\n",
       "       'ecd_pc2', 'tmd_pc1', 'tmd_pc2', 'wholepca_pc1', 'wholepca_pc2',\n",
       "       'wholepca_pc3', 'wholepca_pc4', 'wholepca_pc5', 'domain twist',\n",
       "       'helix tilt angle', 'helix twist angle', 'beta_expansion', 'M2_radius',\n",
       "       'ECD_radius', 'M2_M1_distance', 'M1_kink', 'hydration_data',\n",
       "       'hydration_data235_3a', 'hydration_data233_3a', 'hydration_data238_3a',\n",
       "       'hydration_data226_3a', 'hydration_data240_3a', 'hydration_data_m123',\n",
       "       'pore_profile_222', 'pore_profile_226', 'pore_profile_230',\n",
       "       'pore_profile_233', 'pore_profile_237', 'pore_profile_240', 'rmsd4NPQ',\n",
       "       'rmsd4HFI', 'rmsd5NJY', 'tmd_rmsd', 'ecd_rmsd', 'rmsd', 'cluster_index',\n",
       "       'ECD twist', 'hydration_data_236_center', 'tmd_noM2_pc1',\n",
       "       'tmd_noM2_pc2', 'rmsd_TMD_noM2'],\n",
       "      dtype='object')"
      ]
     },
     "execution_count": 85,
     "metadata": {},
     "output_type": "execute_result"
    }
   ],
   "source": [
    "md_data = pd.read_pickle(\"glic_gating.pickle\")\n",
    "md_data = md_data[md_data['traj_time'] > 5]\n",
    "md_data['traj_time'] = md_data['traj_time'] * 10\n",
    "md_data.columns"
   ]
  },
  {
   "cell_type": "code",
   "execution_count": 79,
   "metadata": {},
   "outputs": [],
   "source": [
    "md_5NJY_70 = md_data[(md_data.system >= 0) & (md_data.system <= 3)]\n",
    "md_5NJY_46 = md_data[(md_data.system >= 4) & (md_data.system <= 7)]\n",
    "md_4HFI_46 = md_data[(md_data.system >= 8) & (md_data.system <= 11)]\n",
    "md_4NPQ_70 = md_data[(md_data.system >= 12) & (md_data.system <= 15)]"
   ]
  },
  {
   "cell_type": "code",
   "execution_count": 80,
   "metadata": {},
   "outputs": [],
   "source": [
    "md_WT = md_data[~md_data.MD_name.str.contains('F238L') & ~md_data.MD_name.str.contains('I233T')]\n",
    "md_F238L = md_data[md_data.MD_name.str.contains('F238L') & ~md_data.MD_name.str.contains('F238LI233T')]\n",
    "md_I233T = md_data[md_data.MD_name.str.contains('I233T') & ~md_data.MD_name.str.contains('F238LI233T')]\n",
    "md_F238LI233T = md_data[md_data.MD_name.str.contains('F238LI233T')]"
   ]
  },
  {
   "cell_type": "code",
   "execution_count": 86,
   "metadata": {},
   "outputs": [],
   "source": [
    "from sklearn.preprocessing import MinMaxScaler\n",
    "from sklearn.preprocessing import StandardScaler\n",
    "\n",
    "from sklearn.cluster import DBSCAN\n",
    "\n",
    "class Clusterer(object):\n",
    "    \n",
    "    def __init__(self, eps):\n",
    "        self.eps = eps\n",
    "        \n",
    "    \n",
    "    def _preprocess(self, feature):\n",
    "        \n",
    "\n",
    "        ss = StandardScaler()\n",
    "        X = ss.fit_transform(feature[['ecd_pc1','tmd_pc1']].values)\n",
    "        \n",
    "        return X\n",
    "    \n",
    "    \n",
    "    def predict(self, feature):\n",
    "        \n",
    "        X = self._preprocess(feature)\n",
    "        \n",
    "        cl = DBSCAN(eps=self.eps, min_samples=1, algorithm='kd_tree')\n",
    "        labels = cl.fit_predict(X)\n",
    "        \n",
    "        return labels"
   ]
  },
  {
   "cell_type": "code",
   "execution_count": 87,
   "metadata": {},
   "outputs": [],
   "source": [
    "md_data['dbscan'] = 0\n",
    "from statistics import mode\n",
    "for system in range(8,16):\n",
    "    model = Clusterer(eps=0.2)\n",
    "    label = model.predict(md_data[md_data.system == system])\n",
    "    md_data.loc[md_data.system == system,'dbscan'] = label\n",
    "    md_data.loc[(md_data.system == system) & (md_data.dbscan != mode(label)),'dbscan'] = -1\n",
    "    md_data.loc[(md_data.system == system) & (md_data.dbscan == mode(label)),'dbscan'] = 0"
   ]
  },
  {
   "cell_type": "code",
   "execution_count": 18,
   "metadata": {},
   "outputs": [],
   "source": [
    "model = Clusterer(eps=0.2)\n",
    "label = model.predict(md_4HFI_46[md_data.system == 9])"
   ]
  },
  {
   "cell_type": "code",
   "execution_count": 93,
   "metadata": {},
   "outputs": [],
   "source": [
    "md_data = pd.read_pickle('clustered.pickle')"
   ]
  },
  {
   "cell_type": "code",
   "execution_count": 2,
   "metadata": {},
   "outputs": [],
   "source": [
    "traj_notes = ['5NJY_pH70_md1','5NJY_pH70_md2','5NJY_pH70_md3','5NJY_F238L_pH70_md1',\n",
    "                 '5NJY_F238L_pH70_md2','5NJY_F238L_pH70_md3','5NJY_I233T_pH70_md4',\n",
    "                  '5NJY_I233T_pH70_md2','5NJY_I233T_pH70_md3','5NJY_F238LI233T_pH70_md1',\n",
    "                  '5NJY_F238LI233T_pH70_md2','5NJY_F238LI233T_pH70_md3','5NJY_pH46_md1','5NJY_pH46_md2','5NJY_pH46_md3','5NJY_F238L_pH46_md1',\n",
    "                 '5NJY_F238L_pH46_md2','5NJY_F238L_pH46_md3','5NJY_I233T_pH46_md1',\n",
    "                  '5NJY_I233T_pH46_md2','5NJY_I233T_pH46_md3','5NJY_F238LI233T_pH46_md1',\n",
    "                  '5NJY_F238LI233T_pH46_md2','5NJY_F238LI233T_pH46_md3','4HFI_pH46_md1','4HFI_pH46_md2','4HFI_pH46_md3','4HFI_F238L_pH46_md1',\n",
    "                 '4HFI_F238L_pH46_md2','4HFI_F238L_pH46_md3','4HFI_I233T_pH46_md1',\n",
    "                  '4HFI_I233T_pH46_md2','4HFI_I233T_pH46_md3','4HFI_F238LI233T_pH46_md1',\n",
    "                  '4HFI_F238LI233T_pH46_md2','4HFI_F238LI233T_pH46_md3','4NPQ_pH70_md5','4NPQ_pH70_md6','4NPQ_pH70_md7','4NPQ_F238L_pH70_md3',\n",
    "                 '4NPQ_F238L_pH70_md4','4NPQ_F238L_pH70_md5','4NPQ_I233T_pH70_md3',\n",
    "                  '4NPQ_I233T_pH70_md4','4NPQ_I233T_pH70_md5','4NPQ_F238LI233T_pH70_md3',\n",
    "                  '4NPQ_F238LI233T_pH70_md4','4NPQ_F238LI233T_pH70_md5']"
   ]
  },
  {
   "cell_type": "code",
   "execution_count": 9,
   "metadata": {},
   "outputs": [],
   "source": [
    "def extract_after_40(traj_note):\n",
    "    location = '/media/scottzhuang/data/MD/'\n",
    "    top_location = traj_note + '/' + traj_note + \".system.pdb\"\n",
    "    traj_location = traj_note + '/' + traj_note + \".skip10.system.xtc\"\n",
    "    traj = md.load(location + traj_location,top= location + top_location)\n",
    "    traj[40].save_pdb(location + 'md_ensemble/' + traj_note + '/' + traj_note + \".system.40.pdb\")\n",
    "    traj[40:].save_xtc(location + 'md_ensemble/' + traj_note + '/' + traj_note + \".skip10.system.after40.xtc\")"
   ]
  },
  {
   "cell_type": "code",
   "execution_count": 10,
   "metadata": {},
   "outputs": [
    {
     "data": {
      "text/plain": [
       "[None,\n",
       " None,\n",
       " None,\n",
       " None,\n",
       " None,\n",
       " None,\n",
       " None,\n",
       " None,\n",
       " None,\n",
       " None,\n",
       " None,\n",
       " None,\n",
       " None,\n",
       " None,\n",
       " None,\n",
       " None,\n",
       " None,\n",
       " None,\n",
       " None,\n",
       " None,\n",
       " None,\n",
       " None,\n",
       " None,\n",
       " None,\n",
       " None,\n",
       " None,\n",
       " None,\n",
       " None,\n",
       " None,\n",
       " None,\n",
       " None,\n",
       " None,\n",
       " None,\n",
       " None,\n",
       " None,\n",
       " None,\n",
       " None,\n",
       " None,\n",
       " None,\n",
       " None,\n",
       " None,\n",
       " None,\n",
       " None,\n",
       " None,\n",
       " None,\n",
       " None,\n",
       " None,\n",
       " None]"
      ]
     },
     "execution_count": 10,
     "metadata": {},
     "output_type": "execute_result"
    }
   ],
   "source": [
    "from joblib import Parallel, delayed\n",
    "import multiprocessing\n",
    "num_cores = multiprocessing.cpu_count()\n",
    "Parallel(n_jobs=num_cores)(delayed(extract_after_40)(traj_note) for (traj_note) in traj_notes)"
   ]
  },
  {
   "cell_type": "code",
   "execution_count": null,
   "metadata": {},
   "outputs": [],
   "source": []
  },
  {
   "cell_type": "code",
   "execution_count": null,
   "metadata": {},
   "outputs": [],
   "source": [
    "location = '/media/scottzhuang/data/MD/'\n",
    "for traj_note in traj_notes:\n",
    "    top_location = traj_note + '/' + traj_note + \".protein.pdb\"\n",
    "    traj_location = traj_note + '/' + traj_note + \".skip1.protein.xtc\"\n",
    "    traj = md.load(location + traj_location,top= location + top_location)\n",
    "    traj[400].save_pdb(location + traj_note + '/' + traj_note + \".protein.400.pdb\")\n",
    "    traj[400:].save_xtc(location + traj_note + '/' + traj_note + \".skip1.protein.after400.xtc\")"
   ]
  },
  {
   "cell_type": "code",
   "execution_count": null,
   "metadata": {},
   "outputs": [],
   "source": []
  }
 ],
 "metadata": {
  "kernelspec": {
   "display_name": "deepchem",
   "language": "python",
   "name": "deepchem"
  },
  "language_info": {
   "codemirror_mode": {
    "name": "ipython",
    "version": 3
   },
   "file_extension": ".py",
   "mimetype": "text/x-python",
   "name": "python",
   "nbconvert_exporter": "python",
   "pygments_lexer": "ipython3",
   "version": "3.5.4"
  }
 },
 "nbformat": 4,
 "nbformat_minor": 2
}
