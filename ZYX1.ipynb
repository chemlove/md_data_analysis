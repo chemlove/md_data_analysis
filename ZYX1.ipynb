{
 "cells": [
  {
   "cell_type": "code",
   "execution_count": 2,
   "metadata": {},
   "outputs": [],
   "source": [
    "import mdtraj as md"
   ]
  },
  {
   "cell_type": "code",
   "execution_count": null,
   "metadata": {},
   "outputs": [],
   "source": []
  },
  {
   "cell_type": "code",
   "execution_count": 56,
   "metadata": {},
   "outputs": [],
   "source": [
    "default_location = '/media/scottzhuang/data/MD/md_prep/'\n",
    "\n",
    "ecd_traj_note = '4HFI_F238L_pH70_md1'\n",
    "top_location = ecd_traj_note + '/4HFI_F238L.pdb'\n",
    "ecd_traj = md.load(default_location + top_location)\n",
    "tmd_traj_note = '4NPQ_F238L_pH70_md3'\n",
    "top_location = tmd_traj_note + '/4npq_F238L_stablized.pdb'\n",
    "tmd_traj = md.load(default_location + top_location)"
   ]
  },
  {
   "cell_type": "code",
   "execution_count": 61,
   "metadata": {},
   "outputs": [],
   "source": [
    "tmd_traj = tmd_traj.atom_slice(tmd_traj.topology.select('not element H'))"
   ]
  },
  {
   "cell_type": "code",
   "execution_count": 78,
   "metadata": {},
   "outputs": [],
   "source": [
    "tmd_traj = tmd_traj.atom_slice(tmd_traj.topology.select('(not name OXT)'))"
   ]
  },
  {
   "cell_type": "code",
   "execution_count": 80,
   "metadata": {},
   "outputs": [],
   "source": [
    "tmd_traj.superpose(ecd_traj,0)\n",
    "ecd_traj = ecd_traj.atom_slice(ecd_traj.topology.select('resSeq 5 to 191'))\n",
    "tmd_traj = tmd_traj.atom_slice(tmd_traj.topology.select('resSeq 192 to 315'))\n",
    "traj = ecd_traj.stack(tmd_traj)\n"
   ]
  },
  {
   "cell_type": "code",
   "execution_count": 81,
   "metadata": {},
   "outputs": [],
   "source": [
    "traj.save_pdb('ZYX1_F238L.pdb')"
   ]
  },
  {
   "cell_type": "code",
   "execution_count": 37,
   "metadata": {},
   "outputs": [],
   "source": [
    "topology,bonds = traj.topology.to_dataframe()"
   ]
  },
  {
   "cell_type": "code",
   "execution_count": 38,
   "metadata": {},
   "outputs": [],
   "source": [
    "topology.iloc[16395:,5] = topology.iloc[16395:,5] - 5"
   ]
  },
  {
   "cell_type": "code",
   "execution_count": 42,
   "metadata": {},
   "outputs": [
    {
     "data": {
      "text/plain": [
       "16395    0\n",
       "16396    0\n",
       "16397    0\n",
       "16398    0\n",
       "16399    0\n",
       "16400    0\n",
       "16401    0\n",
       "16402    0\n",
       "16403    0\n",
       "16404    0\n",
       "16405    0\n",
       "16406    0\n",
       "16407    0\n",
       "16408    0\n",
       "16409    0\n",
       "16410    0\n",
       "16411    0\n",
       "16412    0\n",
       "16413    0\n",
       "16414    0\n",
       "16415    0\n",
       "16416    0\n",
       "16417    0\n",
       "16418    0\n",
       "16419    0\n",
       "16420    0\n",
       "16421    0\n",
       "16422    0\n",
       "16423    0\n",
       "16424    0\n",
       "        ..\n",
       "27755    4\n",
       "27756    4\n",
       "27757    4\n",
       "27758    4\n",
       "27759    4\n",
       "27760    4\n",
       "27761    4\n",
       "27762    4\n",
       "27763    4\n",
       "27764    4\n",
       "27765    4\n",
       "27766    4\n",
       "27767    4\n",
       "27768    4\n",
       "27769    4\n",
       "27770    4\n",
       "27771    4\n",
       "27772    4\n",
       "27773    4\n",
       "27774    4\n",
       "27775    4\n",
       "27776    4\n",
       "27777    4\n",
       "27778    4\n",
       "27779    4\n",
       "27780    4\n",
       "27781    4\n",
       "27782    4\n",
       "27783    4\n",
       "27784    4\n",
       "Name: chainID, Length: 11390, dtype: int64"
      ]
     },
     "execution_count": 42,
     "metadata": {},
     "output_type": "execute_result"
    }
   ],
   "source": [
    "topology.iloc[16395:,5]"
   ]
  },
  {
   "cell_type": "code",
   "execution_count": 39,
   "metadata": {},
   "outputs": [],
   "source": [
    "traj.topology = md.Topology.from_dataframe(topology)"
   ]
  },
  {
   "cell_type": "code",
   "execution_count": 40,
   "metadata": {},
   "outputs": [
    {
     "data": {
      "text/plain": [
       "<mdtraj.Trajectory with 1 frames, 27785 atoms, 1555 residues, and unitcells at 0x7f1d2fc3ed68>"
      ]
     },
     "execution_count": 40,
     "metadata": {},
     "output_type": "execute_result"
    }
   ],
   "source": [
    "traj"
   ]
  },
  {
   "cell_type": "code",
   "execution_count": null,
   "metadata": {},
   "outputs": [],
   "source": []
  }
 ],
 "metadata": {
  "kernelspec": {
   "display_name": "deepchem",
   "language": "python",
   "name": "deepchem"
  },
  "language_info": {
   "codemirror_mode": {
    "name": "ipython",
    "version": 3
   },
   "file_extension": ".py",
   "mimetype": "text/x-python",
   "name": "python",
   "nbconvert_exporter": "python",
   "pygments_lexer": "ipython3",
   "version": "3.5.4"
  }
 },
 "nbformat": 4,
 "nbformat_minor": 2
}
