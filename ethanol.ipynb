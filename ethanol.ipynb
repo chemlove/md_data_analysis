{
 "cells": [
  {
   "cell_type": "code",
   "execution_count": 1,
   "metadata": {},
   "outputs": [],
   "source": [
    "from __future__ import print_function\n",
    "%matplotlib inline\n",
    "import mdtraj as md\n",
    "import numpy as np\n",
    "import matplotlib\n",
    "import matplotlib.pyplot as plt\n",
    "import scipy.cluster.hierarchy\n",
    "from scipy.spatial.distance import squareform\n",
    "import pandas as pd\n",
    "import matplotlib.gridspec as gridspec\n",
    "from mpl_toolkits.mplot3d import Axes3D\n",
    "from sklearn.decomposition import PCA\n",
    "import warnings\n",
    "warnings.filterwarnings('ignore')\n",
    "import MDAnalysis as mda\n",
    "from statistics import mode\n",
    "import ast\n",
    "import msmexplorer as msme\n",
    "from msmbuilder.utils import load,dump\n",
    "import itertools\n",
    "from msmbuilder.featurizer import ContactFeaturizer\n",
    "from msmbuilder.featurizer import DihedralFeaturizer\n",
    "from sklearn.svm import SVC\n",
    "from sklearn.preprocessing import StandardScaler\n",
    "#XRD Ensemble\n",
    "#28 4NPQ\n",
    "#18 4HFI"
   ]
  },
  {
   "cell_type": "code",
   "execution_count": 2,
   "metadata": {},
   "outputs": [],
   "source": [
    "traj = md.load('pdc/4HFI_pH46_ethanol_md1/4HFI_pH46_ethanol_md1.skip10.system.xtc', top='pdc/4HFI_pH46_ethanol_md1/4HFI_pH46_ethanol_md1.system.gro')"
   ]
  },
  {
   "cell_type": "code",
   "execution_count": 3,
   "metadata": {},
   "outputs": [
    {
     "data": {
      "text/plain": [
       "48"
      ]
     },
     "execution_count": 3,
     "metadata": {},
     "output_type": "execute_result"
    }
   ],
   "source": [
    "traj.n_frames"
   ]
  },
  {
   "cell_type": "code",
   "execution_count": 4,
   "metadata": {},
   "outputs": [
    {
     "data": {
      "text/plain": [
       "5000.0"
      ]
     },
     "execution_count": 4,
     "metadata": {},
     "output_type": "execute_result"
    }
   ],
   "source": [
    "traj.timestep"
   ]
  },
  {
   "cell_type": "code",
   "execution_count": 5,
   "metadata": {},
   "outputs": [
    {
     "data": {
      "text/plain": [
       "array([      0.,    5000.,   10000.,   15000.,   20000.,   25000.,\n",
       "         30000.,   35000.,   40000.,   45000.,   50000.,   55000.,\n",
       "         60000.,   65000.,   70000.,   75000.,   80000.,   85000.,\n",
       "         90000.,   95000.,  100000.,  105000.,  110000.,  115000.,\n",
       "        120000.,  125000.,  130000.,  135000.,  140000.,  145000.,\n",
       "        150000.,  155000.,  160000.,  165000.,  170000.,  175000.,\n",
       "        180000.,  185000.,  190000.,  195000.,  200000.,  205000.,\n",
       "        210000.,  215000.,  220000.,  225000.,  230000.,  235000.], dtype=float32)"
      ]
     },
     "execution_count": 5,
     "metadata": {},
     "output_type": "execute_result"
    }
   ],
   "source": [
    "traj.time"
   ]
  },
  {
   "cell_type": "code",
   "execution_count": null,
   "metadata": {},
   "outputs": [],
   "source": []
  }
 ],
 "metadata": {
  "kernelspec": {
   "display_name": "deepchem",
   "language": "python",
   "name": "deepchem"
  },
  "language_info": {
   "codemirror_mode": {
    "name": "ipython",
    "version": 3
   },
   "file_extension": ".py",
   "mimetype": "text/x-python",
   "name": "python",
   "nbconvert_exporter": "python",
   "pygments_lexer": "ipython3",
   "version": "3.5.4"
  }
 },
 "nbformat": 4,
 "nbformat_minor": 2
}
