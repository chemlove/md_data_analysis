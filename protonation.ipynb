{
 "cells": [
  {
   "cell_type": "markdown",
   "metadata": {},
   "source": [
    "# Protonation State"
   ]
  },
  {
   "cell_type": "code",
   "execution_count": 2,
   "metadata": {},
   "outputs": [],
   "source": [
    "from __future__ import print_function\n",
    "%matplotlib inline\n",
    "import mdtraj as md\n",
    "import numpy as np\n",
    "import matplotlib\n",
    "import matplotlib.pyplot as plt\n",
    "import scipy.cluster.hierarchy\n",
    "from scipy.spatial.distance import squareform\n",
    "import pandas as pd\n",
    "import matplotlib.gridspec as gridspec\n",
    "from mpl_toolkits.mplot3d import Axes3D\n",
    "from sklearn.decomposition import PCA\n",
    "import warnings\n",
    "warnings.filterwarnings('ignore')\n",
    "import MDAnalysis as mda\n",
    "from statistics import mode\n",
    "import ast\n",
    "import msmexplorer as msme\n",
    "from msmbuilder.utils import load,dump\n",
    "import itertools\n",
    "from msmbuilder.featurizer import ContactFeaturizer\n",
    "from msmbuilder.featurizer import DihedralFeaturizer\n",
    "from sklearn.svm import SVC\n",
    "from sklearn.preprocessing import StandardScaler\n",
    "#XRD Ensemble\n",
    "#28 4NPQ\n",
    "#18 4HFI"
   ]
  },
  {
   "cell_type": "code",
   "execution_count": 3,
   "metadata": {},
   "outputs": [],
   "source": [
    "default_location = '/home/scottzhuang/pdc/'\n",
    "def extract_protonation_state(traj_note,location=default_location):\n",
    "    proton_num = {'ASP':20,'GLU':30,'HIS':30}\n",
    "    top_location = traj_note + '/' + traj_note + \".protein.gro\"\n",
    "    traj = md.load(default_location + top_location)\n",
    "    table, bonds = traj.topology.to_dataframe()\n",
    "    for resName in ['ASP','GLU','HIS']:\n",
    "        for resSeq in sorted(set(table[table.resName == resName]['resSeq'])):\n",
    "#            if table[(table.resName == resName) & (table.resSeq == resSeq) & (table.element == 'H')].shape[0] == proton_num[resName]:\n",
    "                \n",
    "#                print('Protonation state of resid ' + resName + ' ' + str(resSeq) + ' is 0')\n",
    "            if table[(table.resName == resName) & (table.resSeq == resSeq) & (table.element == 'H')].shape[0] == proton_num[resName] + 5:\n",
    "                print('Protonation state of resid ' + resName + ' ' + str(resSeq) + ' is 1')\n",
    "            if table[(table.resName == resName) & (table.resSeq == resSeq) & (table.element == 'H')].shape[0] == proton_num[resName] + 10:\n",
    "                print('Protonation state of resid ' + resName + ' ' + str(resSeq) + ' is 2')\n",
    "    print('Protonation state of other residues are 0.')"
   ]
  },
  {
   "cell_type": "code",
   "execution_count": 54,
   "metadata": {},
   "outputs": [
    {
     "name": "stdout",
     "output_type": "stream",
     "text": [
      "Protonation state of resid ASP 86 is 1\n",
      "Protonation state of resid ASP 88 is 1\n",
      "Protonation state of resid GLU 26 is 1\n",
      "Protonation state of resid GLU 35 is 1\n",
      "Protonation state of resid GLU 67 is 1\n",
      "Protonation state of resid GLU 75 is 1\n",
      "Protonation state of resid GLU 82 is 1\n",
      "Protonation state of resid GLU 177 is 1\n",
      "Protonation state of resid GLU 243 is 1\n",
      "Protonation state of resid HIS 127 is 1\n",
      "Protonation state of resid HIS 235 is 1\n",
      "Protonation state of resid HIS 277 is 2\n",
      "Other residues are 0.\n"
     ]
    }
   ],
   "source": [
    "traj_note = '4HFI_pH46_md4'\n",
    "extract_protonation_state(traj_note)"
   ]
  },
  {
   "cell_type": "code",
   "execution_count": 49,
   "metadata": {},
   "outputs": [
    {
     "name": "stdout",
     "output_type": "stream",
     "text": [
      "Protonation state of resid ASP 86 is 1\n",
      "Protonation state of resid ASP 88 is 1\n",
      "Protonation state of resid GLU 26 is 1\n",
      "Protonation state of resid GLU 35 is 1\n",
      "Protonation state of resid GLU 67 is 1\n",
      "Protonation state of resid GLU 75 is 1\n",
      "Protonation state of resid GLU 82 is 1\n",
      "Protonation state of resid GLU 177 is 1\n",
      "Protonation state of resid GLU 243 is 1\n",
      "Protonation state of resid HIS 127 is 1\n",
      "Protonation state of resid HIS 235 is 2\n",
      "Protonation state of resid HIS 277 is 2\n"
     ]
    }
   ],
   "source": [
    "traj_note = '4HFI_pH46_md7'\n",
    "extract_protonation_state(traj_note)"
   ]
  },
  {
   "cell_type": "code",
   "execution_count": 50,
   "metadata": {},
   "outputs": [
    {
     "name": "stdout",
     "output_type": "stream",
     "text": [
      "Protonation state of resid HIS 127 is 1\n",
      "Protonation state of resid HIS 235 is 1\n",
      "Protonation state of resid HIS 277 is 1\n"
     ]
    }
   ],
   "source": [
    "traj_note = '5NJY_pH70_md1'\n",
    "extract_protonation_state(traj_note)"
   ]
  },
  {
   "cell_type": "code",
   "execution_count": 51,
   "metadata": {},
   "outputs": [
    {
     "name": "stdout",
     "output_type": "stream",
     "text": [
      "Protonation state of resid HIS 127 is 1\n",
      "Protonation state of resid HIS 235 is 1\n",
      "Protonation state of resid HIS 277 is 1\n"
     ]
    }
   ],
   "source": [
    "traj_note = '4NPQ_pH70_md5'\n",
    "extract_protonation_state(traj_note)"
   ]
  },
  {
   "cell_type": "code",
   "execution_count": 56,
   "metadata": {},
   "outputs": [
    {
     "name": "stdout",
     "output_type": "stream",
     "text": [
      "Protonation state of resid ASP 86 is 1\n",
      "Protonation state of resid ASP 88 is 1\n",
      "Protonation state of resid GLU 26 is 1\n",
      "Protonation state of resid GLU 35 is 1\n",
      "Protonation state of resid GLU 67 is 1\n",
      "Protonation state of resid GLU 75 is 1\n",
      "Protonation state of resid GLU 82 is 1\n",
      "Protonation state of resid GLU 177 is 1\n",
      "Protonation state of resid GLU 243 is 1\n",
      "Protonation state of resid HIS 127 is 1\n",
      "Protonation state of resid HIS 235 is 1\n",
      "Protonation state of resid HIS 277 is 2\n",
      "Protonation state of other residues are 0.\n"
     ]
    }
   ],
   "source": [
    "traj_note = '4HFI_F238L_pH46_ethanol_md1'\n",
    "extract_protonation_state(traj_note)"
   ]
  },
  {
   "cell_type": "code",
   "execution_count": 58,
   "metadata": {},
   "outputs": [
    {
     "name": "stdout",
     "output_type": "stream",
     "text": [
      "Protonation state of resid ASP 86 is 1\n",
      "Protonation state of resid ASP 88 is 1\n",
      "Protonation state of resid GLU 26 is 1\n",
      "Protonation state of resid GLU 35 is 1\n",
      "Protonation state of resid GLU 67 is 1\n",
      "Protonation state of resid GLU 75 is 1\n",
      "Protonation state of resid GLU 82 is 1\n",
      "Protonation state of resid GLU 177 is 1\n",
      "Protonation state of resid GLU 243 is 1\n",
      "Protonation state of resid HIS 127 is 1\n",
      "Protonation state of resid HIS 235 is 2\n",
      "Protonation state of resid HIS 277 is 2\n",
      "Protonation state of other residues are 0.\n"
     ]
    }
   ],
   "source": [
    "traj_note = '4HFI_F238L_pH46_ethanol_md4'\n",
    "extract_protonation_state(traj_note)"
   ]
  },
  {
   "cell_type": "code",
   "execution_count": 59,
   "metadata": {},
   "outputs": [
    {
     "name": "stdout",
     "output_type": "stream",
     "text": [
      "Protonation state of resid ASP 86 is 1\n",
      "Protonation state of resid ASP 88 is 1\n",
      "Protonation state of resid GLU 26 is 1\n",
      "Protonation state of resid GLU 35 is 1\n",
      "Protonation state of resid GLU 67 is 1\n",
      "Protonation state of resid GLU 75 is 1\n",
      "Protonation state of resid GLU 82 is 1\n",
      "Protonation state of resid GLU 177 is 1\n",
      "Protonation state of resid GLU 243 is 1\n",
      "Protonation state of resid HIS 127 is 1\n",
      "Protonation state of resid HIS 235 is 1\n",
      "Protonation state of resid HIS 277 is 2\n",
      "Protonation state of other residues are 0.\n"
     ]
    }
   ],
   "source": [
    "traj_note = '4HFI_pH46_ethanol_md1'\n",
    "extract_protonation_state(traj_note)"
   ]
  },
  {
   "cell_type": "code",
   "execution_count": 60,
   "metadata": {},
   "outputs": [
    {
     "name": "stdout",
     "output_type": "stream",
     "text": [
      "Protonation state of resid ASP 86 is 1\n",
      "Protonation state of resid ASP 88 is 1\n",
      "Protonation state of resid GLU 26 is 1\n",
      "Protonation state of resid GLU 35 is 1\n",
      "Protonation state of resid GLU 67 is 1\n",
      "Protonation state of resid GLU 75 is 1\n",
      "Protonation state of resid GLU 82 is 1\n",
      "Protonation state of resid GLU 177 is 1\n",
      "Protonation state of resid GLU 243 is 1\n",
      "Protonation state of resid HIS 127 is 1\n",
      "Protonation state of resid HIS 235 is 1\n",
      "Protonation state of resid HIS 277 is 2\n",
      "Protonation state of other residues are 0.\n"
     ]
    }
   ],
   "source": [
    "traj_note = '4HFI_I233T_pH46_ethanol_md1'\n",
    "extract_protonation_state(traj_note)"
   ]
  },
  {
   "cell_type": "code",
   "execution_count": 4,
   "metadata": {},
   "outputs": [
    {
     "name": "stdout",
     "output_type": "stream",
     "text": [
      "Protonation state of resid ASP 86 is 1\n",
      "Protonation state of resid ASP 88 is 1\n",
      "Protonation state of resid GLU 26 is 1\n",
      "Protonation state of resid GLU 35 is 1\n",
      "Protonation state of resid GLU 67 is 1\n",
      "Protonation state of resid GLU 75 is 1\n",
      "Protonation state of resid GLU 82 is 1\n",
      "Protonation state of resid GLU 177 is 1\n",
      "Protonation state of resid GLU 243 is 1\n",
      "Protonation state of resid HIS 127 is 1\n",
      "Protonation state of resid HIS 235 is 1\n",
      "Protonation state of resid HIS 277 is 2\n",
      "Protonation state of other residues are 0.\n"
     ]
    }
   ],
   "source": [
    "traj_note = '4HFI_F238LI233T_pH46_ethanol_md1'\n",
    "extract_protonation_state(traj_note)"
   ]
  },
  {
   "cell_type": "code",
   "execution_count": 3,
   "metadata": {},
   "outputs": [
    {
     "name": "stdout",
     "output_type": "stream",
     "text": [
      "Protonation state of resid HIS 127 is 1\n",
      "Protonation state of resid HIS 235 is 1\n",
      "Protonation state of resid HIS 277 is 1\n",
      "Protonation state of other residues are 0.\n"
     ]
    }
   ],
   "source": [
    "proton_num = {'ASP':20,'GLU':30,'HIS':30}\n",
    "traj = md.load('/media/scottzhuang/data/MD/md_prep/4NPQ_pH70_md9/GLIC_pH70.pdb')\n",
    "table, bonds = traj.topology.to_dataframe()\n",
    "for resName in ['ASP','GLU','HIS']:\n",
    "    for resSeq in sorted(set(table[table.resName == resName]['resSeq'])):\n",
    "#            if table[(table.resName == resName) & (table.resSeq == resSeq) & (table.element == 'H')].shape[0] == proton_num[resName]:\n",
    "\n",
    "#                print('Protonation state of resid ' + resName + ' ' + str(resSeq) + ' is 0')\n",
    "        if table[(table.resName == resName) & (table.resSeq == resSeq) & (table.element == 'H')].shape[0] == proton_num[resName] + 5:\n",
    "            print('Protonation state of resid ' + resName + ' ' + str(resSeq) + ' is 1')\n",
    "        if table[(table.resName == resName) & (table.resSeq == resSeq) & (table.element == 'H')].shape[0] == proton_num[resName] + 10:\n",
    "            print('Protonation state of resid ' + resName + ' ' + str(resSeq) + ' is 2')\n",
    "print('Protonation state of other residues are 0.')"
   ]
  },
  {
   "cell_type": "code",
   "execution_count": null,
   "metadata": {},
   "outputs": [],
   "source": []
  }
 ],
 "metadata": {
  "kernelspec": {
   "display_name": "deepchem",
   "language": "python",
   "name": "deepchem"
  },
  "language_info": {
   "codemirror_mode": {
    "name": "ipython",
    "version": 3
   },
   "file_extension": ".py",
   "mimetype": "text/x-python",
   "name": "python",
   "nbconvert_exporter": "python",
   "pygments_lexer": "ipython3",
   "version": "3.5.4"
  }
 },
 "nbformat": 4,
 "nbformat_minor": 2
}
