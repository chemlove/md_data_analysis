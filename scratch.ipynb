{
 "cells": [
  {
   "cell_type": "code",
   "execution_count": 8,
   "metadata": {},
   "outputs": [],
   "source": [
    "import mdtraj as md\n",
    "import pickle\n",
    "import numpy as np\n",
    "import urllib"
   ]
  },
  {
   "cell_type": "code",
   "execution_count": 81,
   "metadata": {},
   "outputs": [
    {
     "data": {
      "text/plain": [
       "<mdtraj.Trajectory with 1 frames, 1008 atoms, 124 residues, and unitcells at 0x7f82565a99e8>"
      ]
     },
     "execution_count": 81,
     "metadata": {},
     "output_type": "execute_result"
    }
   ],
   "source": [
    "traj0 = traj.atom_slice(traj.topology.select('(chainid 0) and (mass > 2) and resSeq 192 to 315'))\n",
    "traj1 = traj.atom_slice(traj.topology.select('(chainid 0) and (mass > 2) and resSeq 192 to 315'))\n",
    "traj2 = traj.atom_slice(traj.topology.select('(chainid 0) and (mass > 2) and resSeq 192 to 315'))\n",
    "traj3 = traj.atom_slice(traj.topology.select('(chainid 0) and (mass > 2) and resSeq 192 to 315'))\n",
    "traj4 = traj.atom_slice(traj.topology.select('(chainid 0) and (mass > 2) and resSeq 192 to 315'))\n",
    "traj4.superpose(traj0)\n",
    "traj3.superpose(traj0)\n",
    "traj2.superpose(traj0)\n",
    "traj1.superpose(traj0)"
   ]
  },
  {
   "cell_type": "code",
   "execution_count": 19,
   "metadata": {},
   "outputs": [],
   "source": [
    "traj = md.load('4HFE.pdb')"
   ]
  },
  {
   "cell_type": "code",
   "execution_count": 44,
   "metadata": {},
   "outputs": [],
   "source": [
    "pdbs = ['4HFE','4HFI','4NPQ','5NJY','4QH5','4QH4','4QH1','4LML','4LMK','4LMJ','4IRE','4ILC','4ILB','4IL9','4IL4','4HFH','3UUB','3TLW','3TLV','2XQA',]"
   ]
  },
  {
   "cell_type": "code",
   "execution_count": 45,
   "metadata": {},
   "outputs": [
    {
     "data": {
      "text/plain": [
       "{'2XQA': [16, 3, 3, 16, 17],\n",
       " '3TLV': [1, 1, 1, 18, 1],\n",
       " '3TLW': [13, 13, 13, 13, 13],\n",
       " '3UUB': [7, 7, 7, 7, 7],\n",
       " '4HFE': [7, 7, 7, 7, 7],\n",
       " '4HFH': [7, 7, 7, 7, 7],\n",
       " '4HFI': [7, 7, 7, 7, 7],\n",
       " '4IL4': [7, 7, 7, 7, 7],\n",
       " '4IL9': [7, 7, 7, 7, 7],\n",
       " '4ILB': [7, 7, 7, 7, 7],\n",
       " '4ILC': [7, 7, 7, 7, 7],\n",
       " '4IRE': [7, 7, 7, 7, 7],\n",
       " '4LMJ': [6, 6, 6, 6, 6],\n",
       " '4LMK': [2, 2, 2, 2, 2],\n",
       " '4LML': [16, 16, 16, 16, 16],\n",
       " '4NPQ': [7, 7, 7, 7, 7],\n",
       " '4QH1': [7, 7, 7, 7, 7],\n",
       " '4QH4': [7, 7, 7, 7, 7],\n",
       " '4QH5': [7, 7, 7, 7, 7],\n",
       " '5NJY': [11, 11, 11, 11, 11]}"
      ]
     },
     "execution_count": 45,
     "metadata": {},
     "output_type": "execute_result"
    }
   ],
   "source": [
    "create_tica_cluster_data()"
   ]
  },
  {
   "cell_type": "code",
   "execution_count": 42,
   "metadata": {},
   "outputs": [],
   "source": [
    "def create_tica_cluster_data():\n",
    "    def append_tica_cluster_data(pdb):\n",
    "        traj = md.load(pdb + '.pdb')\n",
    "        traj_cluster_data = []\n",
    "        for subunit in range(0,5):\n",
    "            sliced_traj = traj.atom_slice(traj.topology.select('(mass > 2) and (resSeq 192 to 315) and chainid ' + str(subunit)))\n",
    "            diheds = featurizer.transform(sliced_traj)\n",
    "            scaled_diheds = scaler.transform(diheds)\n",
    "            tica_trajs = tica_model.transform(scaled_diheds)\n",
    "            label = cluster.predict(np.asarray(tica_trajs).ravel().reshape(int(np.asarray(tica_trajs).ravel().shape[0]/tica_model.n_components),tica_model.n_components))\n",
    "            traj_cluster_data.append(label)\n",
    "        cluster_data[pdb] = (list(np.asarray(traj_cluster_data).reshape(5,traj.n_frames).T.ravel()))\n",
    "    cluster_data = {}\n",
    "    featurizer = pickle.load(open('pdc/msm/F238L_subunit/featurizer_F238L_tmd.pickle','rb'))\n",
    "    scaler = pickle.load(open('pdc/msm/F238L_subunit/scaler_F238L_tmd.pickle','rb'))\n",
    "    tica_model = pickle.load(open('pdc/msm/F238L_subunit/tica_model_F238L_tmd.pickle','rb'))\n",
    "    cluster = pickle.load(open('pdc/msm/F238L_subunit/F238L_tmd_cluster.pickle','rb'))\n",
    "    for pdb in pdbs:\n",
    "        urllib.request.urlretrieve('https://files.rcsb.org/download/' + pdb + '.pdb',pdb + '.pdb')\n",
    "        try:\n",
    "            append_tica_cluster_data(pdb)\n",
    "        except:\n",
    "            print(pdb + ' not working')\n",
    "    return cluster_data"
   ]
  },
  {
   "cell_type": "code",
   "execution_count": null,
   "metadata": {},
   "outputs": [],
   "source": []
  },
  {
   "cell_type": "code",
   "execution_count": 28,
   "metadata": {},
   "outputs": [],
   "source": [
    "traj = md.load('/home/scottzhuang/pdc/mdpocket/4HFI_F238L_pH46_md4/4HFI_F238L_pH46_md4.tmd.intersubunit_01.xtc',top='/home/scottzhuang/pdc/mdpocket/4HFI_F238L_pH46_md4/4HFI_F238L_pH46_md4.tmd.intersubunit.pdb')"
   ]
  },
  {
   "cell_type": "code",
   "execution_count": null,
   "metadata": {},
   "outputs": [],
   "source": []
  },
  {
   "cell_type": "code",
   "execution_count": null,
   "metadata": {},
   "outputs": [],
   "source": [
    "traj = md.load('/home/scottzhuang/pdc/mdpocket/4HFI_F238L_pH46_md4/4HFI_F238L_pH46_md4.tmd.intersubunit_01.xtc',top='/home/scottzhuang/pdc/mdpocket/4HFI_F238L_pH46_md4/4HFI_F238L_pH46_md4.tmd.intersubunit.pdb')\n",
    "traj01 = md.load('/home/scottzhuang/pdc/mdpocket/4HFI_F238L_pH46_md4/4HFI_F238L_pH46_md5.tmd.intersubunit_01.xtc',top='/home/scottzhuang/pdc/mdpocket/4HFI_F238L_pH46_md4/4HFI_F238L_pH46_md5.tmd.intersubunit.pdb')\n",
    "traj12 = md.load('/home/scottzhuang/pdc/mdpocket/4HFI_F238L_pH46_md4/4HFI_F238L_pH46_md5.tmd.intersubunit_12.xtc',top='/home/scottzhuang/pdc/mdpocket/4HFI_F238L_pH46_md4/4HFI_F238L_pH46_md5.tmd.intersubunit.pdb')\n",
    "traj23 = md.load('/home/scottzhuang/pdc/mdpocket/4HFI_F238L_pH46_md4/4HFI_F238L_pH46_md5.tmd.intersubunit_23.xtc',top='/home/scottzhuang/pdc/mdpocket/4HFI_F238L_pH46_md4/4HFI_F238L_pH46_md5.tmd.intersubunit.pdb')\n",
    "traj34 = md.load('/home/scottzhuang/pdc/mdpocket/4HFI_F238L_pH46_md4/4HFI_F238L_pH46_md5.tmd.intersubunit_34.xtc',top='/home/scottzhuang/pdc/mdpocket/4HFI_F238L_pH46_md4/4HFI_F238L_pH46_md5.tmd.intersubunit.pdb')\n",
    "traj40= md.load('/home/scottzhuang/pdc/mdpocket/4HFI_F238L_pH46_md4/4HFI_F238L_pH46_md5.tmd.intersubunit_40.xtc',top='/home/scottzhuang/pdc/mdpocket/4HFI_F238L_pH46_md4/4HFI_F238L_pH46_md5.tmd.intersubunit.pdb')\n",
    "\n",
    "with open('/home/scottzhuang/pdc/mdpocket/4HFI_F238L_pH46_md4/pdblist_2.txt', 'w') as file:\n",
    "    for time in range(0,traj01.n_frames):\n",
    "        traj[time].save_pdb('/home/scottzhuang/pdc/mdpocket/4HFI_F238L_pH46_md4/mdpocket_'+ str(time) +'_01_md5.pdb')\n",
    "        file.write('mdpocket_'+ str(time) + '_01_md5.pdb' + '\\n')\n",
    "    for time in range(0,traj12.n_frames):\n",
    "        traj[time].save_pdb('/home/scottzhuang/pdc/mdpocket/4HFI_F238L_pH46_md4/mdpocket_'+ str(time) +'_12_md5.pdb')\n",
    "        file.write('mdpocket_'+ str(time) + '_12_md5.pdb' + '\\n')\n",
    "    for time in range(0,traj23.n_frames):\n",
    "        traj[time].save_pdb('/home/scottzhuang/pdc/mdpocket/4HFI_F238L_pH46_md4/mdpocket_'+ str(time) +'_23_md5.pdb')\n",
    "        file.write('mdpocket_'+ str(time) + '_23_md5.pdb' + '\\n')\n",
    "    for time in range(0,traj34.n_frames):\n",
    "        traj[time].save_pdb('/home/scottzhuang/pdc/mdpocket/4HFI_F238L_pH46_md4/mdpocket_'+ str(time) +'_34_md5.pdb')\n",
    "        file.write('mdpocket_'+ str(time) + '_34_md5.pdb' + '\\n')\n",
    "    for time in range(0,traj40.n_frames):\n",
    "        traj[time].save_pdb('/home/scottzhuang/pdc/mdpocket/4HFI_F238L_pH46_md4/mdpocket_'+ str(time) +'_40_md5.pdb')\n",
    "        file.write('mdpocket_'+ str(time) + '_40_md5.pdb' + '\\n')\n",
    "    file.close()"
   ]
  },
  {
   "cell_type": "code",
   "execution_count": 92,
   "metadata": {},
   "outputs": [],
   "source": [
    "traj = md.load('/media/scottzhuang/data/MD/md_prep/4NPQ_pH70_md8/ca.protein.pdb')"
   ]
  },
  {
   "cell_type": "code",
   "execution_count": 102,
   "metadata": {},
   "outputs": [],
   "source": [
    "traj0 = traj.atom_slice(traj.topology.select('(chainid 0)'))\n",
    "traj1 = traj.atom_slice(traj.topology.select('(chainid 1)'))\n",
    "traj2 = traj.atom_slice(traj.topology.select('(chainid 2)'))\n",
    "traj3 = traj.atom_slice(traj.topology.select('(chainid 3)'))\n",
    "traj4 = traj.atom_slice(traj.topology.select('(chainid 4)'))\n",
    "traj2prime = traj2\n",
    "traj2 = traj2.superpose(traj0)\n",
    "traj0prime = traj2\n",
    "traj2 = traj2.superpose(traj3)\n",
    "traj3prime = traj2\n",
    "traj2 = traj2.superpose(traj1)\n",
    "traj1prime =traj2\n",
    "traj2 =traj2.superpose(traj4)\n",
    "traj4prime = traj2"
   ]
  },
  {
   "cell_type": "code",
   "execution_count": 94,
   "metadata": {},
   "outputs": [],
   "source": [
    "traj.xyz = np.concatenate((traj0prime.xyz,traj1prime.xyz,traj2prime.xyz,traj3prime.xyz,traj4prime.xyz), axis=1)"
   ]
  },
  {
   "cell_type": "code",
   "execution_count": 95,
   "metadata": {},
   "outputs": [],
   "source": [
    "traj.save_pdb('/media/scottzhuang/data/MD/md_prep/4NPQ_pH70_md8/ca.fromchain2.protein.pdb')"
   ]
  },
  {
   "cell_type": "code",
   "execution_count": 84,
   "metadata": {},
   "outputs": [],
   "source": [
    "traj0prime.save_pdb('/media/scottzhuang/data/MD/md_prep/4NPQ_pH70_md8/ca.chain0.protein.pdb')\n",
    "traj1prime.save_pdb('/media/scottzhuang/data/MD/md_prep/4NPQ_pH70_md8/ca.chain1.protein.pdb')\n",
    "traj2.save_pdb('/media/scottzhuang/data/MD/md_prep/4NPQ_pH70_md8/ca.chain2.protein.pdb')\n",
    "traj3prime.save_pdb('/media/scottzhuang/data/MD/md_prep/4NPQ_pH70_md8/ca.chain3.protein.pdb')\n",
    "traj4prime.save_pdb('/media/scottzhuang/data/MD/md_prep/4NPQ_pH70_md8/ca.chain4.protein.pdb')\n"
   ]
  },
  {
   "cell_type": "code",
   "execution_count": null,
   "metadata": {},
   "outputs": [],
   "source": []
  }
 ],
 "metadata": {
  "kernelspec": {
   "display_name": "deepchem",
   "language": "python",
   "name": "deepchem"
  },
  "language_info": {
   "codemirror_mode": {
    "name": "ipython",
    "version": 3
   },
   "file_extension": ".py",
   "mimetype": "text/x-python",
   "name": "python",
   "nbconvert_exporter": "python",
   "pygments_lexer": "ipython3",
   "version": "3.5.4"
  }
 },
 "nbformat": 4,
 "nbformat_minor": 2
}
