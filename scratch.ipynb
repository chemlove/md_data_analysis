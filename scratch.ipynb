{
 "cells": [
  {
   "cell_type": "code",
   "execution_count": 1,
   "metadata": {},
   "outputs": [],
   "source": [
    "import mdtraj as md"
   ]
  },
  {
   "cell_type": "code",
   "execution_count": 60,
   "metadata": {},
   "outputs": [
    {
     "data": {
      "text/plain": [
       "15"
      ]
     },
     "execution_count": 60,
     "metadata": {},
     "output_type": "execute_result"
    }
   ],
   "source": [
    "traj_4HFE.topology.n_chains"
   ]
  },
  {
   "cell_type": "code",
   "execution_count": 81,
   "metadata": {},
   "outputs": [
    {
     "data": {
      "text/plain": [
       "<mdtraj.Trajectory with 1 frames, 1008 atoms, 124 residues, and unitcells at 0x7f82565a99e8>"
      ]
     },
     "execution_count": 81,
     "metadata": {},
     "output_type": "execute_result"
    }
   ],
   "source": [
    "traj0 = traj.atom_slice(traj.topology.select('(chainid 0) and (mass > 2) and resSeq 192 to 315'))\n",
    "traj1 = traj.atom_slice(traj.topology.select('(chainid 0) and (mass > 2) and resSeq 192 to 315'))\n",
    "traj2 = traj.atom_slice(traj.topology.select('(chainid 0) and (mass > 2) and resSeq 192 to 315'))\n",
    "traj3 = traj.atom_slice(traj.topology.select('(chainid 0) and (mass > 2) and resSeq 192 to 315'))\n",
    "traj4 = traj.atom_slice(traj.topology.select('(chainid 0) and (mass > 2) and resSeq 192 to 315'))\n",
    "traj4.superpose(traj0)\n",
    "traj3.superpose(traj0)\n",
    "traj2.superpose(traj0)\n",
    "traj1.superpose(traj0)"
   ]
  },
  {
   "cell_type": "code",
   "execution_count": 82,
   "metadata": {},
   "outputs": [],
   "source": [
    "traj0.save_pdb('4HFE_0.pdb')\n",
    "traj1.save_pdb('4HFE_1.pdb')\n",
    "traj2.save_pdb('4HFE_2.pdb')\n",
    "traj3.save_pdb('4HFE_3.pdb')\n",
    "traj4.save_pdb('4HFE_4.pdb')"
   ]
  },
  {
   "cell_type": "code",
   "execution_count": 33,
   "metadata": {},
   "outputs": [],
   "source": [
    "traj0.save_pdb('4HFI_0.pdb')\n",
    "traj1.save_pdb('4HFI_1.pdb')\n",
    "traj2.save_pdb('4HFI_2.pdb')\n",
    "traj3.save_pdb('4HFI_3.pdb')\n",
    "traj4.save_pdb('4HFI_4.pdb')"
   ]
  },
  {
   "cell_type": "code",
   "execution_count": 80,
   "metadata": {},
   "outputs": [],
   "source": [
    "traj = md.load('4HFE.pdb')"
   ]
  },
  {
   "cell_type": "code",
   "execution_count": 76,
   "metadata": {},
   "outputs": [],
   "source": [
    "import pickle"
   ]
  },
  {
   "cell_type": "code",
   "execution_count": 79,
   "metadata": {},
   "outputs": [],
   "source": [
    "cluster = pickle.load(open('pdc/msm/F238L_subunit/F238L_tmd_cluster.pickle','rb')) "
   ]
  },
  {
   "cell_type": "code",
   "execution_count": null,
   "metadata": {},
   "outputs": [],
   "source": [
    "cluster.predict()"
   ]
  },
  {
   "cell_type": "code",
   "execution_count": 70,
   "metadata": {},
   "outputs": [
    {
     "data": {
      "text/plain": [
       "<mdtraj.Trajectory with 1 frames, 1212 atoms, 303 residues, and unitcells at 0x7f8259f1cf28>"
      ]
     },
     "execution_count": 70,
     "metadata": {},
     "output_type": "execute_result"
    }
   ],
   "source": [
    "traj_4HFI"
   ]
  },
  {
   "cell_type": "code",
   "execution_count": 69,
   "metadata": {},
   "outputs": [],
   "source": [
    "traj_4HFI = traj_4HFI.atom_slice(traj_4HFI.topology.select('chainid 0 and resSeq 8 to 310 and backbone'))"
   ]
  },
  {
   "cell_type": "code",
   "execution_count": 68,
   "metadata": {},
   "outputs": [],
   "source": [
    "traj_4HFI = md.load('4HFI_pdb.pdb')"
   ]
  },
  {
   "cell_type": "code",
   "execution_count": 50,
   "metadata": {},
   "outputs": [
    {
     "data": {
      "text/plain": [
       "<mdtraj.Trajectory with 1 frames, 1212 atoms, 303 residues, and unitcells at 0x7f82565aef28>"
      ]
     },
     "execution_count": 50,
     "metadata": {},
     "output_type": "execute_result"
    }
   ],
   "source": [
    "traj1"
   ]
  },
  {
   "cell_type": "code",
   "execution_count": 28,
   "metadata": {},
   "outputs": [
    {
     "data": {
      "text/plain": [
       "<mdtraj.Trajectory with 1 frames, 1596 atoms, 399 residues, without unitcells at 0x7f8259b75c18>"
      ]
     },
     "execution_count": 28,
     "metadata": {},
     "output_type": "execute_result"
    }
   ],
   "source": [
    "traj3"
   ]
  },
  {
   "cell_type": "code",
   "execution_count": 75,
   "metadata": {},
   "outputs": [
    {
     "data": {
      "text/plain": [
       "array([ 0.02807166], dtype=float32)"
      ]
     },
     "execution_count": 75,
     "metadata": {},
     "output_type": "execute_result"
    }
   ],
   "source": [
    "md.rmsd(traj4,traj_4HFI)"
   ]
  },
  {
   "cell_type": "code",
   "execution_count": 37,
   "metadata": {},
   "outputs": [
    {
     "data": {
      "text/plain": [
       "array([ 0.03030629], dtype=float32)"
      ]
     },
     "execution_count": 37,
     "metadata": {},
     "output_type": "execute_result"
    }
   ],
   "source": [
    "md.rmsd(traj0,traj4)"
   ]
  },
  {
   "cell_type": "code",
   "execution_count": null,
   "metadata": {},
   "outputs": [],
   "source": []
  }
 ],
 "metadata": {
  "kernelspec": {
   "display_name": "deepchem",
   "language": "python",
   "name": "deepchem"
  },
  "language_info": {
   "codemirror_mode": {
    "name": "ipython",
    "version": 3
   },
   "file_extension": ".py",
   "mimetype": "text/x-python",
   "name": "python",
   "nbconvert_exporter": "python",
   "pygments_lexer": "ipython3",
   "version": "3.5.4"
  }
 },
 "nbformat": 4,
 "nbformat_minor": 2
}
